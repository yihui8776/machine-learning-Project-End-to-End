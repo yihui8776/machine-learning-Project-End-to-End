{
 "cells": [
  {
   "cell_type": "markdown",
   "metadata": {},
   "source": [
    "## 创建时间对象\n",
    "在 Pandas 中关于时间序列的常见对象有 6 种，分别是 Timestamp（时间戳）、DatetimeIndex（时间戳索引）、Period（时间段）、PeriodIndex（时间段索引）、以时间为元素的 Series 和以及以时间索引的 DataFrame。"
   ]
  },
  {
   "cell_type": "markdown",
   "metadata": {},
   "source": [
    "### 创建时间戳\n",
    "创建时间为 2018 年 10 月 1 日的时间戳。"
   ]
  },
  {
   "cell_type": "code",
   "execution_count": 3,
   "metadata": {},
   "outputs": [
    {
     "data": {
      "text/plain": [
       "Timestamp('2018-10-01 00:00:00')"
      ]
     },
     "execution_count": 3,
     "metadata": {},
     "output_type": "execute_result"
    }
   ],
   "source": [
    "import pandas as pd\n",
    "\n",
    "pd.Timestamp(2018, 10, 1)\n",
    "\n"
   ]
  },
  {
   "cell_type": "code",
   "execution_count": 5,
   "metadata": {},
   "outputs": [
    {
     "data": {
      "text/plain": [
       "Timestamp('2018-10-01 10:00:01')"
      ]
     },
     "execution_count": 5,
     "metadata": {},
     "output_type": "execute_result"
    }
   ],
   "source": [
    "#也可以使创建的时间精确到时分秒。\n",
    "pd.Timestamp(\"2018-10-1 10:00:1\")\n"
   ]
  },
  {
   "cell_type": "code",
   "execution_count": 7,
   "metadata": {},
   "outputs": [
    {
     "data": {
      "text/plain": [
       "Timestamp('2018-10-01 00:00:00')"
      ]
     },
     "execution_count": 7,
     "metadata": {},
     "output_type": "execute_result"
    }
   ],
   "source": [
    "from datetime import datetime\n",
    "\n",
    "pd.Timestamp(datetime(2018, 10, 1))"
   ]
  },
  {
   "cell_type": "markdown",
   "metadata": {},
   "source": [
    "### 创建时间段\n",
    " Period 时间段表示时间轴上的某一区间，"
   ]
  },
  {
   "cell_type": "code",
   "execution_count": 10,
   "metadata": {},
   "outputs": [
    {
     "data": {
      "text/plain": [
       "Period('2018-10', 'M')"
      ]
     },
     "execution_count": 10,
     "metadata": {},
     "output_type": "execute_result"
    }
   ],
   "source": [
    "pd.Period('2018-10')"
   ]
  },
  {
   "cell_type": "markdown",
   "metadata": {},
   "source": [
    "Period() 函数后面通常有两个参数，第二个 freq 参数决定时间段的分割长度。\n",
    "\n",
    "创建频率为日的时间段。"
   ]
  },
  {
   "cell_type": "code",
   "execution_count": 12,
   "metadata": {},
   "outputs": [
    {
     "data": {
      "text/plain": [
       "Period('2018-10-01', 'D')"
      ]
     },
     "execution_count": 12,
     "metadata": {},
     "output_type": "execute_result"
    }
   ],
   "source": [
    "pd.Period('2018-10', freq='D')"
   ]
  },
  {
   "cell_type": "markdown",
   "metadata": {},
   "source": [
    "###  创建时间元素的 Series"
   ]
  },
  {
   "cell_type": "markdown",
   "metadata": {},
   "source": [
    "Pandas 中常用 to_datetime() 函数可以创建以时间为元素的 Series。\n",
    "\n",
    "创建一个 Series，以三个时间的字符串作为元素。"
   ]
  },
  {
   "cell_type": "code",
   "execution_count": 14,
   "metadata": {},
   "outputs": [
    {
     "data": {
      "text/plain": [
       "DatetimeIndex(['2018-08-01', '2018-09-01', '2018-10-01'], dtype='datetime64[ns]', freq=None)"
      ]
     },
     "execution_count": 14,
     "metadata": {},
     "output_type": "execute_result"
    }
   ],
   "source": [
    "df = ['2018-08-01', '2018-09-01', '2018-10-01']\n",
    "pd.to_datetime(df)"
   ]
  },
  {
   "cell_type": "markdown",
   "metadata": {},
   "source": [
    "创建时间元素的 Series。"
   ]
  },
  {
   "cell_type": "code",
   "execution_count": 16,
   "metadata": {},
   "outputs": [
    {
     "data": {
      "text/plain": [
       "0   2018-09-30\n",
       "1   2018-10-01\n",
       "2          NaT\n",
       "dtype: datetime64[ns]"
      ]
     },
     "execution_count": 16,
     "metadata": {},
     "output_type": "execute_result"
    }
   ],
   "source": [
    "df = pd.Series(['Sep 30, 2018', '2018-10-1', None])\n",
    "pd.to_datetime(df)"
   ]
  },
  {
   "cell_type": "code",
   "execution_count": 18,
   "metadata": {},
   "outputs": [
    {
     "data": {
      "text/plain": [
       "0   2017-09-30 23:00:00\n",
       "1   2018-10-01 00:00:00\n",
       "dtype: datetime64[ns]"
      ]
     },
     "execution_count": 18,
     "metadata": {},
     "output_type": "execute_result"
    }
   ],
   "source": [
    "df = pd.DataFrame({'year': [2017, 2018],\n",
    "                   'month': [9, 10],\n",
    "                   'day': [30, 1],\n",
    "                   'hour': [23, 0]})\n",
    "pd.to_datetime(df)"
   ]
  },
  {
   "cell_type": "markdown",
   "metadata": {},
   "source": [
    "### 创建时间索引"
   ]
  },
  {
   "cell_type": "markdown",
   "metadata": {},
   "source": [
    "要生成带有时间戳的索引，可以使用 DatetimeIndex() 构造函数，并传入列表或 Series 对象："
   ]
  },
  {
   "cell_type": "code",
   "execution_count": 20,
   "metadata": {},
   "outputs": [
    {
     "data": {
      "text/plain": [
       "DatetimeIndex(['2018-08-01', '2018-09-01', '2018-10-01'], dtype='datetime64[ns]', freq=None)"
      ]
     },
     "execution_count": 20,
     "metadata": {},
     "output_type": "execute_result"
    }
   ],
   "source": [
    "dates = ['2018-08-01', '2018-09-01', '2018-10-01']\n",
    "index = pd.DatetimeIndex(dates)\n",
    "index"
   ]
  },
  {
   "cell_type": "markdown",
   "metadata": {},
   "source": [
    "使用 date_range() 和 bdate_range() 来批量创建相同时间间隔的时间戳索引。"
   ]
  },
  {
   "cell_type": "code",
   "execution_count": 22,
   "metadata": {},
   "outputs": [
    {
     "data": {
      "text/plain": [
       "DatetimeIndex(['2018-09-30', '2018-10-31', '2018-11-30', '2018-12-31',\n",
       "               '2019-01-31', '2019-02-28', '2019-03-31', '2019-04-30',\n",
       "               '2019-05-31', '2019-06-30',\n",
       "               ...\n",
       "               '2038-09-30', '2038-10-31', '2038-11-30', '2038-12-31',\n",
       "               '2039-01-31', '2039-02-28', '2039-03-31', '2039-04-30',\n",
       "               '2039-05-31', '2039-06-30'],\n",
       "              dtype='datetime64[ns]', length=250, freq='M')"
      ]
     },
     "execution_count": 22,
     "metadata": {},
     "output_type": "execute_result"
    }
   ],
   "source": [
    "#创建以 2018 年 9 月 30 日为开始的 250 条时间索引，相邻索引间隔时间长度为一个月。\n",
    "\n",
    "index = pd.date_range('2018-9-30', periods=250, freq='M')\n",
    "index"
   ]
  },
  {
   "cell_type": "code",
   "execution_count": 24,
   "metadata": {},
   "outputs": [
    {
     "data": {
      "text/plain": [
       "DatetimeIndex(['2018-10-01', '2018-10-02', '2018-10-03', '2018-10-04',\n",
       "               '2018-10-05', '2018-10-08', '2018-10-09', '2018-10-10',\n",
       "               '2018-10-11', '2018-10-12',\n",
       "               ...\n",
       "               '2019-02-19', '2019-02-20', '2019-02-21', '2019-02-22',\n",
       "               '2019-02-25', '2019-02-26', '2019-02-27', '2019-02-28',\n",
       "               '2019-03-01', '2019-03-04'],\n",
       "              dtype='datetime64[ns]', length=111, freq='B')"
      ]
     },
     "execution_count": 24,
     "metadata": {},
     "output_type": "execute_result"
    }
   ],
   "source": [
    "#创建以 2018 年 10 月 1 日为开始的 111 条时间索引，相邻索引间隔时间长度为一个工作日。\n",
    "index = pd.bdate_range('2018-10-1', periods=111)\n",
    "index"
   ]
  },
  {
   "cell_type": "markdown",
   "metadata": {},
   "source": [
    "在 date_range() 和 bdate_range() 中可以巧妙使用 start，end， periods，freq 等参数的各种组合轻松批量创建时间索引。"
   ]
  },
  {
   "cell_type": "code",
   "execution_count": 27,
   "metadata": {},
   "outputs": [
    {
     "data": {
      "text/plain": [
       "DatetimeIndex(['2017-10-01', '2017-10-08', '2017-10-15', '2017-10-22',\n",
       "               '2017-10-29', '2017-11-05', '2017-11-12', '2017-11-19',\n",
       "               '2017-11-26', '2017-12-03', '2017-12-10', '2017-12-17',\n",
       "               '2017-12-24', '2017-12-31', '2018-01-07', '2018-01-14',\n",
       "               '2018-01-21', '2018-01-28', '2018-02-04', '2018-02-11',\n",
       "               '2018-02-18', '2018-02-25', '2018-03-04', '2018-03-11',\n",
       "               '2018-03-18', '2018-03-25', '2018-04-01', '2018-04-08',\n",
       "               '2018-04-15', '2018-04-22', '2018-04-29', '2018-05-06',\n",
       "               '2018-05-13', '2018-05-20', '2018-05-27', '2018-06-03',\n",
       "               '2018-06-10', '2018-06-17', '2018-06-24', '2018-07-01',\n",
       "               '2018-07-08', '2018-07-15', '2018-07-22', '2018-07-29',\n",
       "               '2018-08-05', '2018-08-12', '2018-08-19', '2018-08-26',\n",
       "               '2018-09-02', '2018-09-09', '2018-09-16', '2018-09-23',\n",
       "               '2018-09-30'],\n",
       "              dtype='datetime64[ns]', freq='W-SUN')"
      ]
     },
     "execution_count": 27,
     "metadata": {},
     "output_type": "execute_result"
    }
   ],
   "source": [
    "#在 2017 年 10 月 1 日到 2018 年 10 月 1 日间，每隔一周创建一条索引。\n",
    "\n",
    "start = datetime(2017, 10, 1)\n",
    "end = datetime(2018, 10, 1)\n",
    "rng = pd.date_range(start, end, freq='W')\n",
    "rng\n",
    " "
   ]
  },
  {
   "cell_type": "code",
   "execution_count": 29,
   "metadata": {},
   "outputs": [
    {
     "data": {
      "text/plain": [
       "DatetimeIndex(['2017-10-17', '2017-10-18', '2017-10-19', '2017-10-20',\n",
       "               '2017-10-23', '2017-10-24', '2017-10-25', '2017-10-26',\n",
       "               '2017-10-27', '2017-10-30',\n",
       "               ...\n",
       "               '2018-09-18', '2018-09-19', '2018-09-20', '2018-09-21',\n",
       "               '2018-09-24', '2018-09-25', '2018-09-26', '2018-09-27',\n",
       "               '2018-09-28', '2018-10-01'],\n",
       "              dtype='datetime64[ns]', length=250, freq='B')"
      ]
     },
     "execution_count": 29,
     "metadata": {},
     "output_type": "execute_result"
    }
   ],
   "source": [
    "#从 2018 年 10 月 1 日向前每隔一个工作日创建一条索引，共 250 条。\n",
    "\n",
    "pd.bdate_range(end=end, periods=250)"
   ]
  },
  {
   "cell_type": "markdown",
   "metadata": {},
   "source": [
    "时间段也能作为索引使用，需要用到 period_range()"
   ]
  },
  {
   "cell_type": "code",
   "execution_count": 31,
   "metadata": {},
   "outputs": [
    {
     "data": {
      "text/plain": [
       "PeriodIndex(['2018-09-30', '2018-10-01', '2018-10-02', '2018-10-03',\n",
       "             '2018-10-04', '2018-10-05', '2018-10-06', '2018-10-07',\n",
       "             '2018-10-08', '2018-10-09',\n",
       "             ...\n",
       "             '2020-07-17', '2020-07-18', '2020-07-19', '2020-07-20',\n",
       "             '2020-07-21', '2020-07-22', '2020-07-23', '2020-07-24',\n",
       "             '2020-07-25', '2020-07-26'],\n",
       "            dtype='period[D]', length=666, freq='D')"
      ]
     },
     "execution_count": 31,
     "metadata": {},
     "output_type": "execute_result"
    }
   ],
   "source": [
    "#从 2018 年 9 月 30 日向后创建 666 条索引，相邻索引间隔时间长度为一天。\n",
    "\n",
    "pi = pd.period_range('2018-9-30', periods=666)\n",
    "pi\n"
   ]
  },
  {
   "cell_type": "markdown",
   "metadata": {},
   "source": [
    "### 创建以时间为索引的 Series 对象\n",
    "以时间为索引的 Series 对象指的是在该 Series 中，元素的索引不再是 1、2、3、4、5……这样的序号，而是有序的日期和时间。"
   ]
  },
  {
   "cell_type": "code",
   "execution_count": 33,
   "metadata": {},
   "outputs": [
    {
     "data": {
      "text/plain": [
       "2018-08-01   -0.485733\n",
       "2018-09-01   -0.392035\n",
       "2018-10-01   -0.244067\n",
       "dtype: float64"
      ]
     },
     "execution_count": 33,
     "metadata": {},
     "output_type": "execute_result"
    }
   ],
   "source": [
    "import numpy as np\n",
    "\n",
    "dates = [pd.Timestamp('2018-08-01'), pd.Timestamp('2018-09-01'),\n",
    "         pd.Timestamp('2018-10-01')]  # 创建三个时间元素。\n",
    "ts = pd.Series(np.random.randn(3), dates)   # 创建索引值为随机数的 Series 对象。\n",
    "ts"
   ]
  },
  {
   "cell_type": "markdown",
   "metadata": {},
   "source": [
    "同样，时间段也能作为索引。"
   ]
  },
  {
   "cell_type": "code",
   "execution_count": 35,
   "metadata": {},
   "outputs": [
    {
     "data": {
      "text/plain": [
       "2018-08   -2.030679\n",
       "2018-09    0.326162\n",
       "2018-10    0.474699\n",
       "Freq: M, dtype: float64"
      ]
     },
     "execution_count": 35,
     "metadata": {},
     "output_type": "execute_result"
    }
   ],
   "source": [
    "periods = [pd.Period('2018-08'), pd.Period('2018-09'), pd.Period('2018-10')]\n",
    "ts = pd.Series(np.random.randn(3), periods)\n",
    "ts"
   ]
  },
  {
   "cell_type": "markdown",
   "metadata": {},
   "source": [
    "我们可以批量创建索引后再创建以时间为索引的 Series 对象。创建索引值为随机数的 Series 对象，长度与 rng 长度相同。"
   ]
  },
  {
   "cell_type": "code",
   "execution_count": 37,
   "metadata": {},
   "outputs": [
    {
     "data": {
      "text/plain": [
       "2017-10-01    0.175092\n",
       "2017-10-08   -0.608876\n",
       "2017-10-15   -0.816188\n",
       "2017-10-22    0.397103\n",
       "2017-10-29   -0.045931\n",
       "2017-11-05   -0.936793\n",
       "2017-11-12   -1.133919\n",
       "2017-11-19   -0.701447\n",
       "2017-11-26    1.973049\n",
       "2017-12-03    0.422699\n",
       "2017-12-10   -0.541741\n",
       "2017-12-17    0.941419\n",
       "2017-12-24    0.384964\n",
       "2017-12-31   -0.321708\n",
       "2018-01-07    1.065130\n",
       "2018-01-14    0.731722\n",
       "2018-01-21    1.346510\n",
       "2018-01-28    2.576956\n",
       "2018-02-04    1.603230\n",
       "2018-02-11   -0.219826\n",
       "2018-02-18    0.144901\n",
       "2018-02-25   -0.362505\n",
       "2018-03-04    0.268617\n",
       "2018-03-11   -0.818253\n",
       "2018-03-18   -1.418906\n",
       "2018-03-25   -0.613693\n",
       "2018-04-01    1.645675\n",
       "2018-04-08   -0.194194\n",
       "2018-04-15    0.289849\n",
       "2018-04-22   -0.825105\n",
       "2018-04-29   -0.336129\n",
       "2018-05-06   -0.441837\n",
       "2018-05-13    1.834665\n",
       "2018-05-20   -0.362252\n",
       "2018-05-27   -1.922629\n",
       "2018-06-03   -0.612635\n",
       "2018-06-10    0.272754\n",
       "2018-06-17   -1.979914\n",
       "2018-06-24    0.796633\n",
       "2018-07-01    1.245055\n",
       "2018-07-08    0.322848\n",
       "2018-07-15    0.625114\n",
       "2018-07-22   -0.516095\n",
       "2018-07-29    0.408145\n",
       "2018-08-05    0.966737\n",
       "2018-08-12   -1.265460\n",
       "2018-08-19    0.169737\n",
       "2018-08-26    0.444514\n",
       "2018-09-02   -0.124294\n",
       "2018-09-09    0.150994\n",
       "2018-09-16    0.199316\n",
       "2018-09-23    0.909266\n",
       "2018-09-30    0.159117\n",
       "Freq: W-SUN, dtype: float64"
      ]
     },
     "execution_count": 37,
     "metadata": {},
     "output_type": "execute_result"
    }
   ],
   "source": [
    "ts = pd.Series(np.random.randn(len(rng)), index=rng)\n",
    "ts"
   ]
  },
  {
   "cell_type": "markdown",
   "metadata": {},
   "source": [
    "时间段也能作为索引创建 DataFrame 对象。"
   ]
  },
  {
   "cell_type": "code",
   "execution_count": 39,
   "metadata": {},
   "outputs": [
    {
     "data": {
      "text/html": [
       "<div>\n",
       "<style scoped>\n",
       "    .dataframe tbody tr th:only-of-type {\n",
       "        vertical-align: middle;\n",
       "    }\n",
       "\n",
       "    .dataframe tbody tr th {\n",
       "        vertical-align: top;\n",
       "    }\n",
       "\n",
       "    .dataframe thead th {\n",
       "        text-align: right;\n",
       "    }\n",
       "</style>\n",
       "<table border=\"1\" class=\"dataframe\">\n",
       "  <thead>\n",
       "    <tr style=\"text-align: right;\">\n",
       "      <th></th>\n",
       "      <th>A</th>\n",
       "    </tr>\n",
       "  </thead>\n",
       "  <tbody>\n",
       "    <tr>\n",
       "      <td>2017Q1</td>\n",
       "      <td>0.267775</td>\n",
       "    </tr>\n",
       "    <tr>\n",
       "      <td>2017Q2</td>\n",
       "      <td>0.112909</td>\n",
       "    </tr>\n",
       "    <tr>\n",
       "      <td>2017Q3</td>\n",
       "      <td>0.715634</td>\n",
       "    </tr>\n",
       "    <tr>\n",
       "      <td>2017Q4</td>\n",
       "      <td>0.664036</td>\n",
       "    </tr>\n",
       "    <tr>\n",
       "      <td>2018Q1</td>\n",
       "      <td>0.925104</td>\n",
       "    </tr>\n",
       "    <tr>\n",
       "      <td>2018Q2</td>\n",
       "      <td>0.003901</td>\n",
       "    </tr>\n",
       "    <tr>\n",
       "      <td>2018Q3</td>\n",
       "      <td>0.448498</td>\n",
       "    </tr>\n",
       "    <tr>\n",
       "      <td>2018Q4</td>\n",
       "      <td>0.363011</td>\n",
       "    </tr>\n",
       "  </tbody>\n",
       "</table>\n",
       "</div>"
      ],
      "text/plain": [
       "               A\n",
       "2017Q1  0.267775\n",
       "2017Q2  0.112909\n",
       "2017Q3  0.715634\n",
       "2017Q4  0.664036\n",
       "2018Q1  0.925104\n",
       "2018Q2  0.003901\n",
       "2018Q3  0.448498\n",
       "2018Q4  0.363011"
      ]
     },
     "execution_count": 39,
     "metadata": {},
     "output_type": "execute_result"
    }
   ],
   "source": [
    "#在 2017 年第一季度和 2018 年第四季度之间每隔一个季度创建一条索引。\n",
    "\n",
    "prng = pd.period_range('2017Q1', '2018Q4', freq='Q-NOV')\n",
    "# 行索引为时间段索引，列索引为 A。\n",
    "ps = pd.DataFrame(np.random.rand(len(prng)), columns=[\n",
    "                  'A'], index=prng)\n",
    "ps"
   ]
  },
  {
   "cell_type": "markdown",
   "metadata": {},
   "source": [
    "## 时间索引对象处理\n",
    "以时间戳为索引的 Series、DataFrame 对象具有与普通列表近乎相同的操作，且更具智能化。"
   ]
  },
  {
   "cell_type": "markdown",
   "metadata": {},
   "source": [
    "### 查找"
   ]
  },
  {
   "cell_type": "code",
   "execution_count": 41,
   "metadata": {},
   "outputs": [
    {
     "data": {
      "text/plain": [
       "2017-10-01    0.175092\n",
       "2017-10-08   -0.608876\n",
       "2017-10-15   -0.816188\n",
       "2017-10-22    0.397103\n",
       "2017-10-29   -0.045931\n",
       "2017-11-05   -0.936793\n",
       "2017-11-12   -1.133919\n",
       "2017-11-19   -0.701447\n",
       "2017-11-26    1.973049\n",
       "2017-12-03    0.422699\n",
       "2017-12-10   -0.541741\n",
       "2017-12-17    0.941419\n",
       "2017-12-24    0.384964\n",
       "2017-12-31   -0.321708\n",
       "2018-01-07    1.065130\n",
       "2018-01-14    0.731722\n",
       "2018-01-21    1.346510\n",
       "2018-01-28    2.576956\n",
       "2018-02-04    1.603230\n",
       "2018-02-11   -0.219826\n",
       "2018-02-18    0.144901\n",
       "2018-02-25   -0.362505\n",
       "2018-03-04    0.268617\n",
       "2018-03-11   -0.818253\n",
       "2018-03-18   -1.418906\n",
       "2018-03-25   -0.613693\n",
       "2018-04-01    1.645675\n",
       "2018-04-08   -0.194194\n",
       "2018-04-15    0.289849\n",
       "2018-04-22   -0.825105\n",
       "2018-04-29   -0.336129\n",
       "2018-05-06   -0.441837\n",
       "2018-05-13    1.834665\n",
       "2018-05-20   -0.362252\n",
       "2018-05-27   -1.922629\n",
       "2018-06-03   -0.612635\n",
       "2018-06-10    0.272754\n",
       "2018-06-17   -1.979914\n",
       "2018-06-24    0.796633\n",
       "2018-07-01    1.245055\n",
       "2018-07-08    0.322848\n",
       "2018-07-15    0.625114\n",
       "2018-07-22   -0.516095\n",
       "2018-07-29    0.408145\n",
       "2018-08-05    0.966737\n",
       "2018-08-12   -1.265460\n",
       "2018-08-19    0.169737\n",
       "2018-08-26    0.444514\n",
       "2018-09-02   -0.124294\n",
       "2018-09-09    0.150994\n",
       "2018-09-16    0.199316\n",
       "2018-09-23    0.909266\n",
       "2018-09-30    0.159117\n",
       "Freq: W-SUN, dtype: float64"
      ]
     },
     "execution_count": 41,
     "metadata": {},
     "output_type": "execute_result"
    }
   ],
   "source": [
    "#简单查找\n",
    "ts\n"
   ]
  },
  {
   "cell_type": "code",
   "execution_count": 44,
   "metadata": {},
   "outputs": [
    {
     "data": {
      "text/plain": [
       "2017-10-01    0.175092\n",
       "2017-10-08   -0.608876\n",
       "2017-10-15   -0.816188\n",
       "2017-10-22    0.397103\n",
       "2017-10-29   -0.045931\n",
       "2017-11-05   -0.936793\n",
       "2017-11-12   -1.133919\n",
       "2017-11-19   -0.701447\n",
       "2017-11-26    1.973049\n",
       "2017-12-03    0.422699\n",
       "Freq: W-SUN, dtype: float64"
      ]
     },
     "execution_count": 44,
     "metadata": {},
     "output_type": "execute_result"
    }
   ],
   "source": [
    "#前十条索引\n",
    "ts[:10]"
   ]
  },
  {
   "cell_type": "code",
   "execution_count": 46,
   "metadata": {},
   "outputs": [
    {
     "data": {
      "text/plain": [
       "2017-10-01    0.175092\n",
       "2017-10-15   -0.816188\n",
       "2017-10-29   -0.045931\n",
       "2017-11-12   -1.133919\n",
       "2017-11-26    1.973049\n",
       "2017-12-10   -0.541741\n",
       "2017-12-24    0.384964\n",
       "2018-01-07    1.065130\n",
       "2018-01-21    1.346510\n",
       "2018-02-04    1.603230\n",
       "2018-02-18    0.144901\n",
       "2018-03-04    0.268617\n",
       "2018-03-18   -1.418906\n",
       "2018-04-01    1.645675\n",
       "2018-04-15    0.289849\n",
       "2018-04-29   -0.336129\n",
       "2018-05-13    1.834665\n",
       "2018-05-27   -1.922629\n",
       "2018-06-10    0.272754\n",
       "2018-06-24    0.796633\n",
       "2018-07-08    0.322848\n",
       "2018-07-22   -0.516095\n",
       "2018-08-05    0.966737\n",
       "2018-08-19    0.169737\n",
       "2018-09-02   -0.124294\n",
       "2018-09-16    0.199316\n",
       "2018-09-30    0.159117\n",
       "Freq: 2W-SUN, dtype: float64"
      ]
     },
     "execution_count": 46,
     "metadata": {},
     "output_type": "execute_result"
    }
   ],
   "source": [
    "#每隔一条记录查找1条索引记录\n",
    "ts[::2]"
   ]
  },
  {
   "cell_type": "code",
   "execution_count": 48,
   "metadata": {},
   "outputs": [
    {
     "data": {
      "text/plain": [
       "2017-10-01    0.175092\n",
       "2017-10-15   -0.816188\n",
       "2017-11-12   -1.133919\n",
       "dtype: float64"
      ]
     },
     "execution_count": 48,
     "metadata": {},
     "output_type": "execute_result"
    }
   ],
   "source": [
    "#查找0，2,6条索引\n",
    "ts[[0,2,6]]"
   ]
  },
  {
   "cell_type": "code",
   "execution_count": 51,
   "metadata": {},
   "outputs": [
    {
     "data": {
      "text/plain": [
       "0.15911692561560709"
      ]
     },
     "execution_count": 51,
     "metadata": {},
     "output_type": "execute_result"
    }
   ],
   "source": [
    "#基于时间索引的精确查找。查找2018年9月30日的\n",
    "ts[\"09/30/2018\"]"
   ]
  },
  {
   "cell_type": "code",
   "execution_count": 53,
   "metadata": {},
   "outputs": [
    {
     "data": {
      "text/plain": [
       "0.15911692561560709"
      ]
     },
     "execution_count": 53,
     "metadata": {},
     "output_type": "execute_result"
    }
   ],
   "source": [
    "ts[datetime(2018,9,30)]"
   ]
  },
  {
   "cell_type": "code",
   "execution_count": 56,
   "metadata": {},
   "outputs": [
    {
     "data": {
      "text/plain": [
       "2017-10-01    0.175092\n",
       "2017-10-08   -0.608876\n",
       "2017-10-15   -0.816188\n",
       "2017-10-22    0.397103\n",
       "2017-10-29   -0.045931\n",
       "2017-11-05   -0.936793\n",
       "2017-11-12   -1.133919\n",
       "2017-11-19   -0.701447\n",
       "2017-11-26    1.973049\n",
       "2017-12-03    0.422699\n",
       "2017-12-10   -0.541741\n",
       "2017-12-17    0.941419\n",
       "2017-12-24    0.384964\n",
       "2017-12-31   -0.321708\n",
       "Freq: W-SUN, dtype: float64"
      ]
     },
     "execution_count": 56,
     "metadata": {},
     "output_type": "execute_result"
    }
   ],
   "source": [
    "#基于索引的范围查找，查找索引时间在2017年内所有的记录\n",
    "ts[\"2017\"]"
   ]
  },
  {
   "cell_type": "code",
   "execution_count": 58,
   "metadata": {},
   "outputs": [
    {
     "data": {
      "text/plain": [
       "2018-09-02   -0.124294\n",
       "2018-09-09    0.150994\n",
       "2018-09-16    0.199316\n",
       "2018-09-23    0.909266\n",
       "2018-09-30    0.159117\n",
       "Freq: W-SUN, dtype: float64"
      ]
     },
     "execution_count": 58,
     "metadata": {},
     "output_type": "execute_result"
    }
   ],
   "source": [
    "#查找索引时间在2018年9月内的所有记录\n",
    "ts[\"2018-9\"]"
   ]
  },
  {
   "cell_type": "code",
   "execution_count": 60,
   "metadata": {},
   "outputs": [
    {
     "data": {
      "text/html": [
       "<div>\n",
       "<style scoped>\n",
       "    .dataframe tbody tr th:only-of-type {\n",
       "        vertical-align: middle;\n",
       "    }\n",
       "\n",
       "    .dataframe tbody tr th {\n",
       "        vertical-align: top;\n",
       "    }\n",
       "\n",
       "    .dataframe thead th {\n",
       "        text-align: right;\n",
       "    }\n",
       "</style>\n",
       "<table border=\"1\" class=\"dataframe\">\n",
       "  <thead>\n",
       "    <tr style=\"text-align: right;\">\n",
       "      <th></th>\n",
       "      <th>A</th>\n",
       "    </tr>\n",
       "  </thead>\n",
       "  <tbody>\n",
       "    <tr>\n",
       "      <td>2017Q1</td>\n",
       "      <td>0.267775</td>\n",
       "    </tr>\n",
       "    <tr>\n",
       "      <td>2017Q2</td>\n",
       "      <td>0.112909</td>\n",
       "    </tr>\n",
       "    <tr>\n",
       "      <td>2017Q3</td>\n",
       "      <td>0.715634</td>\n",
       "    </tr>\n",
       "    <tr>\n",
       "      <td>2017Q4</td>\n",
       "      <td>0.664036</td>\n",
       "    </tr>\n",
       "    <tr>\n",
       "      <td>2018Q1</td>\n",
       "      <td>0.925104</td>\n",
       "    </tr>\n",
       "    <tr>\n",
       "      <td>2018Q2</td>\n",
       "      <td>0.003901</td>\n",
       "    </tr>\n",
       "    <tr>\n",
       "      <td>2018Q3</td>\n",
       "      <td>0.448498</td>\n",
       "    </tr>\n",
       "    <tr>\n",
       "      <td>2018Q4</td>\n",
       "      <td>0.363011</td>\n",
       "    </tr>\n",
       "  </tbody>\n",
       "</table>\n",
       "</div>"
      ],
      "text/plain": [
       "               A\n",
       "2017Q1  0.267775\n",
       "2017Q2  0.112909\n",
       "2017Q3  0.715634\n",
       "2017Q4  0.664036\n",
       "2018Q1  0.925104\n",
       "2018Q2  0.003901\n",
       "2018Q3  0.448498\n",
       "2018Q4  0.363011"
      ]
     },
     "execution_count": 60,
     "metadata": {},
     "output_type": "execute_result"
    }
   ],
   "source": [
    "#以时间段为索引的DataFrame对象的查找规则与以时间戳的相同\n",
    "ps\n"
   ]
  },
  {
   "cell_type": "code",
   "execution_count": 62,
   "metadata": {},
   "outputs": [
    {
     "data": {
      "text/html": [
       "<div>\n",
       "<style scoped>\n",
       "    .dataframe tbody tr th:only-of-type {\n",
       "        vertical-align: middle;\n",
       "    }\n",
       "\n",
       "    .dataframe tbody tr th {\n",
       "        vertical-align: top;\n",
       "    }\n",
       "\n",
       "    .dataframe thead th {\n",
       "        text-align: right;\n",
       "    }\n",
       "</style>\n",
       "<table border=\"1\" class=\"dataframe\">\n",
       "  <thead>\n",
       "    <tr style=\"text-align: right;\">\n",
       "      <th></th>\n",
       "      <th>A</th>\n",
       "    </tr>\n",
       "  </thead>\n",
       "  <tbody>\n",
       "    <tr>\n",
       "      <td>2017Q1</td>\n",
       "      <td>0.267775</td>\n",
       "    </tr>\n",
       "    <tr>\n",
       "      <td>2017Q2</td>\n",
       "      <td>0.112909</td>\n",
       "    </tr>\n",
       "    <tr>\n",
       "      <td>2017Q3</td>\n",
       "      <td>0.715634</td>\n",
       "    </tr>\n",
       "    <tr>\n",
       "      <td>2017Q4</td>\n",
       "      <td>0.664036</td>\n",
       "    </tr>\n",
       "    <tr>\n",
       "      <td>2018Q1</td>\n",
       "      <td>0.925104</td>\n",
       "    </tr>\n",
       "  </tbody>\n",
       "</table>\n",
       "</div>"
      ],
      "text/plain": [
       "               A\n",
       "2017Q1  0.267775\n",
       "2017Q2  0.112909\n",
       "2017Q3  0.715634\n",
       "2017Q4  0.664036\n",
       "2018Q1  0.925104"
      ]
     },
     "execution_count": 62,
     "metadata": {},
     "output_type": "execute_result"
    }
   ],
   "source": [
    "#2018 年的第一个季度规定为 2017 年的 12 月初到 2018 年的 2 月末。\n",
    "\n",
    "#查找 2017 年内的所有季度的记录。\n",
    "ps[\"2017\"]"
   ]
  },
  {
   "cell_type": "code",
   "execution_count": 64,
   "metadata": {},
   "outputs": [
    {
     "data": {
      "text/html": [
       "<div>\n",
       "<style scoped>\n",
       "    .dataframe tbody tr th:only-of-type {\n",
       "        vertical-align: middle;\n",
       "    }\n",
       "\n",
       "    .dataframe tbody tr th {\n",
       "        vertical-align: top;\n",
       "    }\n",
       "\n",
       "    .dataframe thead th {\n",
       "        text-align: right;\n",
       "    }\n",
       "</style>\n",
       "<table border=\"1\" class=\"dataframe\">\n",
       "  <thead>\n",
       "    <tr style=\"text-align: right;\">\n",
       "      <th></th>\n",
       "      <th>A</th>\n",
       "    </tr>\n",
       "  </thead>\n",
       "  <tbody>\n",
       "    <tr>\n",
       "      <td>2017Q1</td>\n",
       "      <td>0.267775</td>\n",
       "    </tr>\n",
       "    <tr>\n",
       "      <td>2017Q2</td>\n",
       "      <td>0.112909</td>\n",
       "    </tr>\n",
       "    <tr>\n",
       "      <td>2017Q3</td>\n",
       "      <td>0.715634</td>\n",
       "    </tr>\n",
       "    <tr>\n",
       "      <td>2017Q4</td>\n",
       "      <td>0.664036</td>\n",
       "    </tr>\n",
       "    <tr>\n",
       "      <td>2018Q1</td>\n",
       "      <td>0.925104</td>\n",
       "    </tr>\n",
       "  </tbody>\n",
       "</table>\n",
       "</div>"
      ],
      "text/plain": [
       "               A\n",
       "2017Q1  0.267775\n",
       "2017Q2  0.112909\n",
       "2017Q3  0.715634\n",
       "2017Q4  0.664036\n",
       "2018Q1  0.925104"
      ]
     },
     "execution_count": 64,
     "metadata": {},
     "output_type": "execute_result"
    }
   ],
   "source": [
    "#查找2017年12月31日前的所哟季度的记录\n",
    "ps[:datetime(2017,12,31)]"
   ]
  },
  {
   "cell_type": "code",
   "execution_count": 66,
   "metadata": {},
   "outputs": [
    {
     "data": {
      "text/html": [
       "<div>\n",
       "<style scoped>\n",
       "    .dataframe tbody tr th:only-of-type {\n",
       "        vertical-align: middle;\n",
       "    }\n",
       "\n",
       "    .dataframe tbody tr th {\n",
       "        vertical-align: top;\n",
       "    }\n",
       "\n",
       "    .dataframe thead th {\n",
       "        text-align: right;\n",
       "    }\n",
       "</style>\n",
       "<table border=\"1\" class=\"dataframe\">\n",
       "  <thead>\n",
       "    <tr style=\"text-align: right;\">\n",
       "      <th></th>\n",
       "      <th>A</th>\n",
       "    </tr>\n",
       "  </thead>\n",
       "  <tbody>\n",
       "    <tr>\n",
       "      <td>2018Q3</td>\n",
       "      <td>0.448498</td>\n",
       "    </tr>\n",
       "  </tbody>\n",
       "</table>\n",
       "</div>"
      ],
      "text/plain": [
       "               A\n",
       "2018Q3  0.448498"
      ]
     },
     "execution_count": 66,
     "metadata": {},
     "output_type": "execute_result"
    }
   ],
   "source": [
    "#查找2018年6月内的所有季度的记录\n",
    "ps[\"2018-06\"]"
   ]
  },
  {
   "cell_type": "markdown",
   "metadata": {},
   "source": [
    "### 切片"
   ]
  },
  {
   "cell_type": "code",
   "execution_count": 68,
   "metadata": {},
   "outputs": [
    {
     "data": {
      "text/plain": [
       "2017-11-26    1.973049\n",
       "2017-12-03    0.422699\n",
       "2017-12-10   -0.541741\n",
       "2017-12-17    0.941419\n",
       "2017-12-24    0.384964\n",
       "2017-12-31   -0.321708\n",
       "2018-01-07    1.065130\n",
       "2018-01-14    0.731722\n",
       "2018-01-21    1.346510\n",
       "2018-01-28    2.576956\n",
       "2018-02-04    1.603230\n",
       "2018-02-11   -0.219826\n",
       "2018-02-18    0.144901\n",
       "2018-02-25   -0.362505\n",
       "2018-03-04    0.268617\n",
       "2018-03-11   -0.818253\n",
       "2018-03-18   -1.418906\n",
       "2018-03-25   -0.613693\n",
       "2018-04-01    1.645675\n",
       "2018-04-08   -0.194194\n",
       "2018-04-15    0.289849\n",
       "2018-04-22   -0.825105\n",
       "2018-04-29   -0.336129\n",
       "Freq: W-SUN, dtype: float64"
      ]
     },
     "execution_count": 68,
     "metadata": {},
     "output_type": "execute_result"
    }
   ],
   "source": [
    "#切下2017年11月26日与2018年4月29日间的记录\n",
    "ts.truncate(before=\"11/26/2017\",after=\"4/29/2018\")"
   ]
  },
  {
   "cell_type": "markdown",
   "metadata": {},
   "source": [
    "### 移动\n",
    "将时间索引Series中的值向前和向后移动"
   ]
  },
  {
   "cell_type": "code",
   "execution_count": 70,
   "metadata": {},
   "outputs": [
    {
     "data": {
      "text/plain": [
       "2017-10-01    0.175092\n",
       "2017-10-08   -0.608876\n",
       "2017-10-15   -0.816188\n",
       "2017-10-22    0.397103\n",
       "2017-10-29   -0.045931\n",
       "Freq: W-SUN, dtype: float64"
      ]
     },
     "execution_count": 70,
     "metadata": {},
     "output_type": "execute_result"
    }
   ],
   "source": [
    "ts = ts[:5]\n",
    "ts"
   ]
  },
  {
   "cell_type": "code",
   "execution_count": 72,
   "metadata": {},
   "outputs": [
    {
     "data": {
      "text/plain": [
       "2017-10-01         NaN\n",
       "2017-10-08    0.175092\n",
       "2017-10-15   -0.608876\n",
       "2017-10-22   -0.816188\n",
       "2017-10-29    0.397103\n",
       "Freq: W-SUN, dtype: float64"
      ]
     },
     "execution_count": 72,
     "metadata": {},
     "output_type": "execute_result"
    }
   ],
   "source": [
    "#向下移动\n",
    "ts.shift(1)"
   ]
  },
  {
   "cell_type": "code",
   "execution_count": 74,
   "metadata": {},
   "outputs": [
    {
     "data": {
      "text/plain": [
       "2017-10-01   -0.816188\n",
       "2017-10-08    0.397103\n",
       "2017-10-15   -0.045931\n",
       "2017-10-22         NaN\n",
       "2017-10-29         NaN\n",
       "Freq: W-SUN, dtype: float64"
      ]
     },
     "execution_count": 74,
     "metadata": {},
     "output_type": "execute_result"
    }
   ],
   "source": [
    "#向上\n",
    "ts.shift(-2)"
   ]
  },
  {
   "cell_type": "code",
   "execution_count": 76,
   "metadata": {},
   "outputs": [
    {
     "data": {
      "text/plain": [
       "2017-10-08    0.175092\n",
       "2017-10-15   -0.608876\n",
       "2017-10-22   -0.816188\n",
       "2017-10-29    0.397103\n",
       "2017-11-05   -0.045931\n",
       "Freq: W-SUN, dtype: float64"
      ]
     },
     "execution_count": 76,
     "metadata": {},
     "output_type": "execute_result"
    }
   ],
   "source": [
    "#除了元素可以移动，索引本身也能被移动\n",
    "ts.shift(1,freq='W')"
   ]
  },
  {
   "cell_type": "markdown",
   "metadata": {},
   "source": [
    "### 重采样\n",
    "重采样可以通俗得理解为改变时间索引的个数，通过增大或减小相邻索引的时间间隔以达到减小或增加索引数量的效果，在 Pandas 中使用 resample() 函数。\n",
    "\n",
    "#### 下采样：\n",
    "增大时间间隔，减少记录的数量。"
   ]
  },
  {
   "cell_type": "code",
   "execution_count": 78,
   "metadata": {},
   "outputs": [
    {
     "data": {
      "text/plain": [
       "2018-10-01    38\n",
       "2018-10-02    43\n",
       "2018-10-03    35\n",
       "2018-10-04    41\n",
       "2018-10-05    45\n",
       "2018-10-06    21\n",
       "2018-10-07    22\n",
       "2018-10-08    42\n",
       "2018-10-09    30\n",
       "2018-10-10     3\n",
       "Freq: D, dtype: int64"
      ]
     },
     "execution_count": 78,
     "metadata": {},
     "output_type": "execute_result"
    }
   ],
   "source": [
    "#创建从2018年10月1日开始的日间隔索引的Series\n",
    "rng = pd.date_range('10/1/2018',periods=10,freq='D')\n",
    "ts = pd.Series(np.random.randint(0,50,len(rng)),index=rng)\n",
    "ts"
   ]
  },
  {
   "cell_type": "code",
   "execution_count": 80,
   "metadata": {},
   "outputs": [
    {
     "data": {
      "text/plain": [
       "2018-10-07    245\n",
       "2018-10-14     75\n",
       "Freq: W-SUN, dtype: int64"
      ]
     },
     "execution_count": 80,
     "metadata": {},
     "output_type": "execute_result"
    }
   ],
   "source": [
    "#扩大为周索引\n",
    "ts.resample('W').sum()"
   ]
  },
  {
   "cell_type": "code",
   "execution_count": 82,
   "metadata": {},
   "outputs": [
    {
     "data": {
      "text/plain": [
       "2018-10-07    35\n",
       "2018-10-14    25\n",
       "Freq: W-SUN, dtype: int64"
      ]
     },
     "execution_count": 82,
     "metadata": {},
     "output_type": "execute_result"
    }
   ],
   "source": [
    "ts.resample('W').mean()"
   ]
  },
  {
   "cell_type": "code",
   "execution_count": 84,
   "metadata": {},
   "outputs": [
    {
     "data": {
      "text/html": [
       "<div>\n",
       "<style scoped>\n",
       "    .dataframe tbody tr th:only-of-type {\n",
       "        vertical-align: middle;\n",
       "    }\n",
       "\n",
       "    .dataframe tbody tr th {\n",
       "        vertical-align: top;\n",
       "    }\n",
       "\n",
       "    .dataframe thead th {\n",
       "        text-align: right;\n",
       "    }\n",
       "</style>\n",
       "<table border=\"1\" class=\"dataframe\">\n",
       "  <thead>\n",
       "    <tr style=\"text-align: right;\">\n",
       "      <th></th>\n",
       "      <th>open</th>\n",
       "      <th>high</th>\n",
       "      <th>low</th>\n",
       "      <th>close</th>\n",
       "    </tr>\n",
       "  </thead>\n",
       "  <tbody>\n",
       "    <tr>\n",
       "      <td>2018-10-07</td>\n",
       "      <td>38</td>\n",
       "      <td>45</td>\n",
       "      <td>21</td>\n",
       "      <td>22</td>\n",
       "    </tr>\n",
       "    <tr>\n",
       "      <td>2018-10-14</td>\n",
       "      <td>42</td>\n",
       "      <td>42</td>\n",
       "      <td>3</td>\n",
       "      <td>3</td>\n",
       "    </tr>\n",
       "  </tbody>\n",
       "</table>\n",
       "</div>"
      ],
      "text/plain": [
       "            open  high  low  close\n",
       "2018-10-07    38    45   21     22\n",
       "2018-10-14    42    42    3      3"
      ]
     },
     "execution_count": 84,
     "metadata": {},
     "output_type": "execute_result"
    }
   ],
   "source": [
    "#统计所用未被采样值\n",
    "ts.resample('W').ohlc()"
   ]
  },
  {
   "cell_type": "markdown",
   "metadata": {},
   "source": [
    "####  上采样：\n",
    "减小时间间隔频率，增加记录的数量。"
   ]
  },
  {
   "cell_type": "code",
   "execution_count": 86,
   "metadata": {},
   "outputs": [
    {
     "data": {
      "text/plain": [
       "2018-10-01 00:00:00    38.0\n",
       "2018-10-01 12:00:00     NaN\n",
       "2018-10-02 00:00:00    43.0\n",
       "2018-10-02 12:00:00     NaN\n",
       "2018-10-03 00:00:00    35.0\n",
       "2018-10-03 12:00:00     NaN\n",
       "2018-10-04 00:00:00    41.0\n",
       "2018-10-04 12:00:00     NaN\n",
       "2018-10-05 00:00:00    45.0\n",
       "2018-10-05 12:00:00     NaN\n",
       "2018-10-06 00:00:00    21.0\n",
       "2018-10-06 12:00:00     NaN\n",
       "2018-10-07 00:00:00    22.0\n",
       "2018-10-07 12:00:00     NaN\n",
       "2018-10-08 00:00:00    42.0\n",
       "2018-10-08 12:00:00     NaN\n",
       "2018-10-09 00:00:00    30.0\n",
       "2018-10-09 12:00:00     NaN\n",
       "2018-10-10 00:00:00     3.0\n",
       "Freq: 12H, dtype: float64"
      ]
     },
     "execution_count": 86,
     "metadata": {},
     "output_type": "execute_result"
    }
   ],
   "source": [
    "#原来间隔为日的索引列，间隔被缩小成 12 小时，增加采样点的值为空值。\n",
    "\n",
    "ts.resample('12H').asfreq()"
   ]
  },
  {
   "cell_type": "code",
   "execution_count": 88,
   "metadata": {},
   "outputs": [
    {
     "data": {
      "text/plain": [
       "2018-10-01 00:00:00    38\n",
       "2018-10-01 12:00:00    38\n",
       "2018-10-02 00:00:00    43\n",
       "2018-10-02 12:00:00    43\n",
       "2018-10-03 00:00:00    35\n",
       "2018-10-03 12:00:00    35\n",
       "2018-10-04 00:00:00    41\n",
       "2018-10-04 12:00:00    41\n",
       "2018-10-05 00:00:00    45\n",
       "2018-10-05 12:00:00    45\n",
       "2018-10-06 00:00:00    21\n",
       "2018-10-06 12:00:00    21\n",
       "2018-10-07 00:00:00    22\n",
       "2018-10-07 12:00:00    22\n",
       "2018-10-08 00:00:00    42\n",
       "2018-10-08 12:00:00    42\n",
       "2018-10-09 00:00:00    30\n",
       "2018-10-09 12:00:00    30\n",
       "2018-10-10 00:00:00     3\n",
       "Freq: 12H, dtype: int64"
      ]
     },
     "execution_count": 88,
     "metadata": {},
     "output_type": "execute_result"
    }
   ],
   "source": [
    "#ffill() 函数可以将新增的索引值以相邻的前一条索引值进行填充。\n",
    "\n",
    "ts.resample('12H').ffill()"
   ]
  },
  {
   "attachments": {
    "image.png": {
     "image/png": "[encoded data removed]"
    }
   },
   "cell_type": "markdown",
   "metadata": {},
   "source": [
    "## 时间的算术方法\n",
    "### 常用时间的算术规则\n",
    "\n",
    " ![image.png](attachment:image.png)"
   ]
  },
  {
   "cell_type": "code",
   "execution_count": 91,
   "metadata": {},
   "outputs": [
    {
     "data": {
      "text/plain": [
       "Timestamp('2018-10-01 10:01:01')"
      ]
     },
     "execution_count": 91,
     "metadata": {},
     "output_type": "execute_result"
    }
   ],
   "source": [
    "import pandas.tseries.offsets\n",
    "d = pd.Timestamp(2018,10,1,10,1,1)\n",
    "d"
   ]
  },
  {
   "cell_type": "markdown",
   "metadata": {},
   "source": [
    "使用 DateOffset() 实现时间戳位移。\n"
   ]
  },
  {
   "cell_type": "code",
   "execution_count": 93,
   "metadata": {},
   "outputs": [
    {
     "data": {
      "text/plain": [
       "Timestamp('2018-11-03 10:01:01')"
      ]
     },
     "execution_count": 93,
     "metadata": {},
     "output_type": "execute_result"
    }
   ],
   "source": [
    "#向后移动一个月零两天。\n",
    "\n",
    "from pandas.tseries.offsets import DateOffset\n",
    "\n",
    "d + DateOffset(months=1, days=2)"
   ]
  },
  {
   "cell_type": "code",
   "execution_count": 95,
   "metadata": {},
   "outputs": [
    {
     "data": {
      "text/plain": [
       "Timestamp('2018-09-17 10:01:01')"
      ]
     },
     "execution_count": 95,
     "metadata": {},
     "output_type": "execute_result"
    }
   ],
   "source": [
    "#也可以用时间戳加减常用时间类以实现时间戳位移。向前移动 10 个工作日。\n",
    "\n",
    "from pandas.tseries.offsets import BDay\n",
    "\n",
    "d - 10 * BDay()"
   ]
  },
  {
   "cell_type": "code",
   "execution_count": 97,
   "metadata": {},
   "outputs": [
    {
     "data": {
      "text/plain": [
       "Timestamp('2018-10-31 10:01:01')"
      ]
     },
     "execution_count": 97,
     "metadata": {},
     "output_type": "execute_result"
    }
   ],
   "source": [
    "#向后移动一个月末。\n",
    "\n",
    "from pandas.tseries.offsets import BMonthEnd\n",
    "\n",
    "d + BMonthEnd()"
   ]
  },
  {
   "cell_type": "code",
   "execution_count": 99,
   "metadata": {},
   "outputs": [
    {
     "data": {
      "text/plain": [
       "Timestamp('2019-02-28 10:01:01')"
      ]
     },
     "execution_count": 99,
     "metadata": {},
     "output_type": "execute_result"
    }
   ],
   "source": [
    "#个性化定制日期。虽然日历规定年末是 12 月，加入参数后相当于人为规定 2 月是年末。\n",
    "\n",
    "#向后移动到上两个年末。\n",
    "\n",
    "from pandas.tseries.offsets import YearEnd\n",
    "\n",
    "d + YearEnd(month=2)"
   ]
  },
  {
   "cell_type": "code",
   "execution_count": 101,
   "metadata": {},
   "outputs": [
    {
     "data": {
      "text/plain": [
       "Timestamp('2018-09-28 10:01:01')"
      ]
     },
     "execution_count": 101,
     "metadata": {},
     "output_type": "execute_result"
    }
   ],
   "source": [
    "#向前移动到上一个周四。\n",
    "\n",
    "from pandas.tseries.offsets import Week\n",
    "\n",
    "d - Week(weekday=4)"
   ]
  },
  {
   "cell_type": "markdown",
   "metadata": {},
   "source": [
    "可以使用 rollforward() 将指定时间向前或向后移动到一个制定常用时间类的时间戳上。"
   ]
  },
  {
   "cell_type": "code",
   "execution_count": 103,
   "metadata": {},
   "outputs": [
    {
     "data": {
      "text/plain": [
       "Timestamp('2018-10-31 10:01:01')"
      ]
     },
     "execution_count": 103,
     "metadata": {},
     "output_type": "execute_result"
    }
   ],
   "source": [
    "#将时间移动到下一个月末：\n",
    "\n",
    "offset = BMonthEnd()\n",
    "offset.rollforward(d)"
   ]
  },
  {
   "cell_type": "code",
   "execution_count": 105,
   "metadata": {},
   "outputs": [
    {
     "data": {
      "text/plain": [
       "Timestamp('2018-09-28 10:01:01')"
      ]
     },
     "execution_count": 105,
     "metadata": {},
     "output_type": "execute_result"
    }
   ],
   "source": [
    "#将时间移动到上一个月末。\n",
    "\n",
    "offset.rollback(d)"
   ]
  },
  {
   "cell_type": "code",
   "execution_count": 107,
   "metadata": {},
   "outputs": [
    {
     "data": {
      "text/plain": [
       "DatetimeIndex(['2018-10-01', '2018-10-02', '2018-10-03', '2018-10-04',\n",
       "               '2018-10-05', '2018-10-06', '2018-10-07', '2018-10-08',\n",
       "               '2018-10-09', '2018-10-10'],\n",
       "              dtype='datetime64[ns]', freq='D')"
      ]
     },
     "execution_count": 107,
     "metadata": {},
     "output_type": "execute_result"
    }
   ],
   "source": [
    "#偏移也同样适用于时间索引\n",
    "\n",
    "rng"
   ]
  },
  {
   "cell_type": "code",
   "execution_count": 109,
   "metadata": {},
   "outputs": [
    {
     "data": {
      "text/plain": [
       "DatetimeIndex(['2018-10-03', '2018-10-04', '2018-10-05', '2018-10-06',\n",
       "               '2018-10-07', '2018-10-08', '2018-10-09', '2018-10-10',\n",
       "               '2018-10-11', '2018-10-12'],\n",
       "              dtype='datetime64[ns]', freq='D')"
      ]
     },
     "execution_count": 109,
     "metadata": {},
     "output_type": "execute_result"
    }
   ],
   "source": [
    "#所有的时间索引向后移动两日。\n",
    "\n",
    "rng + DateOffset(days=2)"
   ]
  },
  {
   "cell_type": "code",
   "execution_count": 111,
   "metadata": {},
   "outputs": [
    {
     "data": {
      "text/plain": [
       "DatetimeIndex(['2018-10-03', '2018-10-04', '2018-10-05', '2018-10-08',\n",
       "               '2018-10-09', '2018-10-09', '2018-10-09', '2018-10-10',\n",
       "               '2018-10-11', '2018-10-12'],\n",
       "              dtype='datetime64[ns]', freq=None)"
      ]
     },
     "execution_count": 111,
     "metadata": {},
     "output_type": "execute_result"
    }
   ],
   "source": [
    "#所有的时间索引向后移动两个工作日。\n",
    "\n",
    "rng + 2*BDay()"
   ]
  },
  {
   "cell_type": "code",
   "execution_count": 113,
   "metadata": {},
   "outputs": [
    {
     "data": {
      "text/plain": [
       "DatetimeIndex(['2018-10-01 00:15:00', '2018-10-02 00:15:00',\n",
       "               '2018-10-03 00:15:00', '2018-10-04 00:15:00',\n",
       "               '2018-10-05 00:15:00', '2018-10-06 00:15:00',\n",
       "               '2018-10-07 00:15:00', '2018-10-08 00:15:00',\n",
       "               '2018-10-09 00:15:00', '2018-10-10 00:15:00'],\n",
       "              dtype='datetime64[ns]', freq='D')"
      ]
     },
     "execution_count": 113,
     "metadata": {},
     "output_type": "execute_result"
    }
   ],
   "source": [
    "#所有的时间索引向后移动 15 分钟。\n",
    "\n",
    "from pandas.tseries.offsets import Minute\n",
    "\n",
    "rng + Minute(15)"
   ]
  },
  {
   "cell_type": "markdown",
   "metadata": {},
   "source": [
    "\n",
    "参数名\t| 说明\n",
    "--|--\n",
    "B\t| 工作日频率\n",
    "C\t| 定制工作日频率\n",
    "D\t|日历日频率\n",
    "W\t|每周频率\n",
    "M\t|月结束频率\n",
    "SM\t|半月结束频率(15 个月和月末)\n",
    "BM\t|业务月末频率\n",
    "CBM\t|定制业务月末频率\n",
    "MS\t|月起始频率\n",
    "sMs\t|半月起始频率(第 1 和 15)\n",
    "BMS\t|业务月开始频率\n",
    "CBMS\t|定制商业月份开始频率\n",
    "Q\t|四分频结束频率\n",
    "BQ\t|业务四分之一频率\n",
    "QS\t|四分频启动频率\n",
    "BQS\t|业务季开始频率\n",
    "A\t|年结束频率\n",
    "BA\t|业务年结束频率\n",
    "AS\t|年起始频率\n",
    "BAS\t|业务年开始频率\n",
    "BH\t|工作时间频率\n",
    "H\t|每小时频率\n",
    "T, min\t|分钟频率\n",
    "S\t|次频\n",
    "L, ms\t|毫秒\n",
    "U, uS\t|微秒\n",
    "N\t|纳秒"
   ]
  },
  {
   "cell_type": "code",
   "execution_count": 115,
   "metadata": {},
   "outputs": [
    {
     "data": {
      "text/plain": [
       "DatetimeIndex([       '2018-10-01 00:00:00', '2018-10-02 01:01:00.000010',\n",
       "               '2018-10-03 02:02:00.000020', '2018-10-04 03:03:00.000030',\n",
       "               '2018-10-05 04:04:00.000040', '2018-10-06 05:05:00.000050',\n",
       "               '2018-10-07 06:06:00.000060', '2018-10-08 07:07:00.000070',\n",
       "               '2018-10-09 08:08:00.000080', '2018-10-10 09:09:00.000090'],\n",
       "              dtype='datetime64[ns]', freq='90060000010U')"
      ]
     },
     "execution_count": 115,
     "metadata": {},
     "output_type": "execute_result"
    }
   ],
   "source": [
    "#创建 10 条以 2018 年 10 月 1 日为开始，间隔为 1 天 1 小时 1 分钟 10 微秒的时间索引。\n",
    "\n",
    "pd.date_range(\"2018-10-1\", periods=10, freq='1D1H1min10U')"
   ]
  },
  {
   "cell_type": "code",
   "execution_count": 117,
   "metadata": {},
   "outputs": [
    {
     "data": {
      "text/plain": [
       "DatetimeIndex(['2018-10-03', '2018-10-10', '2018-10-17', '2018-10-24',\n",
       "               '2018-10-31', '2018-11-07', '2018-11-14', '2018-11-21',\n",
       "               '2018-11-28', '2018-12-05'],\n",
       "              dtype='datetime64[ns]', freq='W-WED')"
      ]
     },
     "execution_count": 117,
     "metadata": {},
     "output_type": "execute_result"
    }
   ],
   "source": [
    "#创建 10 条以 2018 年 10 月 1 日为开始，间隔为每周三的时间索引。\n",
    "\n",
    "pd.date_range(\"2018-10-1\", periods=10, freq='W-WED')"
   ]
  },
  {
   "cell_type": "markdown",
   "metadata": {},
   "source": [
    "在使用特定频率（MonthEnd，MonthBegin，WeekEnd 等）的参数时，如果起始时间是刚好在频率点上，使用 n 参数可以决定是否让该点参与计算。"
   ]
  },
  {
   "cell_type": "code",
   "execution_count": 119,
   "metadata": {},
   "outputs": [
    {
     "data": {
      "text/plain": [
       "Timestamp('2018-11-01 00:00:00')"
      ]
     },
     "execution_count": 119,
     "metadata": {},
     "output_type": "execute_result"
    }
   ],
   "source": [
    "#n=1 时参与计算。\n",
    "\n",
    "from pandas.tseries.offsets import MonthBegin\n",
    "\n",
    "pd.Timestamp('2018-10-1') + MonthBegin(n=1)"
   ]
  },
  {
   "cell_type": "code",
   "execution_count": 122,
   "metadata": {},
   "outputs": [
    {
     "data": {
      "text/plain": [
       "Timestamp('2018-10-01 00:00:00')"
      ]
     },
     "execution_count": 122,
     "metadata": {},
     "output_type": "execute_result"
    }
   ],
   "source": [
    "#n=0 时不参与计算。\n",
    "\n",
    "pd.Timestamp('2018-10-1') + MonthBegin(n=0)\n",
    " \n"
   ]
  },
  {
   "cell_type": "markdown",
   "metadata": {},
   "source": [
    "### 下采样聚合 \n",
    "下采样中的聚合是指下采样后，对未被采样到的点进行的一系列计算。"
   ]
  },
  {
   "cell_type": "code",
   "execution_count": 124,
   "metadata": {},
   "outputs": [
    {
     "data": {
      "text/plain": [
       "<pandas.core.resample.DatetimeIndexResampler object at 0x7ff5ec266050>"
      ]
     },
     "execution_count": 124,
     "metadata": {},
     "output_type": "execute_result"
    }
   ],
   "source": [
    "#创建 100 个日历日为时间索引的 DataFrame，将其以月频率下采样。\n",
    "\n",
    "df = pd.DataFrame(np.random.rand(100, 3),\n",
    "                  index=pd.date_range('10/1/2018', freq='D', periods=100),\n",
    "                  columns=['A', 'B', 'C'])\n",
    "r = df.resample('M')\n",
    "r"
   ]
  },
  {
   "cell_type": "code",
   "execution_count": 126,
   "metadata": {},
   "outputs": [
    {
     "data": {
      "text/html": [
       "<div>\n",
       "<style scoped>\n",
       "    .dataframe tbody tr th:only-of-type {\n",
       "        vertical-align: middle;\n",
       "    }\n",
       "\n",
       "    .dataframe tbody tr th {\n",
       "        vertical-align: top;\n",
       "    }\n",
       "\n",
       "    .dataframe thead th {\n",
       "        text-align: right;\n",
       "    }\n",
       "</style>\n",
       "<table border=\"1\" class=\"dataframe\">\n",
       "  <thead>\n",
       "    <tr style=\"text-align: right;\">\n",
       "      <th></th>\n",
       "      <th>A</th>\n",
       "      <th>B</th>\n",
       "      <th>C</th>\n",
       "    </tr>\n",
       "  </thead>\n",
       "  <tbody>\n",
       "    <tr>\n",
       "      <td>2018-10-31</td>\n",
       "      <td>13.865280</td>\n",
       "      <td>16.318278</td>\n",
       "      <td>13.083000</td>\n",
       "    </tr>\n",
       "    <tr>\n",
       "      <td>2018-11-30</td>\n",
       "      <td>12.791562</td>\n",
       "      <td>11.647247</td>\n",
       "      <td>15.406612</td>\n",
       "    </tr>\n",
       "    <tr>\n",
       "      <td>2018-12-31</td>\n",
       "      <td>14.148978</td>\n",
       "      <td>15.278252</td>\n",
       "      <td>17.626128</td>\n",
       "    </tr>\n",
       "    <tr>\n",
       "      <td>2019-01-31</td>\n",
       "      <td>3.801208</td>\n",
       "      <td>3.060139</td>\n",
       "      <td>4.708172</td>\n",
       "    </tr>\n",
       "  </tbody>\n",
       "</table>\n",
       "</div>"
      ],
      "text/plain": [
       "                    A          B          C\n",
       "2018-10-31  13.865280  16.318278  13.083000\n",
       "2018-11-30  12.791562  11.647247  15.406612\n",
       "2018-12-31  14.148978  15.278252  17.626128\n",
       "2019-01-31   3.801208   3.060139   4.708172"
      ]
     },
     "execution_count": 126,
     "metadata": {},
     "output_type": "execute_result"
    }
   ],
   "source": [
    "#对未采样点求和，结果保存在采样点的值中。\n",
    "\n",
    "r.sum()"
   ]
  },
  {
   "cell_type": "code",
   "execution_count": 128,
   "metadata": {
    "scrolled": true
   },
   "outputs": [
    {
     "data": {
      "text/html": [
       "<div>\n",
       "<style scoped>\n",
       "    .dataframe tbody tr th:only-of-type {\n",
       "        vertical-align: middle;\n",
       "    }\n",
       "\n",
       "    .dataframe tbody tr th {\n",
       "        vertical-align: top;\n",
       "    }\n",
       "\n",
       "    .dataframe thead th {\n",
       "        text-align: right;\n",
       "    }\n",
       "</style>\n",
       "<table border=\"1\" class=\"dataframe\">\n",
       "  <thead>\n",
       "    <tr style=\"text-align: right;\">\n",
       "      <th></th>\n",
       "      <th>A</th>\n",
       "      <th>C</th>\n",
       "    </tr>\n",
       "  </thead>\n",
       "  <tbody>\n",
       "    <tr>\n",
       "      <td>2018-10-31</td>\n",
       "      <td>0.447267</td>\n",
       "      <td>0.422032</td>\n",
       "    </tr>\n",
       "    <tr>\n",
       "      <td>2018-11-30</td>\n",
       "      <td>0.426385</td>\n",
       "      <td>0.513554</td>\n",
       "    </tr>\n",
       "    <tr>\n",
       "      <td>2018-12-31</td>\n",
       "      <td>0.456419</td>\n",
       "      <td>0.568585</td>\n",
       "    </tr>\n",
       "    <tr>\n",
       "      <td>2019-01-31</td>\n",
       "      <td>0.475151</td>\n",
       "      <td>0.588521</td>\n",
       "    </tr>\n",
       "  </tbody>\n",
       "</table>\n",
       "</div>"
      ],
      "text/plain": [
       "                   A         C\n",
       "2018-10-31  0.447267  0.422032\n",
       "2018-11-30  0.426385  0.513554\n",
       "2018-12-31  0.456419  0.568585\n",
       "2019-01-31  0.475151  0.588521"
      ]
     },
     "execution_count": 128,
     "metadata": {},
     "output_type": "execute_result"
    }
   ],
   "source": [
    "#在下采样后也能进行查找操作。选择 A、C 列后取均值计算。\n",
    "\n",
    "r[['A', 'C']].mean()"
   ]
  },
  {
   "cell_type": "code",
   "execution_count": 130,
   "metadata": {},
   "outputs": [
    {
     "data": {
      "text/html": [
       "<div>\n",
       "<style scoped>\n",
       "    .dataframe tbody tr th:only-of-type {\n",
       "        vertical-align: middle;\n",
       "    }\n",
       "\n",
       "    .dataframe tbody tr th {\n",
       "        vertical-align: top;\n",
       "    }\n",
       "\n",
       "    .dataframe thead tr th {\n",
       "        text-align: left;\n",
       "    }\n",
       "</style>\n",
       "<table border=\"1\" class=\"dataframe\">\n",
       "  <thead>\n",
       "    <tr>\n",
       "      <th></th>\n",
       "      <th colspan=\"2\" halign=\"left\">A</th>\n",
       "      <th colspan=\"2\" halign=\"left\">B</th>\n",
       "      <th colspan=\"2\" halign=\"left\">C</th>\n",
       "    </tr>\n",
       "    <tr>\n",
       "      <th></th>\n",
       "      <th>sum</th>\n",
       "      <th>mean</th>\n",
       "      <th>sum</th>\n",
       "      <th>mean</th>\n",
       "      <th>sum</th>\n",
       "      <th>mean</th>\n",
       "    </tr>\n",
       "  </thead>\n",
       "  <tbody>\n",
       "    <tr>\n",
       "      <td>2018-10-31</td>\n",
       "      <td>13.865280</td>\n",
       "      <td>0.447267</td>\n",
       "      <td>16.318278</td>\n",
       "      <td>0.526396</td>\n",
       "      <td>13.083000</td>\n",
       "      <td>0.422032</td>\n",
       "    </tr>\n",
       "    <tr>\n",
       "      <td>2018-11-30</td>\n",
       "      <td>12.791562</td>\n",
       "      <td>0.426385</td>\n",
       "      <td>11.647247</td>\n",
       "      <td>0.388242</td>\n",
       "      <td>15.406612</td>\n",
       "      <td>0.513554</td>\n",
       "    </tr>\n",
       "    <tr>\n",
       "      <td>2018-12-31</td>\n",
       "      <td>14.148978</td>\n",
       "      <td>0.456419</td>\n",
       "      <td>15.278252</td>\n",
       "      <td>0.492847</td>\n",
       "      <td>17.626128</td>\n",
       "      <td>0.568585</td>\n",
       "    </tr>\n",
       "    <tr>\n",
       "      <td>2019-01-31</td>\n",
       "      <td>3.801208</td>\n",
       "      <td>0.475151</td>\n",
       "      <td>3.060139</td>\n",
       "      <td>0.382517</td>\n",
       "      <td>4.708172</td>\n",
       "      <td>0.588521</td>\n",
       "    </tr>\n",
       "  </tbody>\n",
       "</table>\n",
       "</div>"
      ],
      "text/plain": [
       "                    A                    B                    C          \n",
       "                  sum      mean        sum      mean        sum      mean\n",
       "2018-10-31  13.865280  0.447267  16.318278  0.526396  13.083000  0.422032\n",
       "2018-11-30  12.791562  0.426385  11.647247  0.388242  15.406612  0.513554\n",
       "2018-12-31  14.148978  0.456419  15.278252  0.492847  17.626128  0.568585\n",
       "2019-01-31   3.801208  0.475151   3.060139  0.382517   4.708172  0.588521"
      ]
     },
     "execution_count": 130,
     "metadata": {},
     "output_type": "execute_result"
    }
   ],
   "source": [
    "#使用 agg() 同时进行不同的计算。对采样结果进行取和与取均值计算。\n",
    "\n",
    "r.agg([np.sum, np.mean])"
   ]
  },
  {
   "cell_type": "code",
   "execution_count": 132,
   "metadata": {},
   "outputs": [
    {
     "data": {
      "text/html": [
       "<div>\n",
       "<style scoped>\n",
       "    .dataframe tbody tr th:only-of-type {\n",
       "        vertical-align: middle;\n",
       "    }\n",
       "\n",
       "    .dataframe tbody tr th {\n",
       "        vertical-align: top;\n",
       "    }\n",
       "\n",
       "    .dataframe thead th {\n",
       "        text-align: right;\n",
       "    }\n",
       "</style>\n",
       "<table border=\"1\" class=\"dataframe\">\n",
       "  <thead>\n",
       "    <tr style=\"text-align: right;\">\n",
       "      <th></th>\n",
       "      <th>sum</th>\n",
       "      <th>mean</th>\n",
       "      <th>std</th>\n",
       "    </tr>\n",
       "  </thead>\n",
       "  <tbody>\n",
       "    <tr>\n",
       "      <td>2018-10-31</td>\n",
       "      <td>13.865280</td>\n",
       "      <td>0.447267</td>\n",
       "      <td>0.289638</td>\n",
       "    </tr>\n",
       "    <tr>\n",
       "      <td>2018-11-30</td>\n",
       "      <td>12.791562</td>\n",
       "      <td>0.426385</td>\n",
       "      <td>0.291095</td>\n",
       "    </tr>\n",
       "    <tr>\n",
       "      <td>2018-12-31</td>\n",
       "      <td>14.148978</td>\n",
       "      <td>0.456419</td>\n",
       "      <td>0.340553</td>\n",
       "    </tr>\n",
       "    <tr>\n",
       "      <td>2019-01-31</td>\n",
       "      <td>3.801208</td>\n",
       "      <td>0.475151</td>\n",
       "      <td>0.235773</td>\n",
       "    </tr>\n",
       "  </tbody>\n",
       "</table>\n",
       "</div>"
      ],
      "text/plain": [
       "                  sum      mean       std\n",
       "2018-10-31  13.865280  0.447267  0.289638\n",
       "2018-11-30  12.791562  0.426385  0.291095\n",
       "2018-12-31  14.148978  0.456419  0.340553\n",
       "2019-01-31   3.801208  0.475151  0.235773"
      ]
     },
     "execution_count": 132,
     "metadata": {},
     "output_type": "execute_result"
    }
   ],
   "source": [
    "#选择 A 列，同时进行取和，取均值，取标准差计算。\n",
    "\n",
    "r['A'].agg([np.sum, np.mean, np.std])"
   ]
  },
  {
   "cell_type": "code",
   "execution_count": 133,
   "metadata": {},
   "outputs": [
    {
     "data": {
      "text/html": [
       "<div>\n",
       "<style scoped>\n",
       "    .dataframe tbody tr th:only-of-type {\n",
       "        vertical-align: middle;\n",
       "    }\n",
       "\n",
       "    .dataframe tbody tr th {\n",
       "        vertical-align: top;\n",
       "    }\n",
       "\n",
       "    .dataframe thead tr th {\n",
       "        text-align: left;\n",
       "    }\n",
       "</style>\n",
       "<table border=\"1\" class=\"dataframe\">\n",
       "  <thead>\n",
       "    <tr>\n",
       "      <th></th>\n",
       "      <th colspan=\"2\" halign=\"left\">A</th>\n",
       "      <th colspan=\"2\" halign=\"left\">B</th>\n",
       "    </tr>\n",
       "    <tr>\n",
       "      <th></th>\n",
       "      <th>sum</th>\n",
       "      <th>std</th>\n",
       "      <th>mean</th>\n",
       "      <th>std</th>\n",
       "    </tr>\n",
       "  </thead>\n",
       "  <tbody>\n",
       "    <tr>\n",
       "      <td>2018-10-31</td>\n",
       "      <td>13.865280</td>\n",
       "      <td>0.289638</td>\n",
       "      <td>0.526396</td>\n",
       "      <td>0.326797</td>\n",
       "    </tr>\n",
       "    <tr>\n",
       "      <td>2018-11-30</td>\n",
       "      <td>12.791562</td>\n",
       "      <td>0.291095</td>\n",
       "      <td>0.388242</td>\n",
       "      <td>0.280260</td>\n",
       "    </tr>\n",
       "    <tr>\n",
       "      <td>2018-12-31</td>\n",
       "      <td>14.148978</td>\n",
       "      <td>0.340553</td>\n",
       "      <td>0.492847</td>\n",
       "      <td>0.286452</td>\n",
       "    </tr>\n",
       "    <tr>\n",
       "      <td>2019-01-31</td>\n",
       "      <td>3.801208</td>\n",
       "      <td>0.235773</td>\n",
       "      <td>0.382517</td>\n",
       "      <td>0.294559</td>\n",
       "    </tr>\n",
       "  </tbody>\n",
       "</table>\n",
       "</div>"
      ],
      "text/plain": [
       "                    A                   B          \n",
       "                  sum       std      mean       std\n",
       "2018-10-31  13.865280  0.289638  0.526396  0.326797\n",
       "2018-11-30  12.791562  0.291095  0.388242  0.280260\n",
       "2018-12-31  14.148978  0.340553  0.492847  0.286452\n",
       "2019-01-31   3.801208  0.235773  0.382517  0.294559"
      ]
     },
     "execution_count": 133,
     "metadata": {},
     "output_type": "execute_result"
    }
   ],
   "source": [
    "#对 A 列求和与标准差，对 B 列求均值与标准差。\n",
    "\n",
    "r.agg({'A': ['sum', 'std'], 'B': ['mean', 'std']})"
   ]
  }
 ],
 "metadata": {
  "kernelspec": {
   "display_name": "Python 3",
   "language": "python",
   "name": "python3"
  },
  "language_info": {
   "codemirror_mode": {
    "name": "ipython",
    "version": 3
   },
   "file_extension": ".py",
   "mimetype": "text/x-python",
   "name": "python",
   "nbconvert_exporter": "python",
   "pygments_lexer": "ipython3",
   "version": "3.7.7"
  }
 },
 "nbformat": 4,
 "nbformat_minor": 4
}
