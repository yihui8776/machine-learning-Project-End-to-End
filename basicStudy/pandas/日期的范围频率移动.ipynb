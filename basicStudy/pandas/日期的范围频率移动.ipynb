{
 "cells": [
  {
   "cell_type": "markdown",
   "metadata": {},
   "source": [
    "pandas 中的时间序列一般被认为是不规则的，也就是说，它们没有固定的频率。对于大部分应用程序而言，这是无所谓的。但是，它常常需要以某种相对固定的频率进行分析，比如每日、每月、每分等（这样自然会在时间序列中引入缺失值）。pandas 有一整套标准时间序列频率以及用于重采样、频率推断、生成固定频率日期范围的工具。 \n"
   ]
  },
  {
   "cell_type": "code",
   "execution_count": 24,
   "metadata": {},
   "outputs": [],
   "source": [
    "from pandas import Series\n",
    "import pandas as pd\n",
    "import numpy as np\n",
    "from datetime import datetime\n",
    "dates = [datetime(2015,1,2),datetime(2015,1,5),\n",
    "     datetime(2015,1,7),datetime(2015,1,8),\n",
    "    datetime(2015,1,10),datetime(2015,1,12)]\n",
    "ts = Series(np.random.randn(6), index=dates)   "
   ]
  },
  {
   "cell_type": "code",
   "execution_count": 7,
   "metadata": {},
   "outputs": [
    {
     "data": {
      "text/plain": [
       "2015-01-02   -0.624200\n",
       "2015-01-05   -0.253471\n",
       "2015-01-07    0.114922\n",
       "2015-01-08   -0.306915\n",
       "2015-01-10   -0.520817\n",
       "2015-01-12   -0.834741\n",
       "dtype: float64"
      ]
     },
     "execution_count": 7,
     "metadata": {},
     "output_type": "execute_result"
    }
   ],
   "source": [
    "ts"
   ]
  },
  {
   "cell_type": "code",
   "execution_count": 21,
   "metadata": {},
   "outputs": [
    {
     "name": "stderr",
     "output_type": "stream",
     "text": [
      "/usr/local/lib/python3.7/site-packages/ipykernel_launcher.py:2: FutureWarning: fill_method is deprecated to .resample()\n",
      "the new syntax is .resample(...).ffill()\n",
      "  \n"
     ]
    },
    {
     "data": {
      "text/plain": [
       "2015-01-02   -0.624200\n",
       "2015-01-03   -0.624200\n",
       "2015-01-04   -0.624200\n",
       "2015-01-05   -0.253471\n",
       "2015-01-06   -0.253471\n",
       "2015-01-07    0.114922\n",
       "2015-01-08   -0.306915\n",
       "2015-01-09   -0.306915\n",
       "2015-01-10   -0.520817\n",
       "2015-01-11   -0.520817\n",
       "2015-01-12   -0.834741\n",
       "Freq: D, dtype: float64"
      ]
     },
     "execution_count": 21,
     "metadata": {},
     "output_type": "execute_result"
    }
   ],
   "source": [
    "#时间序列转换为一个具有固定频率（每日）的时间序列\n",
    "ts.resample('D', fill_method='ffill')  #向后填充"
   ]
  },
  {
   "cell_type": "code",
   "execution_count": 22,
   "metadata": {},
   "outputs": [
    {
     "name": "stderr",
     "output_type": "stream",
     "text": [
      "/usr/local/lib/python3.7/site-packages/ipykernel_launcher.py:2: FutureWarning: fill_method is deprecated to .resample()\n",
      "the new syntax is .resample(...).bfill()\n",
      "  \n"
     ]
    },
    {
     "data": {
      "text/plain": [
       "2015-01-02   -0.624200\n",
       "2015-01-03   -0.253471\n",
       "2015-01-04   -0.253471\n",
       "2015-01-05   -0.253471\n",
       "2015-01-06    0.114922\n",
       "2015-01-07    0.114922\n",
       "2015-01-08   -0.306915\n",
       "2015-01-09   -0.520817\n",
       "2015-01-10   -0.520817\n",
       "2015-01-11   -0.834741\n",
       "2015-01-12   -0.834741\n",
       "Freq: D, dtype: float64"
      ]
     },
     "execution_count": 22,
     "metadata": {},
     "output_type": "execute_result"
    }
   ],
   "source": [
    "#向前填充\n",
    "ts.resample('D', fill_method='bfill')  "
   ]
  },
  {
   "cell_type": "markdown",
   "metadata": {},
   "source": [
    "## 生成日期范围"
   ]
  },
  {
   "cell_type": "code",
   "execution_count": 26,
   "metadata": {},
   "outputs": [
    {
     "data": {
      "text/plain": [
       "DatetimeIndex(['2015-04-01', '2015-04-02', '2015-04-03', '2015-04-04',\n",
       "               '2015-04-05', '2015-04-06', '2015-04-07', '2015-04-08',\n",
       "               '2015-04-09', '2015-04-10', '2015-04-11', '2015-04-12',\n",
       "               '2015-04-13', '2015-04-14', '2015-04-15', '2015-04-16',\n",
       "               '2015-04-17', '2015-04-18', '2015-04-19', '2015-04-20',\n",
       "               '2015-04-21', '2015-04-22', '2015-04-23', '2015-04-24',\n",
       "               '2015-04-25', '2015-04-26', '2015-04-27', '2015-04-28',\n",
       "               '2015-04-29', '2015-04-30', '2015-05-01', '2015-05-02',\n",
       "               '2015-05-03', '2015-05-04', '2015-05-05', '2015-05-06',\n",
       "               '2015-05-07', '2015-05-08', '2015-05-09', '2015-05-10',\n",
       "               '2015-05-11', '2015-05-12', '2015-05-13', '2015-05-14',\n",
       "               '2015-05-15', '2015-05-16', '2015-05-17', '2015-05-18',\n",
       "               '2015-05-19', '2015-05-20', '2015-05-21', '2015-05-22',\n",
       "               '2015-05-23', '2015-05-24', '2015-05-25', '2015-05-26',\n",
       "               '2015-05-27', '2015-05-28', '2015-05-29', '2015-05-30',\n",
       "               '2015-05-31', '2015-06-01'],\n",
       "              dtype='datetime64[ns]', freq='D')"
      ]
     },
     "execution_count": 26,
     "metadata": {},
     "output_type": "execute_result"
    }
   ],
   "source": [
    "index = pd.date_range('4/1/2015','6/1/2015')\n",
    "index"
   ]
  },
  {
   "cell_type": "code",
   "execution_count": 29,
   "metadata": {},
   "outputs": [
    {
     "data": {
      "text/plain": [
       "DatetimeIndex(['2012-05-13', '2012-05-14', '2012-05-15', '2012-05-16',\n",
       "               '2012-05-17', '2012-05-18', '2012-05-19', '2012-05-20',\n",
       "               '2012-05-21', '2012-05-22', '2012-05-23', '2012-05-24',\n",
       "               '2012-05-25', '2012-05-26', '2012-05-27', '2012-05-28',\n",
       "               '2012-05-29', '2012-05-30', '2012-05-31', '2012-06-01'],\n",
       "              dtype='datetime64[ns]', freq='D')"
      ]
     },
     "execution_count": 29,
     "metadata": {},
     "output_type": "execute_result"
    }
   ],
   "source": [
    "#前20天\n",
    "pd.date_range(end='6/1/2012',periods=20)"
   ]
  },
  {
   "cell_type": "code",
   "execution_count": 33,
   "metadata": {},
   "outputs": [
    {
     "data": {
      "text/plain": [
       "DatetimeIndex(['2015-01-30', '2015-02-27', '2015-03-31'], dtype='datetime64[ns]', freq='BM')"
      ]
     },
     "execution_count": 33,
     "metadata": {},
     "output_type": "execute_result"
    }
   ],
   "source": [
    "#可以传入“BM”频率 （表示 business end of month）\n",
    "pd.date_range('1/1/2015','4/1/2015',freq='BM')"
   ]
  },
  {
   "cell_type": "code",
   "execution_count": 36,
   "metadata": {},
   "outputs": [
    {
     "data": {
      "text/plain": [
       "DatetimeIndex(['2015-05-02 12:56:31', '2015-05-03 12:56:31',\n",
       "               '2015-05-04 12:56:31', '2015-05-05 12:56:31',\n",
       "               '2015-05-06 12:56:31'],\n",
       "              dtype='datetime64[ns]', freq='D')"
      ]
     },
     "execution_count": 36,
     "metadata": {},
     "output_type": "execute_result"
    }
   ],
   "source": [
    "#date_range 默认会保留起始和结束时间戳的时间信息（如果有的话）：\n",
    "pd.date_range('5/2/2015 12:56:31',periods=5)"
   ]
  },
  {
   "cell_type": "markdown",
   "metadata": {},
   "source": [
    "有时，虽然起始和结束日期带有时间信息，但你希望产生一组被规范化（normalize）到午夜的时间戳。normalize 选项即可实现该功能"
   ]
  },
  {
   "cell_type": "code",
   "execution_count": 39,
   "metadata": {},
   "outputs": [
    {
     "data": {
      "text/plain": [
       "DatetimeIndex(['2015-05-02', '2015-05-03', '2015-05-04', '2015-05-05',\n",
       "               '2015-05-06'],\n",
       "              dtype='datetime64[ns]', freq='D')"
      ]
     },
     "execution_count": 39,
     "metadata": {},
     "output_type": "execute_result"
    }
   ],
   "source": [
    "pd.date_range('5/2/2015 12:56:31',periods=5,  normalize = True)"
   ]
  },
  {
   "cell_type": "markdown",
   "metadata": {},
   "source": [
    "## 频率和日期偏移量"
   ]
  },
  {
   "cell_type": "markdown",
   "metadata": {},
   "source": [
    "pandas 中的频率是由一个基础频率（base frequency）和一个乘数组成。基础频率通常以一个字符串别名表示，比如“M”表示每月，“H”表示每小时。对于每个基础频率，都有一个被称为日期偏移量（date offset）的对象与之对应 "
   ]
  },
  {
   "cell_type": "code",
   "execution_count": 43,
   "metadata": {},
   "outputs": [
    {
     "data": {
      "text/plain": [
       "<Hour>"
      ]
     },
     "execution_count": 43,
     "metadata": {},
     "output_type": "execute_result"
    }
   ],
   "source": [
    "##按小时计算的频率可以用 Hour 类表示\n",
    "from pandas.tseries.offsets import Hour, Minute\n",
    "hour = Hour()\n",
    "hour"
   ]
  },
  {
   "cell_type": "code",
   "execution_count": 46,
   "metadata": {},
   "outputs": [
    {
     "data": {
      "text/plain": [
       "<4 * Hours>"
      ]
     },
     "execution_count": 46,
     "metadata": {},
     "output_type": "execute_result"
    }
   ],
   "source": [
    "## 传入一个整数即可定义偏移量的倍数\n",
    "four_hours = Hour(4)\n",
    "four_hours"
   ]
  },
  {
   "cell_type": "code",
   "execution_count": 48,
   "metadata": {},
   "outputs": [
    {
     "data": {
      "text/plain": [
       "DatetimeIndex(['2015-01-01 00:00:00', '2015-01-01 04:00:00',\n",
       "               '2015-01-01 08:00:00', '2015-01-01 12:00:00',\n",
       "               '2015-01-01 16:00:00', '2015-01-01 20:00:00',\n",
       "               '2015-01-02 00:00:00', '2015-01-02 04:00:00',\n",
       "               '2015-01-02 08:00:00', '2015-01-02 12:00:00',\n",
       "               '2015-01-02 16:00:00', '2015-01-02 20:00:00',\n",
       "               '2015-01-03 00:00:00', '2015-01-03 04:00:00',\n",
       "               '2015-01-03 08:00:00', '2015-01-03 12:00:00',\n",
       "               '2015-01-03 16:00:00', '2015-01-03 20:00:00'],\n",
       "              dtype='datetime64[ns]', freq='4H')"
      ]
     },
     "execution_count": 48,
     "metadata": {},
     "output_type": "execute_result"
    }
   ],
   "source": [
    "# 无需显示创建，只需用“H” 或“4H” 即可\n",
    "\n",
    "#在基础频率前面放上一个整数即可创建倍数\n",
    "\n",
    "pd.date_range('1/1/2015','1/3/2015 23:59',freq='4h')"
   ]
  },
  {
   "cell_type": "code",
   "execution_count": 50,
   "metadata": {},
   "outputs": [
    {
     "data": {
      "text/plain": [
       "<150 * Minutes>"
      ]
     },
     "execution_count": 50,
     "metadata": {},
     "output_type": "execute_result"
    }
   ],
   "source": [
    "# 大部分偏移量对象都可以通过加法进行连接\n",
    "\n",
    "Hour(2)+Minute(30)"
   ]
  },
  {
   "cell_type": "markdown",
   "metadata": {},
   "source": [
    "时间序列的基础频率：\n",
    "\n",
    "别名 |\t偏移量类型\t| 说明 \n",
    "-|-|-\n",
    "D\t| Day\t| 每日历日\n",
    "B\t| BusinessDay\t| 每工作日\n",
    "H\t| Hour |\t每小时\n",
    "T 或 min | \tMinute |\t每分\n",
    "S | \tSecond\t| 每小时\n",
    "L 或 ms\t| Milli\t| 每毫秒（即每千分之一秒）\n",
    "U |\tMicro\t| 每微妙\n",
    "M\t| MonthEnd\t| 每月最后一个工作日\n",
    "BM\t| BusinessMonthEnd\t| 每月最后一个工作日\n",
    "MS\t| MonthBegin\t| 每月第一个日历日\n",
    "BMS\t| BusinessMonthBegin\t| 每月第一个工作日\n",
    "W-MON、W-TUE...\t| Week\t| 从指定的星期几（MON、TUE、WED、THU、FRI、SAT、SUN）开始算起，每周\n",
    "WOM-1MON、WOM-2MON...\t| WeekOfMonth\t| 产生每月第一、第二、第三或第四周的星期几"
   ]
  },
  {
   "cell_type": "code",
   "execution_count": 53,
   "metadata": {},
   "outputs": [
    {
     "data": {
      "text/plain": [
       "[Timestamp('2015-01-16 00:00:00', freq='WOM-3FRI'),\n",
       " Timestamp('2015-02-20 00:00:00', freq='WOM-3FRI'),\n",
       " Timestamp('2015-03-20 00:00:00', freq='WOM-3FRI'),\n",
       " Timestamp('2015-04-17 00:00:00', freq='WOM-3FRI'),\n",
       " Timestamp('2015-05-15 00:00:00', freq='WOM-3FRI'),\n",
       " Timestamp('2015-06-19 00:00:00', freq='WOM-3FRI'),\n",
       " Timestamp('2015-07-17 00:00:00', freq='WOM-3FRI')]"
      ]
     },
     "execution_count": 53,
     "metadata": {},
     "output_type": "execute_result"
    }
   ],
   "source": [
    "#WOM(Week Of Month)是一种非常实用的频率类，它以 WOM 开头。\n",
    "#每月第三个星期五\n",
    "rng = pd.date_range('1/1/2015','8/1/2015',\n",
    "     freq = 'WOM-3FRI')\n",
    "\n",
    "list(rng)"
   ]
  },
  {
   "cell_type": "markdown",
   "metadata": {},
   "source": [
    "## 移动（超前和滞后）数据\n",
    "移动（shifting）指的是沿着时间轴将数据前移或后移。Series 和 DataFrame 都有一个 shift 方法用于执行单纯的前移或后移操作，保存索引不变："
   ]
  },
  {
   "cell_type": "code",
   "execution_count": 56,
   "metadata": {},
   "outputs": [
    {
     "data": {
      "text/plain": [
       "2015-01-31    2.313713\n",
       "2015-02-28   -0.258610\n",
       "2015-03-31    1.117984\n",
       "2015-04-30   -0.992700\n",
       "Freq: M, dtype: float64"
      ]
     },
     "execution_count": 56,
     "metadata": {},
     "output_type": "execute_result"
    }
   ],
   "source": [
    "ts = Series(np.random.randn(4),\n",
    "   index = pd.date_range('1/1/2015',periods=4,freq='M'))\n",
    "ts"
   ]
  },
  {
   "cell_type": "code",
   "execution_count": 59,
   "metadata": {},
   "outputs": [
    {
     "data": {
      "text/plain": [
       "2015-01-31         NaN\n",
       "2015-02-28         NaN\n",
       "2015-03-31    2.313713\n",
       "2015-04-30   -0.258610\n",
       "Freq: M, dtype: float64"
      ]
     },
     "execution_count": 59,
     "metadata": {},
     "output_type": "execute_result"
    }
   ],
   "source": [
    "#往后\n",
    "ts.shift(2)"
   ]
  },
  {
   "cell_type": "code",
   "execution_count": 61,
   "metadata": {},
   "outputs": [
    {
     "data": {
      "text/plain": [
       "2015-01-31    1.117984\n",
       "2015-02-28   -0.992700\n",
       "2015-03-31         NaN\n",
       "2015-04-30         NaN\n",
       "Freq: M, dtype: float64"
      ]
     },
     "execution_count": 61,
     "metadata": {},
     "output_type": "execute_result"
    }
   ],
   "source": [
    "#向前\n",
    "ts.shift(-2)\n"
   ]
  },
  {
   "cell_type": "code",
   "execution_count": 63,
   "metadata": {},
   "outputs": [
    {
     "data": {
      "text/plain": [
       "2015-01-31         NaN\n",
       "2015-02-28   -1.111773\n",
       "2015-03-31   -5.323047\n",
       "2015-04-30   -1.887937\n",
       "Freq: M, dtype: float64"
      ]
     },
     "execution_count": 63,
     "metadata": {},
     "output_type": "execute_result"
    }
   ],
   "source": [
    "#　shift 通常用于计算一个时间序列或多个时间序列（如 DataFrame 的列）中的百分比变化。可以这样表达：\n",
    "\n",
    "ts / ts.shift(1) - 1"
   ]
  },
  {
   "cell_type": "code",
   "execution_count": 70,
   "metadata": {},
   "outputs": [
    {
     "data": {
      "text/plain": [
       "2015-03-31    2.313713\n",
       "2015-04-30   -0.258610\n",
       "2015-05-31    1.117984\n",
       "2015-06-30   -0.992700\n",
       "Freq: M, dtype: float64"
      ]
     },
     "execution_count": 70,
     "metadata": {},
     "output_type": "execute_result"
    }
   ],
   "source": [
    "#时间移动\n",
    "ts.shift(2,freq='M')"
   ]
  },
  {
   "cell_type": "code",
   "execution_count": 72,
   "metadata": {},
   "outputs": [
    {
     "data": {
      "text/plain": [
       "2015-02-03    2.313713\n",
       "2015-03-03   -0.258610\n",
       "2015-04-03    1.117984\n",
       "2015-05-03   -0.992700\n",
       "dtype: float64"
      ]
     },
     "execution_count": 72,
     "metadata": {},
     "output_type": "execute_result"
    }
   ],
   "source": [
    "ts.shift(3,freq='D')"
   ]
  },
  {
   "cell_type": "code",
   "execution_count": 74,
   "metadata": {},
   "outputs": [
    {
     "data": {
      "text/plain": [
       "2015-02-03    2.313713\n",
       "2015-03-03   -0.258610\n",
       "2015-04-03    1.117984\n",
       "2015-05-03   -0.992700\n",
       "dtype: float64"
      ]
     },
     "execution_count": 74,
     "metadata": {},
     "output_type": "execute_result"
    }
   ],
   "source": [
    "ts.shift(1, freq='3D')"
   ]
  },
  {
   "cell_type": "code",
   "execution_count": 76,
   "metadata": {},
   "outputs": [
    {
     "data": {
      "text/plain": [
       "2015-01-31 01:30:00    2.313713\n",
       "2015-02-28 01:30:00   -0.258610\n",
       "2015-03-31 01:30:00    1.117984\n",
       "2015-04-30 01:30:00   -0.992700\n",
       "Freq: M, dtype: float64"
      ]
     },
     "execution_count": 76,
     "metadata": {},
     "output_type": "execute_result"
    }
   ],
   "source": [
    "#90分钟\n",
    "ts.shift(1,freq='90T')"
   ]
  },
  {
   "cell_type": "markdown",
   "metadata": {},
   "source": [
    "pandas 的日期偏移量还可以用在 datetime 或 Timestamp 对象上"
   ]
  },
  {
   "cell_type": "code",
   "execution_count": 79,
   "metadata": {},
   "outputs": [],
   "source": [
    "from pandas.tseries.offsets import Day,MonthEnd\n",
    "now = datetime(2015,8,1)"
   ]
  },
  {
   "cell_type": "code",
   "execution_count": 81,
   "metadata": {},
   "outputs": [
    {
     "data": {
      "text/plain": [
       "Timestamp('2015-08-04 00:00:00')"
      ]
     },
     "execution_count": 81,
     "metadata": {},
     "output_type": "execute_result"
    }
   ],
   "source": [
    "now + 3*Day()"
   ]
  },
  {
   "cell_type": "code",
   "execution_count": 89,
   "metadata": {},
   "outputs": [
    {
     "data": {
      "text/plain": [
       "Timestamp('2015-08-31 00:00:00')"
      ]
     },
     "execution_count": 89,
     "metadata": {},
     "output_type": "execute_result"
    }
   ],
   "source": [
    "#月末\n",
    "now + MonthEnd()"
   ]
  },
  {
   "cell_type": "code",
   "execution_count": 85,
   "metadata": {},
   "outputs": [],
   "source": [
    "# 通过rollforward和rollback方法，可以显式地将日期向前向后滚动"
   ]
  },
  {
   "cell_type": "code",
   "execution_count": 87,
   "metadata": {},
   "outputs": [],
   "source": [
    "offset = MonthEnd()"
   ]
  },
  {
   "cell_type": "code",
   "execution_count": 90,
   "metadata": {},
   "outputs": [
    {
     "data": {
      "text/plain": [
       "Timestamp('2015-08-31 00:00:00')"
      ]
     },
     "execution_count": 90,
     "metadata": {},
     "output_type": "execute_result"
    }
   ],
   "source": [
    "offset.rollforward(now)"
   ]
  },
  {
   "cell_type": "code",
   "execution_count": 92,
   "metadata": {},
   "outputs": [
    {
     "data": {
      "text/plain": [
       "Timestamp('2015-07-31 00:00:00')"
      ]
     },
     "execution_count": 92,
     "metadata": {},
     "output_type": "execute_result"
    }
   ],
   "source": [
    "offset.rollback(now)"
   ]
  },
  {
   "cell_type": "code",
   "execution_count": 94,
   "metadata": {},
   "outputs": [
    {
     "data": {
      "text/plain": [
       "2015-01-31   -0.249989\n",
       "2015-02-28    0.018464\n",
       "2015-03-31    0.256275\n",
       "2015-04-30   -0.441662\n",
       "dtype: float64"
      ]
     },
     "execution_count": 94,
     "metadata": {},
     "output_type": "execute_result"
    }
   ],
   "source": [
    "# 日期偏移量还有一个巧妙的用法，即结合 groupby 使用两个“滚动”方法\n",
    "\n",
    "ts = Series(np.random.randn(20),\n",
    "  index=pd.date_range('1/15/2015',periods=20,freq='4d'))\n",
    "\n",
    "ts.groupby(offset.rollforward).mean()"
   ]
  },
  {
   "cell_type": "code",
   "execution_count": 95,
   "metadata": {},
   "outputs": [
    {
     "name": "stderr",
     "output_type": "stream",
     "text": [
      "/usr/local/lib/python3.7/site-packages/ipykernel_launcher.py:2: FutureWarning: how in .resample() is deprecated\n",
      "the new syntax is .resample(...).mean()\n",
      "  \n"
     ]
    },
    {
     "data": {
      "text/plain": [
       "2015-01-31   -0.249989\n",
       "2015-02-28    0.018464\n",
       "2015-03-31    0.256275\n",
       "2015-04-30   -0.441662\n",
       "Freq: M, dtype: float64"
      ]
     },
     "execution_count": 95,
     "metadata": {},
     "output_type": "execute_result"
    }
   ],
   "source": [
    "# 更快更简单的办法是 resample\n",
    "ts.resample('M',how='mean')"
   ]
  }
 ],
 "metadata": {
  "kernelspec": {
   "display_name": "Python 3",
   "language": "python",
   "name": "python3"
  },
  "language_info": {
   "codemirror_mode": {
    "name": "ipython",
    "version": 3
   },
   "file_extension": ".py",
   "mimetype": "text/x-python",
   "name": "python",
   "nbconvert_exporter": "python",
   "pygments_lexer": "ipython3",
   "version": "3.7.7"
  }
 },
 "nbformat": 4,
 "nbformat_minor": 4
}
