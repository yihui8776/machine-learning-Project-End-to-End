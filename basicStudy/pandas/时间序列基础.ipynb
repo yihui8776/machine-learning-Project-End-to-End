{
 "cells": [
  {
   "cell_type": "markdown",
   "metadata": {},
   "source": [
    "##  时间序列\n",
    "  \n",
    "  时间序列是在金融、农业、经济学、生态学、物理学等很多地方常见的数据形式，数据点是根据某种规律定期出现（比如每15秒，每5分钟、每月出现一次）。时间序列也可以是不定期的。时间序列数据的意义取决于具体的应用场景，主要有以下几种：\n",
    "- 时间戳（timestamp），特定的时刻\n",
    "- 固定时间（period），如2015年1月或2014年全年\n",
    "- 时间间隔（interval），由起始和结束时间戳表示。时期（period）可以被看做间隔（interval）的特例\n",
    "- 实验或过程时间，每个时间点都是相对于特定起始时间的一个度量"
   ]
  },
  {
   "cell_type": "markdown",
   "metadata": {},
   "source": [
    "### 日期和时间数据类型及工具"
   ]
  },
  {
   "cell_type": "code",
   "execution_count": 4,
   "metadata": {},
   "outputs": [
    {
     "data": {
      "text/plain": [
       "datetime.datetime(2020, 4, 28, 9, 45, 2, 474920)"
      ]
     },
     "execution_count": 4,
     "metadata": {},
     "output_type": "execute_result"
    }
   ],
   "source": [
    "from datetime import datetime\n",
    "now = datetime.now()\n",
    "now"
   ]
  },
  {
   "cell_type": "code",
   "execution_count": 10,
   "metadata": {},
   "outputs": [
    {
     "name": "stdout",
     "output_type": "stream",
     "text": [
      "2020 4 28 9 45 2\n"
     ]
    }
   ],
   "source": [
    "print(now.year,now.month,now.day,now.hour,now.minute,now.second )"
   ]
  },
  {
   "cell_type": "code",
   "execution_count": 13,
   "metadata": {},
   "outputs": [
    {
     "data": {
      "text/plain": [
       "datetime.timedelta(days=218, seconds=53100)"
      ]
     },
     "execution_count": 13,
     "metadata": {},
     "output_type": "execute_result"
    }
   ],
   "source": [
    "delta=datetime(2015,8,8)-datetime(2015,1,1,9,15)\n",
    "delta"
   ]
  },
  {
   "cell_type": "code",
   "execution_count": 16,
   "metadata": {},
   "outputs": [
    {
     "data": {
      "text/plain": [
       "218"
      ]
     },
     "execution_count": 16,
     "metadata": {},
     "output_type": "execute_result"
    }
   ],
   "source": [
    "delta.days"
   ]
  },
  {
   "cell_type": "code",
   "execution_count": 21,
   "metadata": {},
   "outputs": [
    {
     "data": {
      "text/plain": [
       "datetime.datetime(2014, 6, 17, 0, 0)"
      ]
     },
     "execution_count": 21,
     "metadata": {},
     "output_type": "execute_result"
    }
   ],
   "source": [
    "#可以给 datetime 对象加上（或减去）一个或多个 timedelta，这样会产生一个新对象：\n",
    "from datetime import timedelta\n",
    "start = datetime(2015, 1, 1)\n",
    "start + timedelta(99)\n",
    "start - 3*timedelta(66)"
   ]
  },
  {
   "cell_type": "markdown",
   "metadata": {},
   "source": [
    "datetime 模块中的数据类型：\n",
    "\n",
    "类型\t| 说明\n",
    "---|---\n",
    "date\t| 以公历形式存储日历日期（年、月、日）\n",
    "time\t| 将时间存储为时、分、秒、毫秒\n",
    "datetime\t| 存储日期和时间\n",
    "timedelta\t| 表示两个 datetime 值之间的差（日、秒、毫秒）"
   ]
  },
  {
   "cell_type": "code",
   "execution_count": 23,
   "metadata": {},
   "outputs": [],
   "source": [
    "#格式化字符串\n",
    "stamp = datetime(2015,9,9)\n"
   ]
  },
  {
   "cell_type": "code",
   "execution_count": 25,
   "metadata": {},
   "outputs": [
    {
     "data": {
      "text/plain": [
       "'2015-09-09 00:00:00'"
      ]
     },
     "execution_count": 25,
     "metadata": {},
     "output_type": "execute_result"
    }
   ],
   "source": [
    "str(stamp)"
   ]
  },
  {
   "cell_type": "code",
   "execution_count": 30,
   "metadata": {},
   "outputs": [
    {
     "data": {
      "text/plain": [
       "'2015-09-09 00-00-00'"
      ]
     },
     "execution_count": 30,
     "metadata": {},
     "output_type": "execute_result"
    }
   ],
   "source": [
    "stamp.strftime('%Y-%m-%d %H-%M-%S')"
   ]
  },
  {
   "cell_type": "code",
   "execution_count": 33,
   "metadata": {},
   "outputs": [
    {
     "data": {
      "text/plain": [
       "'2015-09-09'"
      ]
     },
     "execution_count": 33,
     "metadata": {},
     "output_type": "execute_result"
    }
   ],
   "source": [
    "stamp.strftime('%Y-%m-%d')"
   ]
  },
  {
   "cell_type": "code",
   "execution_count": 37,
   "metadata": {},
   "outputs": [],
   "source": [
    "#字符串转日期\n",
    "value = '2015-09-09'"
   ]
  },
  {
   "cell_type": "code",
   "execution_count": 38,
   "metadata": {},
   "outputs": [
    {
     "data": {
      "text/plain": [
       "datetime.datetime(2015, 9, 9, 0, 0)"
      ]
     },
     "execution_count": 38,
     "metadata": {},
     "output_type": "execute_result"
    }
   ],
   "source": [
    "datetime.strptime(value, '%Y-%m-%d')\n"
   ]
  },
  {
   "cell_type": "code",
   "execution_count": 40,
   "metadata": {},
   "outputs": [],
   "source": [
    "datestrs = ['7/6/2015', '6/2/2015']"
   ]
  },
  {
   "cell_type": "code",
   "execution_count": 43,
   "metadata": {},
   "outputs": [
    {
     "data": {
      "text/plain": [
       "[datetime.datetime(2015, 7, 6, 0, 0), datetime.datetime(2015, 6, 2, 0, 0)]"
      ]
     },
     "execution_count": 43,
     "metadata": {},
     "output_type": "execute_result"
    }
   ],
   "source": [
    "#批量\n",
    "[datetime.strptime(x, '%m/%d/%Y') for x in datestrs]"
   ]
  },
  {
   "cell_type": "markdown",
   "metadata": {},
   "source": [
    "datetime.strptime 是通过已知格式进行日期解析的最佳方式。但是每次都要编写格式定义是很麻烦的事情，尤其是对于一些常见的日期格式。这种情况下，你可以用 deteutil 这个第三方包中的 parser.parse 方法："
   ]
  },
  {
   "cell_type": "code",
   "execution_count": 46,
   "metadata": {},
   "outputs": [],
   "source": [
    "from dateutil.parser import parse"
   ]
  },
  {
   "cell_type": "code",
   "execution_count": 48,
   "metadata": {},
   "outputs": [
    {
     "data": {
      "text/plain": [
       "datetime.datetime(2015, 8, 9, 0, 0)"
      ]
     },
     "execution_count": 48,
     "metadata": {},
     "output_type": "execute_result"
    }
   ],
   "source": [
    "parse('2015-08-09')"
   ]
  },
  {
   "cell_type": "code",
   "execution_count": 50,
   "metadata": {},
   "outputs": [
    {
     "data": {
      "text/plain": [
       "datetime.datetime(1993, 1, 31, 22, 10)"
      ]
     },
     "execution_count": 50,
     "metadata": {},
     "output_type": "execute_result"
    }
   ],
   "source": [
    "#dateutil 可以解析几乎所有人类能够理解的日期表示形式]: i\n",
    " #很遗憾中文不行\n",
    "\n",
    "parse('Jan 31, 1993 10:10 PM')"
   ]
  },
  {
   "cell_type": "code",
   "execution_count": 52,
   "metadata": {},
   "outputs": [
    {
     "data": {
      "text/plain": [
       "datetime.datetime(2014, 12, 27, 0, 0)"
      ]
     },
     "execution_count": 52,
     "metadata": {},
     "output_type": "execute_result"
    }
   ],
   "source": [
    "# 国际通用的格式中，日通常出现在月的前面\n",
    "\n",
    "#传入 dayfirst=True 即可解决这个问题\n",
    "\n",
    "parse('27/12/2014', dayfirst=True)"
   ]
  },
  {
   "cell_type": "markdown",
   "metadata": {},
   "source": [
    "　pandas 通常是用于处理成组日期的，不管这些日期是 DataFrame 的轴索引还是列。to_datetime 方法可以解析多种不同的日期表示形式。对标准日期格式（如 ISO8601）的解析非常快"
   ]
  },
  {
   "cell_type": "code",
   "execution_count": 54,
   "metadata": {},
   "outputs": [
    {
     "data": {
      "text/plain": [
       "['7/6/2015', '6/2/2015']"
      ]
     },
     "execution_count": 54,
     "metadata": {},
     "output_type": "execute_result"
    }
   ],
   "source": [
    "datestrs"
   ]
  },
  {
   "cell_type": "code",
   "execution_count": 57,
   "metadata": {},
   "outputs": [
    {
     "data": {
      "text/plain": [
       "DatetimeIndex(['2015-07-06', '2015-06-02'], dtype='datetime64[ns]', freq=None)"
      ]
     },
     "execution_count": 57,
     "metadata": {},
     "output_type": "execute_result"
    }
   ],
   "source": [
    "import pandas as pd\n",
    "pd.to_datetime(datestrs)"
   ]
  },
  {
   "cell_type": "code",
   "execution_count": 66,
   "metadata": {},
   "outputs": [
    {
     "data": {
      "text/plain": [
       "DatetimeIndex(['2015-07-06', '2015-06-02', 'NaT'], dtype='datetime64[ns]', freq=None)"
      ]
     },
     "execution_count": 66,
     "metadata": {},
     "output_type": "execute_result"
    }
   ],
   "source": [
    "# 它还可以处理缺失值（None、空字符串等）\n",
    "#NaT(Not a Time) 是 pandas 中的时间戳数据的 NA 值\n",
    "idx = pd.to_datetime(datestrs+[None])\n",
    "idx"
   ]
  },
  {
   "cell_type": "code",
   "execution_count": 63,
   "metadata": {},
   "outputs": [
    {
     "data": {
      "text/plain": [
       "NaT"
      ]
     },
     "execution_count": 63,
     "metadata": {},
     "output_type": "execute_result"
    }
   ],
   "source": [
    "idx[2]"
   ]
  },
  {
   "cell_type": "code",
   "execution_count": 68,
   "metadata": {},
   "outputs": [
    {
     "data": {
      "text/plain": [
       "array([False, False,  True])"
      ]
     },
     "execution_count": 68,
     "metadata": {},
     "output_type": "execute_result"
    }
   ],
   "source": [
    "pd.isnull(idx)\n"
   ]
  },
  {
   "cell_type": "markdown",
   "metadata": {},
   "source": [
    "datetime 格式定义：\n",
    "\n",
    "代码\t| 说明\n",
    "---|---\n",
    "%Y\t| 4位数的年\n",
    "%y\t| 2位数的年\n",
    "%m\t| 2位数的月\n",
    "%d\t| 2位数的日\n",
    "%H\t| 时（24小时制）\n",
    "%I\t| 时（12小时制）\n",
    "%M\t| 2位数的分\n",
    "%S\t| 秒\n",
    "%w\t| 用于整数表示的星期几\n",
    "%U\t| 每年的第几周。星期天被认为是每周的第一天，每年第一个星期天之前的第几天被认为是“第0周”\n",
    "%W\t| 每年的第几周。星期一被认为是每周的第一天，每年第一个星期一之前的那几天被认为是“第0周”\n",
    "%z\t| 以+HHMM 或-HHMM 表示的 UTC 时区偏移量，如果时区为 naive，则返回空字符串\n",
    "%F\t| %Y-%m-%d 简写形式，例如2015-04-12\n",
    "%D\t| %m/%d/%y 简写形式，例如04/12/2015"
   ]
  },
  {
   "cell_type": "markdown",
   "metadata": {},
   "source": [
    "## 时间序列基础\n"
   ]
  },
  {
   "cell_type": "code",
   "execution_count": 77,
   "metadata": {},
   "outputs": [],
   "source": [
    "from pandas import Series\n",
    "import numpy as np\n",
    "dates = [datetime(2015,1,2),datetime(2015,1,5),\n",
    "     datetime(2015,1,7),datetime(2015,1,8),\n",
    "    datetime(2015,1,10),datetime(2015,1,12)]\n",
    "ts = Series(np.random.randn(6), index=dates)  #日期作为索引"
   ]
  },
  {
   "cell_type": "code",
   "execution_count": 78,
   "metadata": {},
   "outputs": [
    {
     "data": {
      "text/plain": [
       "2015-01-02   -0.642762\n",
       "2015-01-05    0.365608\n",
       "2015-01-07   -0.665113\n",
       "2015-01-08   -0.821562\n",
       "2015-01-10    0.253910\n",
       "2015-01-12    0.045818\n",
       "dtype: float64"
      ]
     },
     "execution_count": 78,
     "metadata": {},
     "output_type": "execute_result"
    }
   ],
   "source": [
    "ts"
   ]
  },
  {
   "cell_type": "code",
   "execution_count": 80,
   "metadata": {},
   "outputs": [
    {
     "data": {
      "text/plain": [
       "pandas.core.series.Series"
      ]
     },
     "execution_count": 80,
     "metadata": {},
     "output_type": "execute_result"
    }
   ],
   "source": [
    "# 这些 datetime 对象实际是被放在一个 DatetimeIndex 中\n",
    "\n",
    "#现在 ts 就变成为一个 TimeSeries 了\n",
    "\n",
    "type(ts)\n"
   ]
  },
  {
   "cell_type": "code",
   "execution_count": 83,
   "metadata": {},
   "outputs": [
    {
     "data": {
      "text/plain": [
       "2015-01-02   -1.285523\n",
       "2015-01-05         NaN\n",
       "2015-01-07   -1.330226\n",
       "2015-01-08         NaN\n",
       "2015-01-10    0.507821\n",
       "2015-01-12         NaN\n",
       "dtype: float64"
      ]
     },
     "execution_count": 83,
     "metadata": {},
     "output_type": "execute_result"
    }
   ],
   "source": [
    "#不同索引的时间序列之间的算术运算会自动按日期对齐\n",
    "ts + ts[::2]"
   ]
  },
  {
   "cell_type": "code",
   "execution_count": 85,
   "metadata": {},
   "outputs": [
    {
     "data": {
      "text/plain": [
       "Timestamp('2015-01-02 00:00:00')"
      ]
     },
     "execution_count": 85,
     "metadata": {},
     "output_type": "execute_result"
    }
   ],
   "source": [
    " #pandas 用 NumPy 的 datetime64数据类型以纳秒形式存储时间戳\n",
    "\n",
    "ts.index.dtype\n",
    "\n",
    "#DatetimeIndex中的各个标量值是pandas的Timestamp 对象\n",
    "\n",
    "stamp = ts.index[0]\n",
    "\n",
    "stamp\n"
   ]
  },
  {
   "cell_type": "markdown",
   "metadata": {},
   "source": [
    "只要需要，TimeStamp 可以随时自动转换为 datatime 对象。此外，它还可以存储频率信息（如果有的话），且知道如何执行时区转换以及其他操作。\n",
    "\n",
    "　　由于 TimeSeries 是 Series 的一个子类，所以在索引以及数据选取方面他们的行为是一样的"
   ]
  },
  {
   "cell_type": "code",
   "execution_count": 87,
   "metadata": {},
   "outputs": [],
   "source": [
    " stamp = ts.index[2]"
   ]
  },
  {
   "cell_type": "code",
   "execution_count": 89,
   "metadata": {},
   "outputs": [
    {
     "data": {
      "text/plain": [
       "-0.6651127601116245"
      ]
     },
     "execution_count": 89,
     "metadata": {},
     "output_type": "execute_result"
    }
   ],
   "source": [
    " ts[stamp]"
   ]
  },
  {
   "cell_type": "code",
   "execution_count": 91,
   "metadata": {},
   "outputs": [
    {
     "data": {
      "text/plain": [
       "0.25391031356614663"
      ]
     },
     "execution_count": 91,
     "metadata": {},
     "output_type": "execute_result"
    }
   ],
   "source": [
    "# 还有一种更方便的用法：传入一个可以被理解为日期的字符串\n",
    "ts['1/10/2015']"
   ]
  },
  {
   "cell_type": "code",
   "execution_count": 93,
   "metadata": {},
   "outputs": [
    {
     "data": {
      "text/plain": [
       "0.25391031356614663"
      ]
     },
     "execution_count": 93,
     "metadata": {},
     "output_type": "execute_result"
    }
   ],
   "source": [
    "ts['20150110']"
   ]
  },
  {
   "cell_type": "code",
   "execution_count": 95,
   "metadata": {},
   "outputs": [],
   "source": [
    "# 对于较长的时间序列，只需传入“年”或“年月”即可轻松选取数据的切片"
   ]
  },
  {
   "cell_type": "code",
   "execution_count": 97,
   "metadata": {},
   "outputs": [],
   "source": [
    " longer_ts = Series(np.random.randn(1000),\n",
    "   index=pd.date_range('1/1/2015',periods=1000))"
   ]
  },
  {
   "cell_type": "code",
   "execution_count": 99,
   "metadata": {},
   "outputs": [
    {
     "data": {
      "text/plain": [
       "2015-01-01    0.073561\n",
       "2015-01-02    1.543568\n",
       "2015-01-03    0.156772\n",
       "2015-01-04   -1.923573\n",
       "2015-01-05   -0.790895\n",
       "                ...   \n",
       "2017-09-22   -0.105876\n",
       "2017-09-23   -0.466456\n",
       "2017-09-24   -0.889453\n",
       "2017-09-25   -0.197545\n",
       "2017-09-26    0.194039\n",
       "Freq: D, Length: 1000, dtype: float64"
      ]
     },
     "execution_count": 99,
     "metadata": {},
     "output_type": "execute_result"
    }
   ],
   "source": [
    "longer_ts"
   ]
  },
  {
   "cell_type": "code",
   "execution_count": 101,
   "metadata": {},
   "outputs": [
    {
     "data": {
      "text/plain": [
       "2015-01-01    0.073561\n",
       "2015-01-02    1.543568\n",
       "2015-01-03    0.156772\n",
       "2015-01-04   -1.923573\n",
       "2015-01-05   -0.790895\n",
       "                ...   \n",
       "2015-12-27    1.458411\n",
       "2015-12-28   -0.702831\n",
       "2015-12-29    0.264019\n",
       "2015-12-30    0.006788\n",
       "2015-12-31   -0.037490\n",
       "Freq: D, Length: 365, dtype: float64"
      ]
     },
     "execution_count": 101,
     "metadata": {},
     "output_type": "execute_result"
    }
   ],
   "source": [
    "longer_ts['2015']"
   ]
  },
  {
   "cell_type": "code",
   "execution_count": 103,
   "metadata": {},
   "outputs": [
    {
     "data": {
      "text/plain": [
       "2015-05-01    1.392106\n",
       "2015-05-02   -1.446560\n",
       "2015-05-03    0.488657\n",
       "2015-05-04    0.782688\n",
       "2015-05-05   -0.146637\n",
       "2015-05-06   -0.411227\n",
       "2015-05-07    3.832405\n",
       "2015-05-08   -0.053022\n",
       "2015-05-09    0.252676\n",
       "2015-05-10   -2.567266\n",
       "2015-05-11    1.106583\n",
       "2015-05-12    0.784089\n",
       "2015-05-13   -0.373775\n",
       "2015-05-14   -0.865725\n",
       "2015-05-15   -1.412856\n",
       "2015-05-16   -1.150416\n",
       "2015-05-17   -0.870327\n",
       "2015-05-18    0.594695\n",
       "2015-05-19   -1.220559\n",
       "2015-05-20    1.078356\n",
       "2015-05-21   -0.358208\n",
       "2015-05-22    3.235970\n",
       "2015-05-23    0.589803\n",
       "2015-05-24    0.961073\n",
       "2015-05-25    0.044210\n",
       "2015-05-26   -1.040356\n",
       "2015-05-27    0.750595\n",
       "2015-05-28   -1.327701\n",
       "2015-05-29   -0.884930\n",
       "2015-05-30    0.402355\n",
       "2015-05-31   -0.882803\n",
       "Freq: D, dtype: float64"
      ]
     },
     "execution_count": 103,
     "metadata": {},
     "output_type": "execute_result"
    }
   ],
   "source": [
    "longer_ts['2015-05']"
   ]
  },
  {
   "cell_type": "code",
   "execution_count": 105,
   "metadata": {},
   "outputs": [],
   "source": [
    "# 通过日期进行切片的方式只对规则 Series 有效"
   ]
  },
  {
   "cell_type": "code",
   "execution_count": 107,
   "metadata": {},
   "outputs": [
    {
     "data": {
      "text/plain": [
       "2015-01-07   -0.665113\n",
       "2015-01-08   -0.821562\n",
       "2015-01-10    0.253910\n",
       "2015-01-12    0.045818\n",
       "dtype: float64"
      ]
     },
     "execution_count": 107,
     "metadata": {},
     "output_type": "execute_result"
    }
   ],
   "source": [
    "ts[datetime(2015,1,7):]"
   ]
  },
  {
   "cell_type": "code",
   "execution_count": 109,
   "metadata": {},
   "outputs": [
    {
     "data": {
      "text/plain": [
       "2015-01-02   -0.642762\n",
       "2015-01-05    0.365608\n",
       "2015-01-07   -0.665113\n",
       "2015-01-08   -0.821562\n",
       "2015-01-10    0.253910\n",
       "2015-01-12    0.045818\n",
       "dtype: float64"
      ]
     },
     "execution_count": 109,
     "metadata": {},
     "output_type": "execute_result"
    }
   ],
   "source": [
    "# 由于大部分时间序列数据都是按照时间先后排序的\n",
    "#因此我们可以用不存在于时间序列中的时间戳进行切片\n",
    "ts"
   ]
  },
  {
   "cell_type": "code",
   "execution_count": 110,
   "metadata": {},
   "outputs": [
    {
     "data": {
      "text/plain": [
       "2015-01-07   -0.665113\n",
       "2015-01-08   -0.821562\n",
       "2015-01-10    0.253910\n",
       "dtype: float64"
      ]
     },
     "execution_count": 110,
     "metadata": {},
     "output_type": "execute_result"
    }
   ],
   "source": [
    "ts['1/6/2015':'1/11/2015']"
   ]
  },
  {
   "cell_type": "markdown",
   "metadata": {},
   "source": [
    "跟之前一样，这里可以传入字符串日期、datetime 或 Timestamp。此外还有一个等价的实例方法也可以截取两个日期之间的 TimeSeries："
   ]
  },
  {
   "cell_type": "code",
   "execution_count": 112,
   "metadata": {},
   "outputs": [
    {
     "data": {
      "text/plain": [
       "2015-01-02   -0.642762\n",
       "2015-01-05    0.365608\n",
       "2015-01-07   -0.665113\n",
       "2015-01-08   -0.821562\n",
       "dtype: float64"
      ]
     },
     "execution_count": 112,
     "metadata": {},
     "output_type": "execute_result"
    }
   ],
   "source": [
    "ts.truncate(after='1/9/2015')"
   ]
  },
  {
   "cell_type": "code",
   "execution_count": 114,
   "metadata": {},
   "outputs": [],
   "source": [
    "#对DataFrame也有效\n",
    "\n",
    "dates = pd.date_range('1/1/2015',periods = 100,\n",
    "                          freq = 'W-WED')"
   ]
  },
  {
   "cell_type": "code",
   "execution_count": 117,
   "metadata": {},
   "outputs": [],
   "source": [
    "long_df = pd.DataFrame(np.random.randn(100,4),\n",
    "       index = dates,\n",
    "       columns = ['Colorado','Texas','New York','Ohio'])"
   ]
  },
  {
   "cell_type": "code",
   "execution_count": 119,
   "metadata": {},
   "outputs": [
    {
     "name": "stderr",
     "output_type": "stream",
     "text": [
      "/usr/local/lib/python3.7/site-packages/ipykernel_launcher.py:1: FutureWarning: \n",
      ".ix is deprecated. Please use\n",
      ".loc for label based indexing or\n",
      ".iloc for positional indexing\n",
      "\n",
      "See the documentation here:\n",
      "http://pandas.pydata.org/pandas-docs/stable/user_guide/indexing.html#ix-indexer-is-deprecated\n",
      "  \"\"\"Entry point for launching an IPython kernel.\n"
     ]
    },
    {
     "data": {
      "text/html": [
       "<div>\n",
       "<style scoped>\n",
       "    .dataframe tbody tr th:only-of-type {\n",
       "        vertical-align: middle;\n",
       "    }\n",
       "\n",
       "    .dataframe tbody tr th {\n",
       "        vertical-align: top;\n",
       "    }\n",
       "\n",
       "    .dataframe thead th {\n",
       "        text-align: right;\n",
       "    }\n",
       "</style>\n",
       "<table border=\"1\" class=\"dataframe\">\n",
       "  <thead>\n",
       "    <tr style=\"text-align: right;\">\n",
       "      <th></th>\n",
       "      <th>Colorado</th>\n",
       "      <th>Texas</th>\n",
       "      <th>New York</th>\n",
       "      <th>Ohio</th>\n",
       "    </tr>\n",
       "  </thead>\n",
       "  <tbody>\n",
       "    <tr>\n",
       "      <td>2015-05-06</td>\n",
       "      <td>-0.813204</td>\n",
       "      <td>0.364178</td>\n",
       "      <td>0.021878</td>\n",
       "      <td>-1.287467</td>\n",
       "    </tr>\n",
       "    <tr>\n",
       "      <td>2015-05-13</td>\n",
       "      <td>-0.647925</td>\n",
       "      <td>-3.147252</td>\n",
       "      <td>-1.155889</td>\n",
       "      <td>0.697467</td>\n",
       "    </tr>\n",
       "    <tr>\n",
       "      <td>2015-05-20</td>\n",
       "      <td>0.564036</td>\n",
       "      <td>1.050701</td>\n",
       "      <td>-0.579128</td>\n",
       "      <td>0.454966</td>\n",
       "    </tr>\n",
       "    <tr>\n",
       "      <td>2015-05-27</td>\n",
       "      <td>-0.831135</td>\n",
       "      <td>-1.937266</td>\n",
       "      <td>0.638902</td>\n",
       "      <td>-1.633440</td>\n",
       "    </tr>\n",
       "  </tbody>\n",
       "</table>\n",
       "</div>"
      ],
      "text/plain": [
       "            Colorado     Texas  New York      Ohio\n",
       "2015-05-06 -0.813204  0.364178  0.021878 -1.287467\n",
       "2015-05-13 -0.647925 -3.147252 -1.155889  0.697467\n",
       "2015-05-20  0.564036  1.050701 -0.579128  0.454966\n",
       "2015-05-27 -0.831135 -1.937266  0.638902 -1.633440"
      ]
     },
     "execution_count": 119,
     "metadata": {},
     "output_type": "execute_result"
    }
   ],
   "source": [
    "long_df.ix['5-2015']"
   ]
  },
  {
   "cell_type": "code",
   "execution_count": 123,
   "metadata": {},
   "outputs": [
    {
     "data": {
      "text/plain": [
       "2015-01-01    0\n",
       "2015-01-02    1\n",
       "2015-01-02    2\n",
       "2015-01-02    3\n",
       "2015-01-03    4\n",
       "dtype: int64"
      ]
     },
     "execution_count": 123,
     "metadata": {},
     "output_type": "execute_result"
    }
   ],
   "source": [
    "#在某些应用场景中，可能会存在多个观测数据落在同一个时间点上的情况 \n",
    "dates = pd.DatetimeIndex(['1/1/2015','1/2/2015',\n",
    "    '1/2/2015','1/2/2015','1/3/2015'])\n",
    "dup_ts = Series(np.arange(5),index=dates)\n",
    "dup_ts"
   ]
  },
  {
   "cell_type": "code",
   "execution_count": 125,
   "metadata": {},
   "outputs": [
    {
     "data": {
      "text/plain": [
       "False"
      ]
     },
     "execution_count": 125,
     "metadata": {},
     "output_type": "execute_result"
    }
   ],
   "source": [
    " # 通过检查索引的 is_unique 属性，我们可以知道它是不是唯一的\n",
    "dup_ts.index.is_unique   "
   ]
  },
  {
   "cell_type": "code",
   "execution_count": 129,
   "metadata": {},
   "outputs": [
    {
     "data": {
      "text/plain": [
       "4"
      ]
     },
     "execution_count": 129,
     "metadata": {},
     "output_type": "execute_result"
    }
   ],
   "source": [
    "# 对这个时间序列进行索引，要么产生标量值，要么产生切片\n",
    "\n",
    "# 具体要看所选的时间点是否重复\n",
    "dup_ts['1/3/2015'] # 不重复"
   ]
  },
  {
   "cell_type": "code",
   "execution_count": 130,
   "metadata": {},
   "outputs": [
    {
     "data": {
      "text/plain": [
       "2015-01-02    1\n",
       "2015-01-02    2\n",
       "2015-01-02    3\n",
       "dtype: int64"
      ]
     },
     "execution_count": 130,
     "metadata": {},
     "output_type": "execute_result"
    }
   ],
   "source": [
    "\n",
    "dup_ts['1/2/2015'] # 重复"
   ]
  },
  {
   "cell_type": "markdown",
   "metadata": {},
   "source": [
    "假设我们想要对具体非唯一时间戳的数据进行聚合。一个办法是使用 groupby，并传入 level=0（索引的唯一一层）："
   ]
  },
  {
   "cell_type": "code",
   "execution_count": 132,
   "metadata": {},
   "outputs": [],
   "source": [
    "grouped = dup_ts.groupby(level=0)"
   ]
  },
  {
   "cell_type": "code",
   "execution_count": 134,
   "metadata": {},
   "outputs": [
    {
     "data": {
      "text/plain": [
       "2015-01-01    0\n",
       "2015-01-02    2\n",
       "2015-01-03    4\n",
       "dtype: int64"
      ]
     },
     "execution_count": 134,
     "metadata": {},
     "output_type": "execute_result"
    }
   ],
   "source": [
    "grouped.mean()"
   ]
  },
  {
   "cell_type": "code",
   "execution_count": 135,
   "metadata": {},
   "outputs": [
    {
     "data": {
      "text/plain": [
       "2015-01-01    1\n",
       "2015-01-02    3\n",
       "2015-01-03    1\n",
       "dtype: int64"
      ]
     },
     "execution_count": 135,
     "metadata": {},
     "output_type": "execute_result"
    }
   ],
   "source": [
    "grouped.count()"
   ]
  }
 ],
 "metadata": {
  "kernelspec": {
   "display_name": "Python 3",
   "language": "python",
   "name": "python3"
  },
  "language_info": {
   "codemirror_mode": {
    "name": "ipython",
    "version": 3
   },
   "file_extension": ".py",
   "mimetype": "text/x-python",
   "name": "python",
   "nbconvert_exporter": "python",
   "pygments_lexer": "ipython3",
   "version": "3.7.7"
  }
 },
 "nbformat": 4,
 "nbformat_minor": 4
}
