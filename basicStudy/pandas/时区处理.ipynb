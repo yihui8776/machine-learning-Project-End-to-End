{
 "cells": [
  {
   "cell_type": "markdown",
   "metadata": {},
   "source": [
    "　时间序列处理工作中最让人不爽的就是对时区的处理。尤其是夏令时（DST）转变，这是一种最常见的麻烦事。就这一点来说，许多人选择以协调世界时（UTC，它是格林尼治标准时间（Greenwich Mean Time）的接替者，目前已经是国际标准了）来处理时间序列。时区是以 UTC 偏移量的形式表示的。\n",
    "\n",
    "　　在 Python 中，时区信息来自第三方库 pytz，它使 Python 可以使用 Olson 数据库（汇编了世界时区信息）。这对历史数据非常重要，这是因为由于各地政府的各种突发奇想，夏令时转变日期（甚至 UTC 偏移量）已经发生过多次改变。 　　 　　 "
   ]
  },
  {
   "cell_type": "code",
   "execution_count": 9,
   "metadata": {},
   "outputs": [
    {
     "data": {
      "text/plain": [
       "'Asia/Bishkek'"
      ]
     },
     "execution_count": 9,
     "metadata": {},
     "output_type": "execute_result"
    }
   ],
   "source": [
    "#pandas 包装了 pytz 的功能\n",
    "import pytz\n",
    "pytz.common_timezones[225]"
   ]
  },
  {
   "cell_type": "code",
   "execution_count": 10,
   "metadata": {},
   "outputs": [],
   "source": [
    "tz = pytz.timezone('Asia/Bishkek')"
   ]
  },
  {
   "cell_type": "code",
   "execution_count": 11,
   "metadata": {},
   "outputs": [
    {
     "data": {
      "text/plain": [
       "<DstTzInfo 'Asia/Bishkek' LMT+4:58:00 STD>"
      ]
     },
     "execution_count": 11,
     "metadata": {},
     "output_type": "execute_result"
    }
   ],
   "source": [
    "tz"
   ]
  },
  {
   "cell_type": "markdown",
   "metadata": {},
   "source": [
    "## 本地化和转换\n",
    "默认情况下，pandas 中的时间序列是单纯的时区"
   ]
  },
  {
   "cell_type": "code",
   "execution_count": 15,
   "metadata": {},
   "outputs": [
    {
     "name": "stdout",
     "output_type": "stream",
     "text": [
      "None\n"
     ]
    }
   ],
   "source": [
    "import pandas as pd \n",
    "from pandas import Series\n",
    "import numpy as np\n",
    "rng = pd.date_range('3/9/2015 9:30', periods = 10, freq = 'D')\n",
    "\n",
    "ts = Series(np.random.randn(len(rng)), index = rng)\n",
    "\n",
    "# 其索引的 tz 字段为 None\n",
    "\n",
    "print(ts.index.tz)"
   ]
  },
  {
   "cell_type": "code",
   "execution_count": 17,
   "metadata": {},
   "outputs": [
    {
     "data": {
      "text/plain": [
       "DatetimeIndex(['2015-01-01 09:30:00+00:00', '2015-01-02 09:30:00+00:00',\n",
       "               '2015-01-03 09:30:00+00:00', '2015-01-04 09:30:00+00:00',\n",
       "               '2015-01-05 09:30:00+00:00'],\n",
       "              dtype='datetime64[ns, UTC]', freq='D')"
      ]
     },
     "execution_count": 17,
     "metadata": {},
     "output_type": "execute_result"
    }
   ],
   "source": [
    "##在生成日期范围的时候还可以加上一个时区集\n",
    "pd.date_range('1/1/2015 9:30',periods=5,freq='D',tz='UTC')"
   ]
  },
  {
   "cell_type": "code",
   "execution_count": 18,
   "metadata": {},
   "outputs": [],
   "source": [
    "#从单纯到本地化的转换是通过 tz_localize 方法处理的："
   ]
  },
  {
   "cell_type": "code",
   "execution_count": 22,
   "metadata": {},
   "outputs": [
    {
     "data": {
      "text/plain": [
       "2015-03-09 09:30:00+00:00    0.772150\n",
       "2015-03-10 09:30:00+00:00    0.460809\n",
       "2015-03-11 09:30:00+00:00   -0.298266\n",
       "2015-03-12 09:30:00+00:00   -0.654774\n",
       "2015-03-13 09:30:00+00:00   -1.166563\n",
       "2015-03-14 09:30:00+00:00   -2.282594\n",
       "2015-03-15 09:30:00+00:00   -1.988850\n",
       "2015-03-16 09:30:00+00:00    0.515585\n",
       "2015-03-17 09:30:00+00:00   -0.304845\n",
       "2015-03-18 09:30:00+00:00    0.884675\n",
       "Freq: D, dtype: float64"
      ]
     },
     "execution_count": 22,
     "metadata": {},
     "output_type": "execute_result"
    }
   ],
   "source": [
    "ts_utc = ts.tz_localize('UTC')\n",
    "\n",
    "ts_utc"
   ]
  },
  {
   "cell_type": "code",
   "execution_count": 23,
   "metadata": {},
   "outputs": [
    {
     "data": {
      "text/plain": [
       "DatetimeIndex(['2015-03-09 09:30:00+00:00', '2015-03-10 09:30:00+00:00',\n",
       "               '2015-03-11 09:30:00+00:00', '2015-03-12 09:30:00+00:00',\n",
       "               '2015-03-13 09:30:00+00:00', '2015-03-14 09:30:00+00:00',\n",
       "               '2015-03-15 09:30:00+00:00', '2015-03-16 09:30:00+00:00',\n",
       "               '2015-03-17 09:30:00+00:00', '2015-03-18 09:30:00+00:00'],\n",
       "              dtype='datetime64[ns, UTC]', freq='D')"
      ]
     },
     "execution_count": 23,
     "metadata": {},
     "output_type": "execute_result"
    }
   ],
   "source": [
    "ts_utc.index"
   ]
  },
  {
   "cell_type": "code",
   "execution_count": 25,
   "metadata": {},
   "outputs": [
    {
     "data": {
      "text/plain": [
       "2015-03-09 17:30:00+08:00    0.772150\n",
       "2015-03-10 17:30:00+08:00    0.460809\n",
       "2015-03-11 17:30:00+08:00   -0.298266\n",
       "2015-03-12 17:30:00+08:00   -0.654774\n",
       "2015-03-13 17:30:00+08:00   -1.166563\n",
       "2015-03-14 17:30:00+08:00   -2.282594\n",
       "2015-03-15 17:30:00+08:00   -1.988850\n",
       "2015-03-16 17:30:00+08:00    0.515585\n",
       "2015-03-17 17:30:00+08:00   -0.304845\n",
       "2015-03-18 17:30:00+08:00    0.884675\n",
       "Freq: D, dtype: float64"
      ]
     },
     "execution_count": 25,
     "metadata": {},
     "output_type": "execute_result"
    }
   ],
   "source": [
    "#转为特定时\n",
    "ts_utc.tz_convert('Asia/Chongqing')"
   ]
  },
  {
   "cell_type": "markdown",
   "metadata": {},
   "source": [
    "## 操作时区意识型 Timestamp 对象"
   ]
  },
  {
   "cell_type": "markdown",
   "metadata": {},
   "source": [
    "跟时间序列和日期范围差不多，Timestamp 对象也能被从单纯型本地化为时区意识型（time zone-aware）"
   ]
  },
  {
   "cell_type": "code",
   "execution_count": 29,
   "metadata": {},
   "outputs": [],
   "source": [
    "stamp = pd.Timestamp('2019-08-12 04:00')"
   ]
  },
  {
   "cell_type": "code",
   "execution_count": 31,
   "metadata": {},
   "outputs": [],
   "source": [
    "stamp_utc = stamp.tz_localize('utc')"
   ]
  },
  {
   "cell_type": "code",
   "execution_count": 33,
   "metadata": {},
   "outputs": [
    {
     "data": {
      "text/plain": [
       "Timestamp('2019-08-12 12:00:00+0800', tz='Asia/Shanghai')"
      ]
     },
     "execution_count": 33,
     "metadata": {},
     "output_type": "execute_result"
    }
   ],
   "source": [
    "stamp_utc.tz_convert('Asia/Shanghai')"
   ]
  },
  {
   "cell_type": "code",
   "execution_count": 35,
   "metadata": {},
   "outputs": [
    {
     "data": {
      "text/plain": [
       "Timestamp('2015-08-12 04:00:00+0300', tz='Europe/Moscow')"
      ]
     },
     "execution_count": 35,
     "metadata": {},
     "output_type": "execute_result"
    }
   ],
   "source": [
    "## 在创建 Timestamp 时，还可以传入一个时区信息：\n",
    "stamp_moscow=pd.Timestamp('2015-08-12 04:00',tz='Europe/Moscow')\n",
    "\n",
    "stamp_moscow"
   ]
  },
  {
   "cell_type": "markdown",
   "metadata": {},
   "source": [
    "时区意识型 Timestamp 对象在内部保存了一个 UTC 时间戳值（自 UNIX 纪元（1970年1月1日）算起的纳秒数）。这个 UTC 值在时区转换过程中是不会发生变化的："
   ]
  },
  {
   "cell_type": "code",
   "execution_count": 37,
   "metadata": {},
   "outputs": [
    {
     "data": {
      "text/plain": [
       "1565582400000000000"
      ]
     },
     "execution_count": 37,
     "metadata": {},
     "output_type": "execute_result"
    }
   ],
   "source": [
    "stamp_utc.value"
   ]
  },
  {
   "cell_type": "code",
   "execution_count": 39,
   "metadata": {},
   "outputs": [
    {
     "data": {
      "text/plain": [
       "1565582400000000000"
      ]
     },
     "execution_count": 39,
     "metadata": {},
     "output_type": "execute_result"
    }
   ],
   "source": [
    "stamp_utc.tz_convert('US/Eastern').value"
   ]
  },
  {
   "cell_type": "code",
   "execution_count": 42,
   "metadata": {},
   "outputs": [
    {
     "data": {
      "text/html": [
       "<div>\n",
       "<style scoped>\n",
       "    .dataframe tbody tr th:only-of-type {\n",
       "        vertical-align: middle;\n",
       "    }\n",
       "\n",
       "    .dataframe tbody tr th {\n",
       "        vertical-align: top;\n",
       "    }\n",
       "\n",
       "    .dataframe thead th {\n",
       "        text-align: right;\n",
       "    }\n",
       "</style>\n",
       "<table border=\"1\" class=\"dataframe\">\n",
       "  <thead>\n",
       "    <tr style=\"text-align: right;\">\n",
       "      <th></th>\n",
       "      <th>itemid</th>\n",
       "      <th>name</th>\n",
       "      <th>bomc_id</th>\n",
       "      <th>timestamp</th>\n",
       "      <th>value</th>\n",
       "      <th>cmdb_id</th>\n",
       "    </tr>\n",
       "  </thead>\n",
       "  <tbody>\n",
       "    <tr>\n",
       "      <td>0</td>\n",
       "      <td>999999996381369</td>\n",
       "      <td>container_thread_idle</td>\n",
       "      <td>ZJ-004-063</td>\n",
       "      <td>1586534406000</td>\n",
       "      <td>0.0</td>\n",
       "      <td>docker_002</td>\n",
       "    </tr>\n",
       "    <tr>\n",
       "      <td>1</td>\n",
       "      <td>999999996381255</td>\n",
       "      <td>container_session_used</td>\n",
       "      <td>ZJ-004-058</td>\n",
       "      <td>1586534417000</td>\n",
       "      <td>0.0</td>\n",
       "      <td>docker_005</td>\n",
       "    </tr>\n",
       "    <tr>\n",
       "      <td>2</td>\n",
       "      <td>999999996381449</td>\n",
       "      <td>container_cpu_used</td>\n",
       "      <td>ZJ-004-059</td>\n",
       "      <td>1586534402000</td>\n",
       "      <td>2.0</td>\n",
       "      <td>docker_004</td>\n",
       "    </tr>\n",
       "    <tr>\n",
       "      <td>3</td>\n",
       "      <td>999999996381323</td>\n",
       "      <td>container_thread_idle</td>\n",
       "      <td>ZJ-004-063</td>\n",
       "      <td>1586534423000</td>\n",
       "      <td>0.0</td>\n",
       "      <td>docker_008</td>\n",
       "    </tr>\n",
       "    <tr>\n",
       "      <td>4</td>\n",
       "      <td>999999996381393</td>\n",
       "      <td>container_session_used</td>\n",
       "      <td>ZJ-004-058</td>\n",
       "      <td>1586534428000</td>\n",
       "      <td>0.0</td>\n",
       "      <td>docker_003</td>\n",
       "    </tr>\n",
       "    <tr>\n",
       "      <td>...</td>\n",
       "      <td>...</td>\n",
       "      <td>...</td>\n",
       "      <td>...</td>\n",
       "      <td>...</td>\n",
       "      <td>...</td>\n",
       "      <td>...</td>\n",
       "    </tr>\n",
       "    <tr>\n",
       "      <td>25582</td>\n",
       "      <td>999999996381333</td>\n",
       "      <td>container_fgct</td>\n",
       "      <td>ZJ-004-104</td>\n",
       "      <td>1586555816000</td>\n",
       "      <td>0.0</td>\n",
       "      <td>docker_008</td>\n",
       "    </tr>\n",
       "    <tr>\n",
       "      <td>25583</td>\n",
       "      <td>999999996381367</td>\n",
       "      <td>container_thread_total</td>\n",
       "      <td>ZJ-004-064</td>\n",
       "      <td>1586555975000</td>\n",
       "      <td>0.0</td>\n",
       "      <td>docker_002</td>\n",
       "    </tr>\n",
       "    <tr>\n",
       "      <td>25584</td>\n",
       "      <td>999999996381367</td>\n",
       "      <td>container_thread_total</td>\n",
       "      <td>ZJ-004-064</td>\n",
       "      <td>1586555883000</td>\n",
       "      <td>0.0</td>\n",
       "      <td>docker_002</td>\n",
       "    </tr>\n",
       "    <tr>\n",
       "      <td>25585</td>\n",
       "      <td>999999996381367</td>\n",
       "      <td>container_thread_total</td>\n",
       "      <td>ZJ-004-064</td>\n",
       "      <td>1586555857000</td>\n",
       "      <td>0.0</td>\n",
       "      <td>docker_002</td>\n",
       "    </tr>\n",
       "    <tr>\n",
       "      <td>25586</td>\n",
       "      <td>999999996381367</td>\n",
       "      <td>container_thread_total</td>\n",
       "      <td>ZJ-004-064</td>\n",
       "      <td>1586555797000</td>\n",
       "      <td>0.0</td>\n",
       "      <td>docker_002</td>\n",
       "    </tr>\n",
       "  </tbody>\n",
       "</table>\n",
       "<p>25587 rows × 6 columns</p>\n",
       "</div>"
      ],
      "text/plain": [
       "                itemid                    name     bomc_id      timestamp  \\\n",
       "0      999999996381369   container_thread_idle  ZJ-004-063  1586534406000   \n",
       "1      999999996381255  container_session_used  ZJ-004-058  1586534417000   \n",
       "2      999999996381449      container_cpu_used  ZJ-004-059  1586534402000   \n",
       "3      999999996381323   container_thread_idle  ZJ-004-063  1586534423000   \n",
       "4      999999996381393  container_session_used  ZJ-004-058  1586534428000   \n",
       "...                ...                     ...         ...            ...   \n",
       "25582  999999996381333          container_fgct  ZJ-004-104  1586555816000   \n",
       "25583  999999996381367  container_thread_total  ZJ-004-064  1586555975000   \n",
       "25584  999999996381367  container_thread_total  ZJ-004-064  1586555883000   \n",
       "25585  999999996381367  container_thread_total  ZJ-004-064  1586555857000   \n",
       "25586  999999996381367  container_thread_total  ZJ-004-064  1586555797000   \n",
       "\n",
       "       value     cmdb_id  \n",
       "0        0.0  docker_002  \n",
       "1        0.0  docker_005  \n",
       "2        2.0  docker_004  \n",
       "3        0.0  docker_008  \n",
       "4        0.0  docker_003  \n",
       "...      ...         ...  \n",
       "25582    0.0  docker_008  \n",
       "25583    0.0  docker_002  \n",
       "25584    0.0  docker_002  \n",
       "25585    0.0  docker_002  \n",
       "25586    0.0  docker_002  \n",
       "\n",
       "[25587 rows x 6 columns]"
      ]
     },
     "execution_count": 42,
     "metadata": {},
     "output_type": "execute_result"
    }
   ],
   "source": [
    "#反转\n",
    "docker = pd.read_csv('../data/platform/dcos_docker.csv')\n",
    "docker"
   ]
  },
  {
   "cell_type": "code",
   "execution_count": 44,
   "metadata": {},
   "outputs": [
    {
     "data": {
      "text/plain": [
       "0       2020-04-11 00:00:06\n",
       "1       2020-04-11 00:00:17\n",
       "2       2020-04-11 00:00:02\n",
       "3       2020-04-11 00:00:23\n",
       "4       2020-04-11 00:00:28\n",
       "                ...        \n",
       "25582   2020-04-11 05:56:56\n",
       "25583   2020-04-11 05:59:35\n",
       "25584   2020-04-11 05:58:03\n",
       "25585   2020-04-11 05:57:37\n",
       "25586   2020-04-11 05:56:37\n",
       "Name: datetime, Length: 25587, dtype: datetime64[ns]"
      ]
     },
     "execution_count": 44,
     "metadata": {},
     "output_type": "execute_result"
    }
   ],
   "source": [
    "import datetime\n",
    "docker['datetime'] = docker['timestamp'].map( lambda x : datetime.datetime.fromtimestamp(x / 1000) )\n",
    "docker['datetime']"
   ]
  },
  {
   "cell_type": "markdown",
   "metadata": {},
   "source": [
    "## 不同时区之间的运算\n",
    "如果两个时间序列的时区不同，在将它们合并到一起时，最终结果就会是 UTC。由于时间戳其实是以 UTC 存储的，所以这是一个很简单的运算，并不需要发生任何转换：\n"
   ]
  },
  {
   "cell_type": "code",
   "execution_count": 47,
   "metadata": {},
   "outputs": [
    {
     "data": {
      "text/plain": [
       "2015-03-09 09:30:00   -0.689909\n",
       "2015-03-10 09:30:00    0.469207\n",
       "2015-03-11 09:30:00    2.020969\n",
       "2015-03-12 09:30:00    0.266566\n",
       "2015-03-13 09:30:00    1.123903\n",
       "2015-03-16 09:30:00    0.184810\n",
       "2015-03-17 09:30:00    1.547769\n",
       "2015-03-18 09:30:00   -1.375980\n",
       "2015-03-19 09:30:00   -0.450079\n",
       "2015-03-20 09:30:00   -0.262155\n",
       "Freq: B, dtype: float64"
      ]
     },
     "execution_count": 47,
     "metadata": {},
     "output_type": "execute_result"
    }
   ],
   "source": [
    "rng = pd.date_range('3/7/2015 9:30', periods=10,freq='B')\n",
    "\n",
    "ts = Series(np.random.randn(len(rng)),index=rng)\n",
    "\n",
    "ts"
   ]
  },
  {
   "cell_type": "code",
   "execution_count": 50,
   "metadata": {},
   "outputs": [
    {
     "data": {
      "text/plain": [
       "DatetimeIndex(['2015-03-09 09:30:00+00:00', '2015-03-10 09:30:00+00:00',\n",
       "               '2015-03-11 09:30:00+00:00', '2015-03-12 09:30:00+00:00',\n",
       "               '2015-03-13 09:30:00+00:00', '2015-03-16 09:30:00+00:00',\n",
       "               '2015-03-17 09:30:00+00:00'],\n",
       "              dtype='datetime64[ns, UTC]', freq='B')"
      ]
     },
     "execution_count": 50,
     "metadata": {},
     "output_type": "execute_result"
    }
   ],
   "source": [
    "ts1 = ts[:7].tz_localize('Europe/London')\n",
    "ts2 = ts1[2:].tz_convert('Europe/Moscow')\n",
    "\n",
    "result = ts1 + ts2\n",
    "\n",
    "result.index"
   ]
  }
 ],
 "metadata": {
  "kernelspec": {
   "display_name": "Python 3",
   "language": "python",
   "name": "python3"
  },
  "language_info": {
   "codemirror_mode": {
    "name": "ipython",
    "version": 3
   },
   "file_extension": ".py",
   "mimetype": "text/x-python",
   "name": "python",
   "nbconvert_exporter": "python",
   "pygments_lexer": "ipython3",
   "version": "3.7.7"
  }
 },
 "nbformat": 4,
 "nbformat_minor": 4
}
