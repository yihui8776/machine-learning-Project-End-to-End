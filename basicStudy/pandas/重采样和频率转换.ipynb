{
 "cells": [
  {
   "cell_type": "markdown",
   "metadata": {},
   "source": [
    "## 重采样（resampling）\n",
    "指的是将时间序列从一个频率转换到另一个频率的处理过程。将高频率数据聚合到低频率称为降采样（downsampling），而将低频率数据转换到高频率称为升采样（upsampling）。并不是所有的重采样都能被划分到这两个大类中。例如，将 W-WED（每周三）转换为 W-FRI 即不是降采样也不是升采样。"
   ]
  },
  {
   "cell_type": "code",
   "execution_count": 6,
   "metadata": {},
   "outputs": [],
   "source": [
    "import pandas as pd\n",
    "from pandas import Series ,DataFrame\n",
    "import numpy as np"
   ]
  },
  {
   "cell_type": "code",
   "execution_count": 4,
   "metadata": {},
   "outputs": [],
   "source": [
    "rng = pd.date_range('1/1/2000',periods=100,freq='D')"
   ]
  },
  {
   "cell_type": "code",
   "execution_count": 8,
   "metadata": {},
   "outputs": [],
   "source": [
    "ts = Series(np.random.randn(len(rng)), index = rng)"
   ]
  },
  {
   "cell_type": "code",
   "execution_count": 10,
   "metadata": {},
   "outputs": [
    {
     "name": "stderr",
     "output_type": "stream",
     "text": [
      "/usr/local/lib/python3.7/site-packages/ipykernel_launcher.py:1: FutureWarning: how in .resample() is deprecated\n",
      "the new syntax is .resample(...).mean()\n",
      "  \"\"\"Entry point for launching an IPython kernel.\n"
     ]
    },
    {
     "data": {
      "text/plain": [
       "2000-01-31    0.047860\n",
       "2000-02-29    0.055687\n",
       "2000-03-31    0.137204\n",
       "2000-04-30   -0.262742\n",
       "Freq: M, dtype: float64"
      ]
     },
     "execution_count": 10,
     "metadata": {},
     "output_type": "execute_result"
    }
   ],
   "source": [
    "ts.resample('M', how='mean')"
   ]
  },
  {
   "cell_type": "code",
   "execution_count": 12,
   "metadata": {},
   "outputs": [
    {
     "name": "stderr",
     "output_type": "stream",
     "text": [
      "/usr/local/lib/python3.7/site-packages/ipykernel_launcher.py:1: FutureWarning: how in .resample() is deprecated\n",
      "the new syntax is .resample(...).mean()\n",
      "  \"\"\"Entry point for launching an IPython kernel.\n"
     ]
    },
    {
     "data": {
      "text/plain": [
       "2000-01    0.047860\n",
       "2000-02    0.055687\n",
       "2000-03    0.137204\n",
       "2000-04   -0.262742\n",
       "Freq: M, dtype: float64"
      ]
     },
     "execution_count": 12,
     "metadata": {},
     "output_type": "execute_result"
    }
   ],
   "source": [
    "ts.resample('M',how='mean',kind='period')"
   ]
  },
  {
   "cell_type": "markdown",
   "metadata": {},
   "source": [
    "resample方法的参数：\n",
    "\n",
    "参数 |说明\n",
    "---|---\n",
    "freq\t| 表示重采样频率的字符串或 DataOffset，例如'M'、'5min'或 Second（15）\n",
    "how = 'mean'\t| 用于产生聚合值的函数名或数组函数，例如'mean'、'ohlc'、np.max 等。默认为'mean'。其他常用的值有：'first'、'last'、'median'、'ohlc'、'max'、'min'\n",
    "axis = 0\t| 重采样的轴，默认为 axis = 0\n",
    "closed = 'right'\t| 在降采样中，各时间段的哪一端是闭合（即包含）的，'right'或'left'。默认为'right'\n",
    "label = 'right'\t| 在降采样中，如何设置聚合值的标签，'right'或'left'（面元的右边界或左边界）。例如，9：30到9：35之间的这5分钟会被标记为9：30或9：35。默认为'right'\n",
    "loffset = None\t| 面元标签的时间校正值\n",
    "limit = None\t| 在前向或后向填充时，允许填充的最大时期数\n",
    "kind = None\t| 聚合到时期（'period'）或时间戳（'timestamp'），默认聚合到时间序列的索引类型\n",
    "convention = None\t| 当重采样时期时，降低频率转换到高频率所采用的约定（'start'或'end'）。默认为'end'"
   ]
  },
  {
   "cell_type": "markdown",
   "metadata": {},
   "source": [
    "## 降采样\n",
    "将数据聚合到规整的低频率是一件非常普通的时间序列处理任务。待聚合的数据不必拥有固定的频率，期望的频率会自动定义聚合的面元边界，这些面元用于将时间序列拆分为多个片段。例如，要转换到月度频率（‘M’或‘BM’），数据需要被划分到多个单月时间段。各时间段都是半开放的。一个数据点只能属于一个时间段，所有时间段的并集必须能组成整个时间帧。在用 resample 对数据进行降采样时，需要考虑两样东西：\n",
    "\n",
    "- 各区间哪边是闭合的。\n",
    "- 如何标记各个聚合面元，用区间的开头还是末尾。"
   ]
  },
  {
   "cell_type": "code",
   "execution_count": 14,
   "metadata": {},
   "outputs": [
    {
     "data": {
      "text/plain": [
       "2000-01-01 00:00:00     0\n",
       "2000-01-01 00:01:00     1\n",
       "2000-01-01 00:02:00     2\n",
       "2000-01-01 00:03:00     3\n",
       "2000-01-01 00:04:00     4\n",
       "2000-01-01 00:05:00     5\n",
       "2000-01-01 00:06:00     6\n",
       "2000-01-01 00:07:00     7\n",
       "2000-01-01 00:08:00     8\n",
       "2000-01-01 00:09:00     9\n",
       "2000-01-01 00:10:00    10\n",
       "2000-01-01 00:11:00    11\n",
       "Freq: T, dtype: int64"
      ]
     },
     "execution_count": 14,
     "metadata": {},
     "output_type": "execute_result"
    }
   ],
   "source": [
    "rng = pd.date_range('1/1/2000',periods=12,freq='T')\n",
    "\n",
    "ts=Series(np.arange(12),index=rng)\n",
    "\n",
    "ts"
   ]
  },
  {
   "cell_type": "code",
   "execution_count": 16,
   "metadata": {},
   "outputs": [
    {
     "name": "stderr",
     "output_type": "stream",
     "text": [
      "/usr/local/lib/python3.7/site-packages/ipykernel_launcher.py:2: FutureWarning: how in .resample() is deprecated\n",
      "the new syntax is .resample(...).sum()\n",
      "  \n"
     ]
    },
    {
     "data": {
      "text/plain": [
       "2000-01-01 00:00:00    10\n",
       "2000-01-01 00:05:00    35\n",
       "2000-01-01 00:10:00    21\n",
       "Freq: 5T, dtype: int64"
      ]
     },
     "execution_count": 16,
     "metadata": {},
     "output_type": "execute_result"
    }
   ],
   "source": [
    "#假设我们想要通过求和的方式将这些数据聚合到“5分钟”块中：\n",
    "ts.resample('5min',how='sum')"
   ]
  },
  {
   "cell_type": "code",
   "execution_count": 18,
   "metadata": {},
   "outputs": [
    {
     "name": "stderr",
     "output_type": "stream",
     "text": [
      "/usr/local/lib/python3.7/site-packages/ipykernel_launcher.py:2: FutureWarning: how in .resample() is deprecated\n",
      "the new syntax is .resample(...).sum()\n",
      "  \n"
     ]
    },
    {
     "data": {
      "text/plain": [
       "1999-12-31 23:59:59    10\n",
       "2000-01-01 00:04:59    35\n",
       "2000-01-01 00:09:59    21\n",
       "Freq: 5T, dtype: int64"
      ]
     },
     "execution_count": 18,
     "metadata": {},
     "output_type": "execute_result"
    }
   ],
   "source": [
    "#右边界减去一秒以便更容易明白该时间戳到底表示的是哪个区间。只需通过 loffset 设置一个字符串或日期偏移量即可\n",
    "ts.resample('5min',how='sum',loffset='-1s')"
   ]
  },
  {
   "cell_type": "markdown",
   "metadata": {},
   "source": [
    "## 升采样和插值\n",
    "在将数据从低频率转换到高频率时，就不需要聚合了"
   ]
  },
  {
   "cell_type": "code",
   "execution_count": 28,
   "metadata": {},
   "outputs": [
    {
     "data": {
      "text/html": [
       "<div>\n",
       "<style scoped>\n",
       "    .dataframe tbody tr th:only-of-type {\n",
       "        vertical-align: middle;\n",
       "    }\n",
       "\n",
       "    .dataframe tbody tr th {\n",
       "        vertical-align: top;\n",
       "    }\n",
       "\n",
       "    .dataframe thead th {\n",
       "        text-align: right;\n",
       "    }\n",
       "</style>\n",
       "<table border=\"1\" class=\"dataframe\">\n",
       "  <thead>\n",
       "    <tr style=\"text-align: right;\">\n",
       "      <th></th>\n",
       "      <th>Colorado</th>\n",
       "      <th>Texas</th>\n",
       "      <th>New York</th>\n",
       "      <th>Ohio</th>\n",
       "    </tr>\n",
       "  </thead>\n",
       "  <tbody>\n",
       "    <tr>\n",
       "      <td>2000-01-05</td>\n",
       "      <td>1.809102</td>\n",
       "      <td>-1.630959</td>\n",
       "      <td>-1.006704</td>\n",
       "      <td>0.121054</td>\n",
       "    </tr>\n",
       "    <tr>\n",
       "      <td>2000-01-12</td>\n",
       "      <td>1.474755</td>\n",
       "      <td>-0.673744</td>\n",
       "      <td>1.629237</td>\n",
       "      <td>0.017543</td>\n",
       "    </tr>\n",
       "  </tbody>\n",
       "</table>\n",
       "</div>"
      ],
      "text/plain": [
       "            Colorado     Texas  New York      Ohio\n",
       "2000-01-05  1.809102 -1.630959 -1.006704  0.121054\n",
       "2000-01-12  1.474755 -0.673744  1.629237  0.017543"
      ]
     },
     "execution_count": 28,
     "metadata": {},
     "output_type": "execute_result"
    }
   ],
   "source": [
    "frame = DataFrame(np.random.randn(2,4),\n",
    "    index = pd.date_range('1/1/2000',periods=2,\n",
    "   freq='W-WED'),\n",
    "    columns=['Colorado','Texas','New York','Ohio'])\n",
    "\n",
    "frame"
   ]
  },
  {
   "cell_type": "code",
   "execution_count": 23,
   "metadata": {},
   "outputs": [
    {
     "data": {
      "text/plain": [
       "<pandas.core.resample.DatetimeIndexResampler object at 0x7f3f05243a50>"
      ]
     },
     "execution_count": 23,
     "metadata": {},
     "output_type": "execute_result"
    }
   ],
   "source": [
    "# 将其重采样到日频率，默认会引入缺失值\n",
    "\n",
    "df_daily=frame.resample('D')\n",
    "\n",
    "df_daily"
   ]
  },
  {
   "cell_type": "code",
   "execution_count": 29,
   "metadata": {},
   "outputs": [
    {
     "name": "stderr",
     "output_type": "stream",
     "text": [
      "/usr/local/lib/python3.7/site-packages/ipykernel_launcher.py:3: FutureWarning: fill_method is deprecated to .resample()\n",
      "the new syntax is .resample(...).ffill()\n",
      "  This is separate from the ipykernel package so we can avoid doing imports until\n"
     ]
    },
    {
     "data": {
      "text/html": [
       "<div>\n",
       "<style scoped>\n",
       "    .dataframe tbody tr th:only-of-type {\n",
       "        vertical-align: middle;\n",
       "    }\n",
       "\n",
       "    .dataframe tbody tr th {\n",
       "        vertical-align: top;\n",
       "    }\n",
       "\n",
       "    .dataframe thead th {\n",
       "        text-align: right;\n",
       "    }\n",
       "</style>\n",
       "<table border=\"1\" class=\"dataframe\">\n",
       "  <thead>\n",
       "    <tr style=\"text-align: right;\">\n",
       "      <th></th>\n",
       "      <th>Colorado</th>\n",
       "      <th>Texas</th>\n",
       "      <th>New York</th>\n",
       "      <th>Ohio</th>\n",
       "    </tr>\n",
       "  </thead>\n",
       "  <tbody>\n",
       "    <tr>\n",
       "      <td>2000-01-05</td>\n",
       "      <td>1.809102</td>\n",
       "      <td>-1.630959</td>\n",
       "      <td>-1.006704</td>\n",
       "      <td>0.121054</td>\n",
       "    </tr>\n",
       "    <tr>\n",
       "      <td>2000-01-06</td>\n",
       "      <td>1.809102</td>\n",
       "      <td>-1.630959</td>\n",
       "      <td>-1.006704</td>\n",
       "      <td>0.121054</td>\n",
       "    </tr>\n",
       "    <tr>\n",
       "      <td>2000-01-07</td>\n",
       "      <td>1.809102</td>\n",
       "      <td>-1.630959</td>\n",
       "      <td>-1.006704</td>\n",
       "      <td>0.121054</td>\n",
       "    </tr>\n",
       "    <tr>\n",
       "      <td>2000-01-08</td>\n",
       "      <td>1.809102</td>\n",
       "      <td>-1.630959</td>\n",
       "      <td>-1.006704</td>\n",
       "      <td>0.121054</td>\n",
       "    </tr>\n",
       "    <tr>\n",
       "      <td>2000-01-09</td>\n",
       "      <td>1.809102</td>\n",
       "      <td>-1.630959</td>\n",
       "      <td>-1.006704</td>\n",
       "      <td>0.121054</td>\n",
       "    </tr>\n",
       "    <tr>\n",
       "      <td>2000-01-10</td>\n",
       "      <td>1.809102</td>\n",
       "      <td>-1.630959</td>\n",
       "      <td>-1.006704</td>\n",
       "      <td>0.121054</td>\n",
       "    </tr>\n",
       "    <tr>\n",
       "      <td>2000-01-11</td>\n",
       "      <td>1.809102</td>\n",
       "      <td>-1.630959</td>\n",
       "      <td>-1.006704</td>\n",
       "      <td>0.121054</td>\n",
       "    </tr>\n",
       "    <tr>\n",
       "      <td>2000-01-12</td>\n",
       "      <td>1.474755</td>\n",
       "      <td>-0.673744</td>\n",
       "      <td>1.629237</td>\n",
       "      <td>0.017543</td>\n",
       "    </tr>\n",
       "  </tbody>\n",
       "</table>\n",
       "</div>"
      ],
      "text/plain": [
       "            Colorado     Texas  New York      Ohio\n",
       "2000-01-05  1.809102 -1.630959 -1.006704  0.121054\n",
       "2000-01-06  1.809102 -1.630959 -1.006704  0.121054\n",
       "2000-01-07  1.809102 -1.630959 -1.006704  0.121054\n",
       "2000-01-08  1.809102 -1.630959 -1.006704  0.121054\n",
       "2000-01-09  1.809102 -1.630959 -1.006704  0.121054\n",
       "2000-01-10  1.809102 -1.630959 -1.006704  0.121054\n",
       "2000-01-11  1.809102 -1.630959 -1.006704  0.121054\n",
       "2000-01-12  1.474755 -0.673744  1.629237  0.017543"
      ]
     },
     "execution_count": 29,
     "metadata": {},
     "output_type": "execute_result"
    }
   ],
   "source": [
    "#resampling的填充和插值方式跟fillna和reindex的一样\n",
    "\n",
    "frame.resample('D',fill_method='ffill')"
   ]
  },
  {
   "cell_type": "code",
   "execution_count": 27,
   "metadata": {},
   "outputs": [
    {
     "name": "stderr",
     "output_type": "stream",
     "text": [
      "/usr/local/lib/python3.7/site-packages/ipykernel_launcher.py:3: FutureWarning: fill_method is deprecated to .resample()\n",
      "the new syntax is .resample(...).ffill()\n",
      "  This is separate from the ipykernel package so we can avoid doing imports until\n"
     ]
    },
    {
     "data": {
      "text/html": [
       "<div>\n",
       "<style scoped>\n",
       "    .dataframe tbody tr th:only-of-type {\n",
       "        vertical-align: middle;\n",
       "    }\n",
       "\n",
       "    .dataframe tbody tr th {\n",
       "        vertical-align: top;\n",
       "    }\n",
       "\n",
       "    .dataframe thead th {\n",
       "        text-align: right;\n",
       "    }\n",
       "</style>\n",
       "<table border=\"1\" class=\"dataframe\">\n",
       "  <thead>\n",
       "    <tr style=\"text-align: right;\">\n",
       "      <th></th>\n",
       "      <th>Colorado</th>\n",
       "      <th>Texas</th>\n",
       "      <th>New York</th>\n",
       "      <th>Ohio</th>\n",
       "    </tr>\n",
       "  </thead>\n",
       "  <tbody>\n",
       "    <tr>\n",
       "      <td>2000-01-06</td>\n",
       "      <td>3.984161</td>\n",
       "      <td>-0.603598</td>\n",
       "      <td>1.110562</td>\n",
       "      <td>-0.420589</td>\n",
       "    </tr>\n",
       "    <tr>\n",
       "      <td>2000-01-13</td>\n",
       "      <td>1.016859</td>\n",
       "      <td>0.313414</td>\n",
       "      <td>-2.413059</td>\n",
       "      <td>-1.038709</td>\n",
       "    </tr>\n",
       "  </tbody>\n",
       "</table>\n",
       "</div>"
      ],
      "text/plain": [
       "            Colorado     Texas  New York      Ohio\n",
       "2000-01-06  3.984161 -0.603598  1.110562 -0.420589\n",
       "2000-01-13  1.016859  0.313414 -2.413059 -1.038709"
      ]
     },
     "execution_count": 27,
     "metadata": {},
     "output_type": "execute_result"
    }
   ],
   "source": [
    "# 注意，新的日期索引完全没必要跟旧的相交\n",
    "\n",
    "frame.resample('W-THU',fill_method='ffill')\n",
    "\n"
   ]
  },
  {
   "cell_type": "markdown",
   "metadata": {},
   "source": [
    "## 四、通过时期进行重采样\n"
   ]
  },
  {
   "cell_type": "code",
   "execution_count": 31,
   "metadata": {},
   "outputs": [
    {
     "data": {
      "text/html": [
       "<div>\n",
       "<style scoped>\n",
       "    .dataframe tbody tr th:only-of-type {\n",
       "        vertical-align: middle;\n",
       "    }\n",
       "\n",
       "    .dataframe tbody tr th {\n",
       "        vertical-align: top;\n",
       "    }\n",
       "\n",
       "    .dataframe thead th {\n",
       "        text-align: right;\n",
       "    }\n",
       "</style>\n",
       "<table border=\"1\" class=\"dataframe\">\n",
       "  <thead>\n",
       "    <tr style=\"text-align: right;\">\n",
       "      <th></th>\n",
       "      <th>Colorado</th>\n",
       "      <th>Texas</th>\n",
       "      <th>New York</th>\n",
       "      <th>Ohio</th>\n",
       "    </tr>\n",
       "  </thead>\n",
       "  <tbody>\n",
       "    <tr>\n",
       "      <td>2000-01</td>\n",
       "      <td>-0.165357</td>\n",
       "      <td>0.144137</td>\n",
       "      <td>-1.021694</td>\n",
       "      <td>-0.353892</td>\n",
       "    </tr>\n",
       "    <tr>\n",
       "      <td>2000-02</td>\n",
       "      <td>-0.180151</td>\n",
       "      <td>0.756981</td>\n",
       "      <td>0.503628</td>\n",
       "      <td>0.868642</td>\n",
       "    </tr>\n",
       "    <tr>\n",
       "      <td>2000-03</td>\n",
       "      <td>0.828445</td>\n",
       "      <td>0.148229</td>\n",
       "      <td>0.315159</td>\n",
       "      <td>-0.744768</td>\n",
       "    </tr>\n",
       "    <tr>\n",
       "      <td>2000-04</td>\n",
       "      <td>0.913425</td>\n",
       "      <td>-0.924731</td>\n",
       "      <td>-0.337093</td>\n",
       "      <td>-0.800243</td>\n",
       "    </tr>\n",
       "    <tr>\n",
       "      <td>2000-05</td>\n",
       "      <td>1.058702</td>\n",
       "      <td>1.541956</td>\n",
       "      <td>0.078934</td>\n",
       "      <td>0.454098</td>\n",
       "    </tr>\n",
       "  </tbody>\n",
       "</table>\n",
       "</div>"
      ],
      "text/plain": [
       "         Colorado     Texas  New York      Ohio\n",
       "2000-01 -0.165357  0.144137 -1.021694 -0.353892\n",
       "2000-02 -0.180151  0.756981  0.503628  0.868642\n",
       "2000-03  0.828445  0.148229  0.315159 -0.744768\n",
       "2000-04  0.913425 -0.924731 -0.337093 -0.800243\n",
       "2000-05  1.058702  1.541956  0.078934  0.454098"
      ]
     },
     "execution_count": 31,
     "metadata": {},
     "output_type": "execute_result"
    }
   ],
   "source": [
    "frame = DataFrame(np.random.randn(24,4),\n",
    "   index = pd.period_range('1-2000','12-2001',\n",
    "    freq = 'M'),\n",
    "    columns = ['Colorado','Texas','New York','Ohio'])\n",
    "frame[:5]"
   ]
  },
  {
   "cell_type": "code",
   "execution_count": 34,
   "metadata": {},
   "outputs": [
    {
     "name": "stderr",
     "output_type": "stream",
     "text": [
      "/usr/local/lib/python3.7/site-packages/ipykernel_launcher.py:1: FutureWarning: how in .resample() is deprecated\n",
      "the new syntax is .resample(...).mean()\n",
      "  \"\"\"Entry point for launching an IPython kernel.\n"
     ]
    },
    {
     "data": {
      "text/html": [
       "<div>\n",
       "<style scoped>\n",
       "    .dataframe tbody tr th:only-of-type {\n",
       "        vertical-align: middle;\n",
       "    }\n",
       "\n",
       "    .dataframe tbody tr th {\n",
       "        vertical-align: top;\n",
       "    }\n",
       "\n",
       "    .dataframe thead th {\n",
       "        text-align: right;\n",
       "    }\n",
       "</style>\n",
       "<table border=\"1\" class=\"dataframe\">\n",
       "  <thead>\n",
       "    <tr style=\"text-align: right;\">\n",
       "      <th></th>\n",
       "      <th>Colorado</th>\n",
       "      <th>Texas</th>\n",
       "      <th>New York</th>\n",
       "      <th>Ohio</th>\n",
       "    </tr>\n",
       "  </thead>\n",
       "  <tbody>\n",
       "    <tr>\n",
       "      <td>2000</td>\n",
       "      <td>0.077144</td>\n",
       "      <td>-0.190804</td>\n",
       "      <td>-0.157145</td>\n",
       "      <td>0.171407</td>\n",
       "    </tr>\n",
       "    <tr>\n",
       "      <td>2001</td>\n",
       "      <td>-0.131635</td>\n",
       "      <td>0.070121</td>\n",
       "      <td>-0.594448</td>\n",
       "      <td>0.207032</td>\n",
       "    </tr>\n",
       "  </tbody>\n",
       "</table>\n",
       "</div>"
      ],
      "text/plain": [
       "      Colorado     Texas  New York      Ohio\n",
       "2000  0.077144 -0.190804 -0.157145  0.171407\n",
       "2001 -0.131635  0.070121 -0.594448  0.207032"
      ]
     },
     "execution_count": 34,
     "metadata": {},
     "output_type": "execute_result"
    }
   ],
   "source": [
    "annual_frame = frame.resample('A-DEC',how='mean')\n",
    "annual_frame"
   ]
  },
  {
   "cell_type": "markdown",
   "metadata": {},
   "source": [
    "升采样要稍微麻烦一些，因为我们必须决定新频率中各区间的哪端用于放置原来的值，就像 asfreq 方法那样。convention 参数默认为‘start’，可设置为‘end’：\n",
    "\n"
   ]
  },
  {
   "cell_type": "code",
   "execution_count": 36,
   "metadata": {},
   "outputs": [
    {
     "name": "stderr",
     "output_type": "stream",
     "text": [
      "/usr/local/lib/python3.7/site-packages/ipykernel_launcher.py:1: FutureWarning: fill_method is deprecated to .resample()\n",
      "the new syntax is .resample(...).ffill()\n",
      "  \"\"\"Entry point for launching an IPython kernel.\n"
     ]
    },
    {
     "data": {
      "text/html": [
       "<div>\n",
       "<style scoped>\n",
       "    .dataframe tbody tr th:only-of-type {\n",
       "        vertical-align: middle;\n",
       "    }\n",
       "\n",
       "    .dataframe tbody tr th {\n",
       "        vertical-align: top;\n",
       "    }\n",
       "\n",
       "    .dataframe thead th {\n",
       "        text-align: right;\n",
       "    }\n",
       "</style>\n",
       "<table border=\"1\" class=\"dataframe\">\n",
       "  <thead>\n",
       "    <tr style=\"text-align: right;\">\n",
       "      <th></th>\n",
       "      <th>Colorado</th>\n",
       "      <th>Texas</th>\n",
       "      <th>New York</th>\n",
       "      <th>Ohio</th>\n",
       "    </tr>\n",
       "  </thead>\n",
       "  <tbody>\n",
       "    <tr>\n",
       "      <td>2000Q1</td>\n",
       "      <td>0.077144</td>\n",
       "      <td>-0.190804</td>\n",
       "      <td>-0.157145</td>\n",
       "      <td>0.171407</td>\n",
       "    </tr>\n",
       "    <tr>\n",
       "      <td>2000Q2</td>\n",
       "      <td>0.077144</td>\n",
       "      <td>-0.190804</td>\n",
       "      <td>-0.157145</td>\n",
       "      <td>0.171407</td>\n",
       "    </tr>\n",
       "    <tr>\n",
       "      <td>2000Q3</td>\n",
       "      <td>0.077144</td>\n",
       "      <td>-0.190804</td>\n",
       "      <td>-0.157145</td>\n",
       "      <td>0.171407</td>\n",
       "    </tr>\n",
       "    <tr>\n",
       "      <td>2000Q4</td>\n",
       "      <td>0.077144</td>\n",
       "      <td>-0.190804</td>\n",
       "      <td>-0.157145</td>\n",
       "      <td>0.171407</td>\n",
       "    </tr>\n",
       "    <tr>\n",
       "      <td>2001Q1</td>\n",
       "      <td>-0.131635</td>\n",
       "      <td>0.070121</td>\n",
       "      <td>-0.594448</td>\n",
       "      <td>0.207032</td>\n",
       "    </tr>\n",
       "    <tr>\n",
       "      <td>2001Q2</td>\n",
       "      <td>-0.131635</td>\n",
       "      <td>0.070121</td>\n",
       "      <td>-0.594448</td>\n",
       "      <td>0.207032</td>\n",
       "    </tr>\n",
       "    <tr>\n",
       "      <td>2001Q3</td>\n",
       "      <td>-0.131635</td>\n",
       "      <td>0.070121</td>\n",
       "      <td>-0.594448</td>\n",
       "      <td>0.207032</td>\n",
       "    </tr>\n",
       "    <tr>\n",
       "      <td>2001Q4</td>\n",
       "      <td>-0.131635</td>\n",
       "      <td>0.070121</td>\n",
       "      <td>-0.594448</td>\n",
       "      <td>0.207032</td>\n",
       "    </tr>\n",
       "  </tbody>\n",
       "</table>\n",
       "</div>"
      ],
      "text/plain": [
       "        Colorado     Texas  New York      Ohio\n",
       "2000Q1  0.077144 -0.190804 -0.157145  0.171407\n",
       "2000Q2  0.077144 -0.190804 -0.157145  0.171407\n",
       "2000Q3  0.077144 -0.190804 -0.157145  0.171407\n",
       "2000Q4  0.077144 -0.190804 -0.157145  0.171407\n",
       "2001Q1 -0.131635  0.070121 -0.594448  0.207032\n",
       "2001Q2 -0.131635  0.070121 -0.594448  0.207032\n",
       "2001Q3 -0.131635  0.070121 -0.594448  0.207032\n",
       "2001Q4 -0.131635  0.070121 -0.594448  0.207032"
      ]
     },
     "execution_count": 36,
     "metadata": {},
     "output_type": "execute_result"
    }
   ],
   "source": [
    "annual_frame.resample('Q-DEC',fill_method='ffill')"
   ]
  },
  {
   "cell_type": "code",
   "execution_count": 38,
   "metadata": {},
   "outputs": [
    {
     "name": "stderr",
     "output_type": "stream",
     "text": [
      "/usr/local/lib/python3.7/site-packages/ipykernel_launcher.py:2: FutureWarning: fill_method is deprecated to .resample()\n",
      "the new syntax is .resample(...).ffill()\n",
      "  \n"
     ]
    },
    {
     "data": {
      "text/html": [
       "<div>\n",
       "<style scoped>\n",
       "    .dataframe tbody tr th:only-of-type {\n",
       "        vertical-align: middle;\n",
       "    }\n",
       "\n",
       "    .dataframe tbody tr th {\n",
       "        vertical-align: top;\n",
       "    }\n",
       "\n",
       "    .dataframe thead th {\n",
       "        text-align: right;\n",
       "    }\n",
       "</style>\n",
       "<table border=\"1\" class=\"dataframe\">\n",
       "  <thead>\n",
       "    <tr style=\"text-align: right;\">\n",
       "      <th></th>\n",
       "      <th>Colorado</th>\n",
       "      <th>Texas</th>\n",
       "      <th>New York</th>\n",
       "      <th>Ohio</th>\n",
       "    </tr>\n",
       "  </thead>\n",
       "  <tbody>\n",
       "    <tr>\n",
       "      <td>2000Q4</td>\n",
       "      <td>0.077144</td>\n",
       "      <td>-0.190804</td>\n",
       "      <td>-0.157145</td>\n",
       "      <td>0.171407</td>\n",
       "    </tr>\n",
       "    <tr>\n",
       "      <td>2001Q1</td>\n",
       "      <td>0.077144</td>\n",
       "      <td>-0.190804</td>\n",
       "      <td>-0.157145</td>\n",
       "      <td>0.171407</td>\n",
       "    </tr>\n",
       "    <tr>\n",
       "      <td>2001Q2</td>\n",
       "      <td>0.077144</td>\n",
       "      <td>-0.190804</td>\n",
       "      <td>-0.157145</td>\n",
       "      <td>0.171407</td>\n",
       "    </tr>\n",
       "    <tr>\n",
       "      <td>2001Q3</td>\n",
       "      <td>0.077144</td>\n",
       "      <td>-0.190804</td>\n",
       "      <td>-0.157145</td>\n",
       "      <td>0.171407</td>\n",
       "    </tr>\n",
       "    <tr>\n",
       "      <td>2001Q4</td>\n",
       "      <td>-0.131635</td>\n",
       "      <td>0.070121</td>\n",
       "      <td>-0.594448</td>\n",
       "      <td>0.207032</td>\n",
       "    </tr>\n",
       "  </tbody>\n",
       "</table>\n",
       "</div>"
      ],
      "text/plain": [
       "        Colorado     Texas  New York      Ohio\n",
       "2000Q4  0.077144 -0.190804 -0.157145  0.171407\n",
       "2001Q1  0.077144 -0.190804 -0.157145  0.171407\n",
       "2001Q2  0.077144 -0.190804 -0.157145  0.171407\n",
       "2001Q3  0.077144 -0.190804 -0.157145  0.171407\n",
       "2001Q4 -0.131635  0.070121 -0.594448  0.207032"
      ]
     },
     "execution_count": 38,
     "metadata": {},
     "output_type": "execute_result"
    }
   ],
   "source": [
    "annual_frame.resample('Q-DEC',fill_method='ffill',\n",
    "convention = 'end')"
   ]
  },
  {
   "cell_type": "markdown",
   "metadata": {},
   "source": [
    "由于时间指的是时间区间，所以升采样和降采样的规则就比较严格：\n",
    "\n",
    "在降采样中，目标频率必须是原频率的子时期（subperiod） \n",
    "在升采样中，目标频率必须是原频率的超时期（superperiod） \n",
    "\n",
    "\n",
    "　　如果不满足这些条件，就会引发异常。这主要影响的是按季、年、周计算的频率。例如，由 Q-MAR 定义的时间区间只能升采样为 A-MAR、A-JUN、A-SEP、A-DEC 等："
   ]
  },
  {
   "cell_type": "code",
   "execution_count": 39,
   "metadata": {},
   "outputs": [
    {
     "name": "stderr",
     "output_type": "stream",
     "text": [
      "/usr/local/lib/python3.7/site-packages/ipykernel_launcher.py:1: FutureWarning: fill_method is deprecated to .resample()\n",
      "the new syntax is .resample(...).ffill()\n",
      "  \"\"\"Entry point for launching an IPython kernel.\n"
     ]
    },
    {
     "data": {
      "text/html": [
       "<div>\n",
       "<style scoped>\n",
       "    .dataframe tbody tr th:only-of-type {\n",
       "        vertical-align: middle;\n",
       "    }\n",
       "\n",
       "    .dataframe tbody tr th {\n",
       "        vertical-align: top;\n",
       "    }\n",
       "\n",
       "    .dataframe thead th {\n",
       "        text-align: right;\n",
       "    }\n",
       "</style>\n",
       "<table border=\"1\" class=\"dataframe\">\n",
       "  <thead>\n",
       "    <tr style=\"text-align: right;\">\n",
       "      <th></th>\n",
       "      <th>Colorado</th>\n",
       "      <th>Texas</th>\n",
       "      <th>New York</th>\n",
       "      <th>Ohio</th>\n",
       "    </tr>\n",
       "  </thead>\n",
       "  <tbody>\n",
       "    <tr>\n",
       "      <td>2000Q4</td>\n",
       "      <td>0.077144</td>\n",
       "      <td>-0.190804</td>\n",
       "      <td>-0.157145</td>\n",
       "      <td>0.171407</td>\n",
       "    </tr>\n",
       "    <tr>\n",
       "      <td>2001Q1</td>\n",
       "      <td>0.077144</td>\n",
       "      <td>-0.190804</td>\n",
       "      <td>-0.157145</td>\n",
       "      <td>0.171407</td>\n",
       "    </tr>\n",
       "    <tr>\n",
       "      <td>2001Q2</td>\n",
       "      <td>0.077144</td>\n",
       "      <td>-0.190804</td>\n",
       "      <td>-0.157145</td>\n",
       "      <td>0.171407</td>\n",
       "    </tr>\n",
       "    <tr>\n",
       "      <td>2001Q3</td>\n",
       "      <td>0.077144</td>\n",
       "      <td>-0.190804</td>\n",
       "      <td>-0.157145</td>\n",
       "      <td>0.171407</td>\n",
       "    </tr>\n",
       "    <tr>\n",
       "      <td>2001Q4</td>\n",
       "      <td>-0.131635</td>\n",
       "      <td>0.070121</td>\n",
       "      <td>-0.594448</td>\n",
       "      <td>0.207032</td>\n",
       "    </tr>\n",
       "    <tr>\n",
       "      <td>2002Q1</td>\n",
       "      <td>-0.131635</td>\n",
       "      <td>0.070121</td>\n",
       "      <td>-0.594448</td>\n",
       "      <td>0.207032</td>\n",
       "    </tr>\n",
       "    <tr>\n",
       "      <td>2002Q2</td>\n",
       "      <td>-0.131635</td>\n",
       "      <td>0.070121</td>\n",
       "      <td>-0.594448</td>\n",
       "      <td>0.207032</td>\n",
       "    </tr>\n",
       "    <tr>\n",
       "      <td>2002Q3</td>\n",
       "      <td>-0.131635</td>\n",
       "      <td>0.070121</td>\n",
       "      <td>-0.594448</td>\n",
       "      <td>0.207032</td>\n",
       "    </tr>\n",
       "  </tbody>\n",
       "</table>\n",
       "</div>"
      ],
      "text/plain": [
       "        Colorado     Texas  New York      Ohio\n",
       "2000Q4  0.077144 -0.190804 -0.157145  0.171407\n",
       "2001Q1  0.077144 -0.190804 -0.157145  0.171407\n",
       "2001Q2  0.077144 -0.190804 -0.157145  0.171407\n",
       "2001Q3  0.077144 -0.190804 -0.157145  0.171407\n",
       "2001Q4 -0.131635  0.070121 -0.594448  0.207032\n",
       "2002Q1 -0.131635  0.070121 -0.594448  0.207032\n",
       "2002Q2 -0.131635  0.070121 -0.594448  0.207032\n",
       "2002Q3 -0.131635  0.070121 -0.594448  0.207032"
      ]
     },
     "execution_count": 39,
     "metadata": {},
     "output_type": "execute_result"
    }
   ],
   "source": [
    "annual_frame.resample('Q-MAR',fill_method='ffill')\n",
    "\n",
    "        "
   ]
  }
 ],
 "metadata": {
  "kernelspec": {
   "display_name": "Python 3",
   "language": "python",
   "name": "python3"
  },
  "language_info": {
   "codemirror_mode": {
    "name": "ipython",
    "version": 3
   },
   "file_extension": ".py",
   "mimetype": "text/x-python",
   "name": "python",
   "nbconvert_exporter": "python",
   "pygments_lexer": "ipython3",
   "version": "3.7.7"
  }
 },
 "nbformat": 4,
 "nbformat_minor": 4
}
