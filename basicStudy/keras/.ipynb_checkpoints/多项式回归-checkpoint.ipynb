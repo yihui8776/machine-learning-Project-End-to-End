{
 "cells": [
  {
   "cell_type": "markdown",
   "metadata": {},
   "source": [
    "## 基础\n",
    "### Sequential models\n",
    "\n",
    "相对于TensorFlow的张量计算图，keras其实将神经网络里的一些模块进行了封装抽象，是一种更高抽象的封装，更接近神经网络的模型，。keras中的model就是神经网络模型，具体的网络结构如MLP、CNN、LSTM等，在Keras中它们被分为两种：有序模型(Sequential)和函数式模型(Model)。\n",
    "\n",
    "Sequential模型就是一个直接由若干网络层线性堆叠起来的网络，就像pipline一样的顺序进行，所以玩keras就像在搭积木，使用如下代码创建一个Sequential对象："
   ]
  },
  {
   "cell_type": "code",
   "execution_count": 34,
   "metadata": {},
   "outputs": [],
   "source": [
    "from keras.models import Sequential\n",
    "from keras.layers import Dense,Activation\n",
    "model = Sequential()"
   ]
  },
  {
   "cell_type": "markdown",
   "metadata": {},
   "source": [
    "Sequential的构造函数可以接收一个由layer组成的list，用以初始化该model。  \n",
    "模型需要知道输入数据的shape，因此，Sequential的第一层需要接受一个关于输入数据shape的参数，后面的各个层则可以自动的推导出中间数据的shape，因此不需要为每个层都指定这个参数。有几种方法来为第一层指定输入数据的shape  \n",
    "\n",
    "- 传递一个input_shape的关键字参数给第一层，input_shape是一个tuple类型的数据，其中也可以填入None，如果填入None则表示此位置可能是任何正整数。数据的batch大小不应包含在其中。"
   ]
  },
  {
   "cell_type": "code",
   "execution_count": 36,
   "metadata": {},
   "outputs": [],
   "source": [
    "model = Sequential([\n",
    "    Dense(32, input_shape=(784,)),#一个Dense层，即全连接层\n",
    "    Activation('relu'),#为上一个Dense层附加激活函数\n",
    "    Dense(10),#再添加一个Dense层\n",
    "    Activation('softmax'),#为上一个Dense层附加激活函数\n",
    "])"
   ]
  },
  {
   "cell_type": "markdown",
   "metadata": {},
   "source": [
    "也可以使用.add()方法对该model初始化："
   ]
  },
  {
   "cell_type": "code",
   "execution_count": 37,
   "metadata": {},
   "outputs": [],
   "source": [
    "model.add(Dense(32, input_shape=(784,)))\n",
    "model.add(Activation('relu'))"
   ]
  },
  {
   "cell_type": "markdown",
   "metadata": {},
   "source": [
    "- 有些2D层，如Dense，支持通过指定其输入维度input_dim来隐含的指定输入数据shape,是一个Int类型的数据。一些3D的时域层支持通过参数input_dim和input_length来指定输入shape。"
   ]
  },
  {
   "cell_type": "code",
   "execution_count": 38,
   "metadata": {},
   "outputs": [],
   "source": [
    "model.add(Dense(32, input_dim=784))\n",
    "model.add(Activation('relu'))"
   ]
  },
  {
   "cell_type": "markdown",
   "metadata": {},
   "source": [
    "### Dense layer  \n",
    "Dense就是常用的全连接层，所实现的运算是output = activation(dot(input, kernel)+bias)。其中activation是逐元素计算的激活函数，kernel是本层的权值矩阵，bias为偏置向量，只有当use_bias=True才会添加。  \n",
    "构造方法如下："
   ]
  },
  {
   "cell_type": "code",
   "execution_count": 39,
   "metadata": {},
   "outputs": [
    {
     "data": {
      "text/plain": [
       "<keras.layers.core.Dense at 0x7fbbf86ffba8>"
      ]
     },
     "execution_count": 39,
     "metadata": {},
     "output_type": "execute_result"
    }
   ],
   "source": [
    "import keras\n",
    "keras.layers.core.Dense(\n",
    "  units=1,\n",
    "  activation=None,\n",
    "  use_bias=True,\n",
    "  kernel_initializer='glorot_uniform',\n",
    "  bias_initializer='zeros',\n",
    "  kernel_regularizer=None,\n",
    "  bias_regularizer=None,\n",
    "  activity_regularizer=None,\n",
    "  kernel_constraint=None,\n",
    "  bias_constraint=None)"
   ]
  },
  {
   "cell_type": "markdown",
   "metadata": {},
   "source": [
    "units：大于0的整数，表示该层输出维度。  \n",
    "activation：激活函数。  \n",
    "use_bias：是否使用偏置。  \n",
    "kernel_initializer：权值矩阵初始化方法。  \n",
    "bias_initializer：偏置的初始化方法。  \n",
    "regularizer与constraint：正则项与约束项。  \n",
    "  \n",
    "我们可以使用前文提到的.add()方法为model添加全连接层，只有输入层需要指定输入数据维度，之后的层不需再指定前一层的维度。"
   ]
  },
  {
   "cell_type": "markdown",
   "metadata": {},
   "source": [
    "### Activation层\n",
    "激活层对一个层的输出施加激活函数,比如sigmoid函数\n",
    "参数  \n",
    "activation：将要使用的激活函数，为预定义激活函数名或一个Tensorflow/Theano的函数。参考激活函数  \n",
    "输入shape  \n",
    "任意，当使用激活层作为第一层时，要指定input_shape  \n",
    "\n",
    "输出shape\n",
    "与输入shape相同"
   ]
  },
  {
   "cell_type": "code",
   "execution_count": 40,
   "metadata": {},
   "outputs": [],
   "source": [
    "model.add(Activation('sigmoid'))"
   ]
  },
  {
   "cell_type": "markdown",
   "metadata": {},
   "source": [
    "###  Dropout层\n",
    "Dropout是在神经网络中用来解决过拟合问题的一种方法。从名字可以直观看出就是丢弃一些东西，就像在回归中用的L1和L2正则惩罚一样，会将一些权重变为接近0 ，从而使得一些低相关特征的影响消失，避免过拟合。 Dropout将在训练过程中每次更新参数时按一定概率（rate）随机断开输入神经元，Dropout层用于防止过拟合。对于神经网络就是dropout一些神经元。  \n",
    "具体来说比如设置dropout为0.5，那么在每次的神经网络的反向传播中，会按0.5概率随机选择一些神经元，将反向传播对应的参数设为0，然后对于被改变后的神经网络进行反向传播。"
   ]
  },
  {
   "cell_type": "markdown",
   "metadata": {},
   "source": [
    "参数\n",
    "- rate：0~1的浮点数，控制需要断开的神经元的比例\n",
    "- noise_shape：整数张量，为将要应用在输入上的二值Dropout mask的shape，例如你的输入为(batch_size, timesteps, features)，并且你希望在各个时间步上的Dropout mask都相同，则可传入noise_shape=(batch_size, 1, features)。\n",
    "- seed：整数，使用的随机数种子"
   ]
  },
  {
   "cell_type": "markdown",
   "metadata": {},
   "source": [
    "### compile \n",
    "\n",
    "model的结构设置好之后使用compile方法编译，就是配置学习的过程："
   ]
  },
  {
   "cell_type": "code",
   "execution_count": 41,
   "metadata": {
    "scrolled": true
   },
   "outputs": [],
   "source": [
    "model.compile(\n",
    "  #self,\n",
    "  optimizer='rmsprop',\n",
    "  loss='mse',\n",
    "  metrics=None,\n",
    "  sample_weight_mode=None)"
   ]
  },
  {
   "cell_type": "markdown",
   "metadata": {},
   "source": [
    "- 优化器optimizer：预定义的优化器名称或自定义的优化器对象。  \n",
    "- loss：要优化的预定义的损失函数名称或自定义的目标函数。\n",
    "- 指标列表metrics：对分类问题，我们一般将该列表设置为metrics=['accuracy']。指标可以是一个预定义指标的名字,也可以是一个用户定制的函数.指标函数应该返回单个张量,或一个完成metric_name - > metric_value映射的字典."
   ]
  },
  {
   "cell_type": "markdown",
   "metadata": {},
   "source": [
    "### fit\n",
    "编译后使用fit方法训练模型："
   ]
  },
  {
   "cell_type": "code",
   "execution_count": 45,
   "metadata": {},
   "outputs": [
    {
     "ename": "NameError",
     "evalue": "name 'self' is not defined",
     "output_type": "error",
     "traceback": [
      "\u001b[0;31m---------------------------------------------------------------------------\u001b[0m",
      "\u001b[0;31mNameError\u001b[0m                                 Traceback (most recent call last)",
      "\u001b[0;32m<ipython-input-45-d604921cf1eb>\u001b[0m in \u001b[0;36m<module>\u001b[0;34m\u001b[0m\n\u001b[1;32m      1\u001b[0m model.fit(\n\u001b[0;32m----> 2\u001b[0;31m   \u001b[0mself\u001b[0m\u001b[0;34m,\u001b[0m\u001b[0;34m\u001b[0m\u001b[0m\n\u001b[0m\u001b[1;32m      3\u001b[0m   \u001b[0mx\u001b[0m\u001b[0;34m,\u001b[0m\u001b[0;34m\u001b[0m\u001b[0m\n\u001b[1;32m      4\u001b[0m   \u001b[0my\u001b[0m\u001b[0;34m,\u001b[0m\u001b[0;34m\u001b[0m\u001b[0m\n\u001b[1;32m      5\u001b[0m   \u001b[0mbatch_size\u001b[0m\u001b[0;34m=\u001b[0m\u001b[0;36m32\u001b[0m\u001b[0;34m,\u001b[0m\u001b[0;34m\u001b[0m\u001b[0m\n",
      "\u001b[0;31mNameError\u001b[0m: name 'self' is not defined"
     ]
    }
   ],
   "source": [
    "model.fit(\n",
    "  self,\n",
    "  x,\n",
    "  y,\n",
    "  batch_size=32,\n",
    "  epochs=10,\n",
    "  verbose=1,\n",
    "  callbacks=None,\n",
    "  validation_split=0.0,\n",
    "  validation_data=None,\n",
    "  shuffle=True,\n",
    "  class_weight=None,\n",
    "  sample_weight=None,\n",
    "  initial_epoch=0)"
   ]
  },
  {
   "cell_type": "markdown",
   "metadata": {},
   "source": [
    "x：作为输入数据的numpy array。  \n",
    "y：作为标签的numpy array。  \n",
    "batch_size：梯度下降时每个batch包含的样本数。  \n",
    "epochs：训练总轮数。  \n",
    "verbose：日志显示，0为不在标准输出流输出日志信息，1为输出进度条记录，2为每个epoch输出一行记录。  "
   ]
  },
  {
   "cell_type": "code",
   "execution_count": 49,
   "metadata": {},
   "outputs": [
    {
     "data": {
      "image/png": "[encoded data removed]",
      "text/plain": [
       "<Figure size 432x288 with 1 Axes>"
      ]
     },
     "metadata": {
      "needs_background": "light"
     },
     "output_type": "display_data"
    }
   ],
   "source": [
    "#使用keras进行编程\n",
    "%matplotlib inline\n",
    "import matplotlib.pyplot as plt\n",
    "from keras.datasets import mnist\n",
    "from keras.models import Sequential\n",
    "from keras.layers.core import Dense, Activation\n",
    "from keras.layers.advanced_activations import LeakyReLU, PReLU\n",
    "from keras.optimizers import SGD\n",
    "import pandas as pd\n",
    "import numpy as np\n",
    "\n",
    "def poly(file):\n",
    "    #data = pd.read_csv('lousai-22-01.csv')\n",
    "    data = pd.read_csv(file)\n",
    "    datasets_X = np.array(data.iloc[:,0].values.reshape(-1,1))\n",
    "    datasets_Y = np.array(data.iloc[:,1].values.reshape(-1,1))\n",
    "    \n",
    "    model = Sequential() #一层层到底，按順序\n",
    "    #神经元个数越多,效果会越好,收敛越快,太少的话难以收敛到所需曲线\n",
    "    model.add(Dense(100, input_shape=(1,)))\n",
    "\n",
    "    #Relu,得到的是一条横线\n",
    "    #Tanh,稍稍好于Relu,但是拟合的不够\n",
    "    #sigmoid, 只要神经元个数足够(50+),训练1000轮以上,就能达到比较好的效果\n",
    "    model.add(Activation('sigmoid'))\n",
    "    #model.add(LeakyReLU(alpha=0.01))\n",
    "    #model.add(Dense(3))\n",
    "\n",
    "    model.add(Dense(1))\n",
    "    sgd =  SGD(lr=0.01, decay=1e-6, momentum=0.9, nesterov=True)\n",
    "    model.compile(loss='mean_squared_error', optimizer=sgd)\n",
    "    #model.compile(optimizer=\"sgd\", loss=\"mse\")\n",
    "    model.fit(datasets_X, datasets_Y, epochs=2000, verbose=0)\n",
    "     \n",
    "    \n",
    "    plt.scatter(datasets_X, datasets_Y)\n",
    "    plt.plot(datasets_X, \n",
    "             model.predict(datasets_X) \n",
    "        )\n",
    "    \n",
    "poly(\"lousai-22-01.csv\")\n"
   ]
  },
  {
   "cell_type": "code",
   "execution_count": null,
   "metadata": {},
   "outputs": [],
   "source": []
  }
 ],
 "metadata": {
  "kernelspec": {
   "display_name": "Python 3",
   "language": "python",
   "name": "python3"
  },
  "language_info": {
   "codemirror_mode": {
    "name": "ipython",
    "version": 3
   },
   "file_extension": ".py",
   "mimetype": "text/x-python",
   "name": "python",
   "nbconvert_exporter": "python",
   "pygments_lexer": "ipython3",
   "version": "3.7.0"
  }
 },
 "nbformat": 4,
 "nbformat_minor": 2
}
