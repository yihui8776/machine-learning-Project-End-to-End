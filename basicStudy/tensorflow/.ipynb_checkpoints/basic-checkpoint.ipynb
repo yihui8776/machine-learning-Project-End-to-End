{
 "cells": [
  {
   "cell_type": "markdown",
   "metadata": {},
   "source": [
    "## 基本概念\n",
    "\n",
    "大家大概看到TensorFlow就知道是做深度学习的，那究竟是如何进行建模计算的呢。  \n",
    "从英文名称可以直观的看出，Tensor(张量)的Flow(流动),而张量是多维的矩阵，或者说是存储数字的容器，计算机最终是把数据存为数字，而我们大部分的机器学习算法也是处理向量矩阵等的数值变量。  \n",
    "比如一维的张量可以说是向量，二维就是矩阵，三维张量：如时间序列数据，估价，文本数据，4D张量，图像，彩色图像、音乐，5D张量如视频等等都可以转为数字，都是多维张量  \n",
    "那怎么流动呢？  \n",
    "我们把张量放入数组，就像是数值的水桶一样，通过计算等输入一个转变为另一个输出，而我们的计算就是一个个流动的过程。  \n",
    "### Graph\n",
    "我们大部分的计算任务都可以变成一个个流程图，这个就是graph  \n",
    "在被称之为会话（Session）的上下文（context）中执行图\n",
    "### variable\n",
    "通过变量维护状态\n",
    "### feed赋值，fetch获取值\n",
    "使用feed和fetch可以为任意的操作赋值或者从其中获取数据"
   ]
  },
  {
   "cell_type": "markdown",
   "metadata": {},
   "source": [
    "![image.png](image/TensorFlow.png)"
   ]
  },
  {
   "cell_type": "markdown",
   "metadata": {},
   "source": [
    "## 具体的神经网络训练\n",
    "感受数值在输入层、隐藏层、输出层流动\n"
   ]
  },
  {
   "cell_type": "code",
   "execution_count": 17,
   "metadata": {},
   "outputs": [
    {
     "name": "stdout",
     "output_type": "stream",
     "text": [
      "0 [0.8479726] [-0.15108514]\n",
      "20 [0.31032145] [0.1869605]\n",
      "40 [0.15756492] [0.26906112]\n",
      "60 [0.11575549] [0.29153207]\n",
      "80 [0.10431227] [0.29768234]\n",
      "100 [0.10118027] [0.29936567]\n",
      "120 [0.10032303] [0.29982638]\n",
      "140 [0.10008842] [0.29995248]\n",
      "160 [0.10002421] [0.29998702]\n",
      "180 [0.10000662] [0.29999647]\n",
      "200 [0.10000181] [0.29999903]\n",
      "220 [0.10000051] [0.29999974]\n",
      "240 [0.10000015] [0.29999992]\n",
      "260 [0.1000001] [0.29999995]\n",
      "280 [0.1000001] [0.29999995]\n"
     ]
    }
   ],
   "source": [
    "import tensorflow as tf\n",
    "import numpy as np\n",
    "#数据\n",
    "x_data=np.random.rand(100).astype(np.float32) #随机生成，TensorFlow一般设为float32\n",
    "y_data  = x_data*0.1 + 0.3 #权重加偏移\n",
    "\n",
    "\n",
    "### create tensorflow structure start ###\n",
    "\n",
    "Weights = tf.Variable(tf.random_uniform([1],-1.0,1.0)) #正态分布\n",
    "bias = tf.Variable(tf.zeros([1]))\n",
    "\n",
    "#计算预测值\n",
    "y  = Weights*x_data + bias\n",
    "\n",
    "#计算预测值和真实值的损失值，均方误差\n",
    "loss = tf.reduce_mean(tf.square(y-y_data))\n",
    "#优化目标器\n",
    "optimizer = tf.train.GradientDescentOptimizer(0.5)\n",
    "#开始训练\n",
    "train = optimizer.minimize(loss)\n",
    "#初始化函数\n",
    "init = tf.initialize_all_variables()\n",
    "\n",
    "### crate tensorflow structure end ###\n",
    "\n",
    "sess = tf.Session()  #定义会话\n",
    "sess.run(init)   #非常重要  ，开始跑\n",
    "\n",
    "for step in range(300):  #迭代次数\n",
    "    sess.run(train)  #训练\n",
    "    if step % 20 == 0:  #20次输出\n",
    "        print(step,sess.run(Weights),sess.run(bias))"
   ]
  },
  {
   "cell_type": "markdown",
   "metadata": {},
   "source": [
    "### session\n",
    "矩阵乘法\n"
   ]
  },
  {
   "cell_type": "code",
   "execution_count": 18,
   "metadata": {},
   "outputs": [
    {
     "name": "stdout",
     "output_type": "stream",
     "text": [
      "[[12]]\n"
     ]
    }
   ],
   "source": [
    "import tensorflow as tf\n",
    "\n",
    "matrix1 = tf.constant([[3,3]])\n",
    "matrix2 = tf.constant([[2],\n",
    "                       [2]])\n",
    "\n",
    "product = tf.matmul(matrix1,matrix2)  \n",
    "\n",
    "#method 1\n",
    "sess = tf.Session()\n",
    "result = sess.run(product)\n",
    "\n",
    "print(result)\n",
    "sess.close()\n",
    "\n"
   ]
  },
  {
   "cell_type": "code",
   "execution_count": 16,
   "metadata": {},
   "outputs": [
    {
     "name": "stdout",
     "output_type": "stream",
     "text": [
      "[[12]]\n"
     ]
    }
   ],
   "source": [
    "#method 2\n",
    "with tf.Session() as sess:\n",
    "    result2 = sess.run(product)\n",
    "    print(result2)"
   ]
  },
  {
   "cell_type": "markdown",
   "metadata": {},
   "source": [
    "###  变量\n"
   ]
  },
  {
   "cell_type": "code",
   "execution_count": 22,
   "metadata": {},
   "outputs": [
    {
     "name": "stdout",
     "output_type": "stream",
     "text": [
      "1\n",
      "2\n",
      "3\n"
     ]
    }
   ],
   "source": [
    "import tensorflow as tf\n",
    "\n",
    "state = tf.Variable(0,name='counter')\n",
    "\n",
    "one = tf.constant(1)\n",
    "\n",
    "new_value = tf.add(state , one)\n",
    "\n",
    "update = tf.assign(state,new_value)\n",
    "\n",
    "#最重要 ，初始化所有\n",
    "init = tf.initialize_all_variables()\n",
    "\n",
    "with tf.Session() as sess:\n",
    "    sess.run(init)\n",
    "    for _ in range(3):\n",
    "        sess.run(update)\n",
    "        print(sess.run(state))  #输出\n",
    "\n",
    "\n"
   ]
  },
  {
   "cell_type": "markdown",
   "metadata": {},
   "source": [
    "### placeholder传入值\n",
    "\n"
   ]
  },
  {
   "cell_type": "code",
   "execution_count": 28,
   "metadata": {},
   "outputs": [
    {
     "name": "stdout",
     "output_type": "stream",
     "text": [
      "[14.699999]\n"
     ]
    }
   ],
   "source": [
    "import tensorflow as tf\n",
    "\n",
    "input1 = tf.placeholder(tf.float32)  #相当于占个空间\n",
    "input2 = tf.placeholder(tf.float32)\n",
    "\n",
    "output = tf.multiply(input1,input2)\n",
    "\n",
    "with tf.Session() as sess :\n",
    "    print(sess.run(output,feed_dict={input1:[7.],input2:[2.1]}))   #以字典形式传入变量"
   ]
  }
 ],
 "metadata": {
  "kernelspec": {
   "display_name": "Python 3",
   "language": "python",
   "name": "python3"
  },
  "language_info": {
   "codemirror_mode": {
    "name": "ipython",
    "version": 3
   },
   "file_extension": ".py",
   "mimetype": "text/x-python",
   "name": "python",
   "nbconvert_exporter": "python",
   "pygments_lexer": "ipython3",
   "version": "3.7.0"
  }
 },
 "nbformat": 4,
 "nbformat_minor": 2
}
