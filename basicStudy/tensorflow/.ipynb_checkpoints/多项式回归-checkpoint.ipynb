{
 "cells": [
  {
   "cell_type": "markdown",
   "metadata": {},
   "source": [
    "参考实验楼机器学习赛，多项式回归及应用https://www.shiyanlou.com/contests/lou22/challenges#challenges\n",
    "\n",
    "多项式（Polynomial）是代数学中的基础概念，是由称为未知数的变量和称为系数的常量通过有限次加法、加减法、乘法以及自然数幂次的乘方运算得到的代数表达式。多项式回归，直观意义上就是通过一条由多项式生成的曲线去拟合样本，最终得到该多项式各项的系数。多项式回归是数据拟合的一种统计模型，也是一种非线性回归，由于任一函数都可以用多项式逼近，因此多项式回归有着广泛应用。\n",
    "\n",
    "挑战提供了一组训练样本 (x, y)，需使用如下所示的一元三次多项式进行回归拟合。   \n",
    "   $y(x,w) = w_0+w_1x+w_2x^2+w_3x^3$    \n",
    "训练数据获得：wget -nc http://labfile.oss.aliyuncs.com/courses/1263/lousai-22-01.csv  \n",
    "目标  \n",
    "使用残差函数作为损失函数，并使用最小二乘法求解多项式回归最优拟合系数。  \n",
    "这里使用TensorFlow实现\n",
    "\n",
    " "
   ]
  },
  {
   "cell_type": "markdown",
   "metadata": {},
   "source": [
    "## 分析建模\n",
    "我们知道线性回归模型是最简单的模型， 有不少假设前提，其中最重要的一条就是响应变量和解释变量之间的确存在着线性关系，否则建立线性模型就没什么意义。然而现实中的数据往往线性关系比较弱，甚至本来就不存在着线性关系，比如我们预测某个时刻某辆公交的乘客数，分析房价模型、还有畜禽、水产以及工业传感实际领域，这些都是非线性模型，而多项式回归就是一个常用的非线性模型。\n",
    "    上述问题 ：  $y(x,w) = w_0+w_1x+w_2x^2+w_3x^3$   \n",
    "可以令 $x_1=x,x_2=x^2,x_3=x^3 $  \n",
    "则可以转为多元线性方程拟合，从而减少公式复杂度。\n",
    "当然这里是三次，可以当做以下一元高阶的j=3时的特例，\n",
    "    假设存在一个函数，只有一个自变量，即只有一个特征属性，满足多项式函数如下：  \n",
    "$f_M(x,w) = w_0+w_1x+w_2x^2+...+w_Mx^M = \\displaystyle \\sum^{M}_{y = 0}{w_jx^j}$  \n",
    "损失函数：损失函数越小，就代表模型拟合的越好。  \n",
    "$L(w) = \\frac{1}{2} \\displaystyle \\sum^{N}_{i = 1}(\\sum^{M}_{j=0}{w_j{x}^j_i}-y_i)^2$  \n",
    "通过对损失函数偏导为0时，得到最终解方程的函数：  \n",
    " \n",
    " \n",
    "   \\begin{bmatrix}\n",
    "    &N &\\sum{x_i} &\\sum{x}^2_i &... &\\sum{x}^M_i \\\\ \n",
    "    &\\sum{x}_i &\\sum{x}^2_i &\\sum{x}^3_i &... &\\sum{x}^{M+1}_i  \\\\ \n",
    "    &\\sum{x}^2_i &\\sum{x_i} &\\sum{x}^2_i &... &\\sum{x}^{M+2}_i  \\\\ \n",
    "    &...  &...  &...  &\\ddots &...\\\\ \n",
    "    &\\sum{x}^{M}_i  &\\sum{x}^{M+1}_i  &\\sum{x}^{M+2}_i &... &\\sum{x}^{2M}_i \n",
    "   \\end{bmatrix}   \n",
    "\n",
    "   \\begin{pmatrix}\n",
    "   w_0 \n",
    "   \\\\w_1\n",
    "   \\\\w_2 \n",
    "   \\\\...\n",
    "   \\\\w_m\n",
    "   \\end{pmatrix}\n",
    "\n",
    "   = \\begin{bmatrix}\n",
    "   \\sum{y}_i\\\\\n",
    "   \\sum{x_i}{y_i}\\\\\n",
    "   \\sum{{x}_i^2}{y_i}\\\\\n",
    "   ...\\\\\n",
    "  \\sum{{x}_i^M}{y_i}\\\\\n",
    "  \\end{bmatrix}\n",
    "\n",
    "\n",
    "![image.png](image/CodeCogsEqn.gif)  \n",
    "\n",
    "则可以直接代入方程求解。\n",
    "当然解决方法还有很多。这里用的是最小二乘法。  \n",
    "公式推导参考：   \n",
    "https://www.zhihu.com/question/23483726  \n",
    "http://blog.csdn.net/xiaolewennofollow/article/details/46757657  \n",
    "https://wenku.baidu.com/view/f20f3e0da8956bec0875e343.html?from=search  "
   ]
  },
  {
   "cell_type": "markdown",
   "metadata": {},
   "source": [
    "##  数据输入统计"
   ]
  },
  {
   "cell_type": "code",
   "execution_count": 2,
   "metadata": {},
   "outputs": [
    {
     "name": "stdout",
     "output_type": "stream",
     "text": [
      "<class 'pandas.core.frame.DataFrame'>\n",
      "(88, 2)\n",
      "          x         y\n",
      "0  0.042381  0.061118\n",
      "1  0.038213  0.058461\n",
      "2  0.038502  0.067291\n",
      "3  0.041743  0.076115\n",
      "4  0.041582  0.086384\n",
      "5  0.044328  0.089002\n",
      "6  0.048092  0.098022\n",
      "7  0.043647  0.105680\n",
      "8  0.043319  0.111334\n",
      "9  0.051129  0.122508\n",
      "               x          y\n",
      "count  88.000000  88.000000\n",
      "mean    0.260638   0.281116\n",
      "std     0.154888   0.117426\n",
      "min     0.038213   0.058461\n",
      "25%     0.095993   0.241940\n",
      "50%     0.269132   0.253810\n",
      "75%     0.412428   0.352693\n",
      "max     0.466618   0.496245\n"
     ]
    },
    {
     "data": {
      "image/png": "[encoded data removed]",
      "text/plain": [
       "<Figure size 432x288 with 1 Axes>"
      ]
     },
     "metadata": {
      "needs_background": "light"
     },
     "output_type": "display_data"
    }
   ],
   "source": [
    " # coding: utf-8sssssssss\n",
    "import matplotlib.pyplot as plt\n",
    "import pandas as pd\n",
    "\n",
    "%matplotlib inline\n",
    "#读入数据到数据框\n",
    "data = pd.read_csv('data/lousai-22-01.csv')\n",
    "#获取数据类型\n",
    "print(type(data))\n",
    "#查看行列数\n",
    "print(data.shape)\n",
    "#查看前10行数据\n",
    "print(data.head(10))\n",
    "\n",
    "#iloc取数据某行列， reshape：即形状重置，reshape(-1,1)表示所有的行数，全部整理成只有一列的样式；\n",
    "datasets_X = data.iloc[:,0].values.reshape(-1,1) #取第一列转为数组\n",
    "datasets_Y = data.iloc[:,1].values.reshape(-1,1)\n",
    "\n",
    "#画散点图\n",
    "plt.plot(datasets_X, datasets_Y, 'o')\n",
    "\n",
    "#统计\n",
    "print(data.describe())"
   ]
  },
  {
   "cell_type": "markdown",
   "metadata": {},
   "source": [
    "## TensorFlow"
   ]
  },
  {
   "cell_type": "code",
   "execution_count": 19,
   "metadata": {},
   "outputs": [
    {
     "name": "stdout",
     "output_type": "stream",
     "text": [
      "Epoch0:0.0054826044096526775\n",
      "Epoch100:0.00033832084687723807\n",
      "Epoch200:0.0002454001867977305\n",
      "Epoch300:0.000221279134882016\n",
      "Epoch400:0.00020045348310113428\n",
      "Epoch500:0.0001818947061746093\n",
      "Epoch600:0.00016535811127846048\n",
      "Epoch700:0.00015062422520202695\n",
      "Epoch800:0.00013749663810124315\n",
      "Epoch900:0.00012580016147626836\n",
      "Epoch1000:0.0001153787770813834\n",
      "Epoch1100:0.00010609380439535239\n",
      "Epoch1200:9.782125798927182e-05\n",
      "Epoch1300:9.045035131967487e-05\n",
      "Epoch1400:8.388286839324596e-05\n",
      "Epoch1500:7.803114997117045e-05\n",
      "Epoch1600:7.281733552327358e-05\n",
      "Epoch1700:6.817127623277536e-05\n",
      "Epoch1800:6.403163482713506e-05\n",
      "Epoch1900:6.0343085133656704e-05\n",
      "Epoch2000:5.705637201101268e-05\n",
      "Epoch2100:5.412791377374469e-05\n",
      "Epoch2200:5.151849657172101e-05\n",
      "Epoch2300:4.9193087770223315e-05\n",
      "Epoch2400:4.712067680201493e-05\n",
      "Epoch2500:4.527338001698224e-05\n",
      "Epoch2600:4.3627486753355423e-05\n",
      "Epoch2700:4.216061347358827e-05\n",
      "Epoch2800:4.0853222201355585e-05\n",
      "Epoch2900:3.968759154297659e-05\n",
      "Epoch3000:3.864856371738057e-05\n",
      "Epoch3100:3.772254554538473e-05\n",
      "Epoch3200:3.68966457592819e-05\n",
      "Epoch3300:3.616033678515253e-05\n",
      "Epoch3400:3.550380397383938e-05\n",
      "Epoch3500:3.491827758092788e-05\n",
      "Epoch3600:3.439611078071228e-05\n",
      "Epoch3700:3.39303393303418e-05\n",
      "Epoch3800:3.351458563859534e-05\n",
      "Epoch3900:3.314365707327773e-05\n",
      "Epoch4000:3.281264973380034e-05\n",
      "Epoch4100:3.251735780180292e-05\n",
      "Epoch4200:3.225339970278831e-05\n",
      "Epoch4300:3.2017920080158873e-05\n",
      "Epoch4400:3.18072576931495e-05\n",
      "Epoch4500:3.161932178122581e-05\n",
      "Epoch4600:3.145135819782041e-05\n",
      "Epoch4700:3.130079995992332e-05\n",
      "Epoch4800:3.1166194419643666e-05\n",
      "Epoch4900:3.10455012779709e-05\n"
     ]
    },
    {
     "data": {
      "image/png": "[encoded data removed]",
      "text/plain": [
       "<Figure size 432x288 with 1 Axes>"
      ]
     },
     "metadata": {
      "needs_background": "light"
     },
     "output_type": "display_data"
    },
    {
     "name": "stdout",
     "output_type": "stream",
     "text": [
      "(array([0.12702082], dtype=float32), array([0.5134738], dtype=float32), array([0.23478429], dtype=float32), array([-0.02157618], dtype=float32))\n"
     ]
    }
   ],
   "source": [
    "# coding: utf-8\n",
    "import matplotlib.pyplot as plt\n",
    "import numpy as np\n",
    "import pandas as pd\n",
    "import tensorflow as tf\n",
    "\n",
    "def poly(file):\n",
    "    data = pd.read_csv(file)\n",
    "    datasets_X = data.iloc[:,0].values#.reshape(-1,1)\n",
    "    datasets_Y = data.iloc[:,1].values#.reshape(-1,1)\n",
    "    #n_observations = 100\n",
    "    #xs = np.linspace(datasets_X.min(), datasets_X.max(), n_observations)\n",
    "    #plt.plot(datasets_X, datasets_Y, 'o')\n",
    "    \n",
    "    #准备好placeholder\n",
    "    X = tf.placeholder(tf.float32, name='X')\n",
    "    Y = tf.placeholder(tf.float32, name='Y')\n",
    "    \n",
    "    #return linreg.intercept_[0] ,linreg.coef_[0][0],linreg.coef_[0][1],linreg.coef_[0][2]\n",
    "    #初始化参数/权重\n",
    "    W0 = tf.Variable(tf.random_normal([1]),name = 'weight0')  #从服从指定正太分布的数值中取出指定个数的值\n",
    "    W1 = tf.Variable(tf.random_normal([1]),name = 'weight1')\n",
    "    W2 = tf.Variable(tf.random_normal([1]),name = 'weight2')\n",
    "    W3 = tf.Variable(tf.random_normal([1]),name = 'weight3')\n",
    "    \n",
    "    #计算预测值\n",
    "    #Y_pred = X**3*W3 + X**2*W2 + X*W1 + W0\n",
    "    #Y_pred =  tf.multiply(X,W1)+tf.multiply(tf.pow(X,2),W2)+tf.multiply(tf.pow(X,3),W3)+W0\n",
    "        \n",
    "    Y_pred = tf.add(tf.multiply(X,W1),W0)\n",
    "    Y_pred = tf.add(tf.multiply(tf.pow(X,2),W2),Y_pred)\n",
    "    Y_pred = tf.add(tf.multiply(tf.pow(X,3),W3),Y_pred)\n",
    "     \n",
    "    #计算损失值\n",
    "    loss = tf.reduce_sum(tf.pow(Y_pred - Y,2))  / len(datasets_X) \n",
    "    \n",
    "    \n",
    "    #初始化optimizer\n",
    "    learning_rate = 0.01\n",
    "    optimizer = tf.train.GradientDescentOptimizer(learning_rate)\n",
    "    train = optimizer.minimize(loss)\n",
    "    \n",
    "    #初始化变量\n",
    "    init = tf.global_variables_initializer()\n",
    "    n_sample = len(datasets_X)            \n",
    "    \n",
    "    #会话\n",
    "    \n",
    "    with tf.Session() as sess:\n",
    "        sess.run(init)\n",
    "        #将搜集的变量写入事件文件，提供给Tensorboard使用\n",
    "        writer = tf.summary.FileWriter('./image/polynomial_reg',sess.graph)\n",
    "        #训练\n",
    "        for i in range(5000):\n",
    "            total_loss = 0  ##设定总共的损失初始值为0\n",
    "            for x, y in zip(datasets_X, datasets_Y):   #将两个列表的对应分别取出一个，组成一个元组\n",
    "                __, l = sess.run([train, loss], feed_dict={X: x, Y: y})\n",
    "                total_loss += l  #计算所有的损失值进行叠加\n",
    "            if i % 100 == 0:\n",
    "                print('Epoch{0}:{1}'.format(i, total_loss/n_sample))\n",
    "        \n",
    "        # 关闭writer\n",
    "        writer.close()\n",
    "        W_0,W_1,W_2,W_3 =  sess.run([W0,W1,W2,W3])\n",
    "    \n",
    "      \n",
    "    ##绘图\n",
    "    plt.plot(datasets_X, datasets_Y, 'bo', label='样本数据')    #真实值的散点\n",
    "     #预测值的拟合线条\n",
    "    plt.plot(datasets_X,  np.power(datasets_X,3)*W_3 + np.power(datasets_X,2)*W_2 + datasets_X*W_1 + W_0, color='green',label=\"拟合直线\" )\n",
    "    plt.legend()     #用于显示图例\n",
    "    plt.show() #显示图 \n",
    "\n",
    "    return W_0,W_1,W_2,W_3\n",
    "    \n",
    "    \n",
    "print(poly(\"data/lousai-22-01.csv\"))"
   ]
  },
  {
   "cell_type": "markdown",
   "metadata": {},
   "source": [
    "## sklearn\n"
   ]
  },
  {
   "cell_type": "code",
   "execution_count": 16,
   "metadata": {},
   "outputs": [
    {
     "name": "stdout",
     "output_type": "stream",
     "text": [
      "(-0.05546024314725534, 4.601034589525926, -20.53686905045881, 28.41324941863481)\n"
     ]
    },
    {
     "data": {
      "image/png": "[encoded data removed]",
      "text/plain": [
       "<Figure size 432x288 with 1 Axes>"
      ]
     },
     "metadata": {
      "needs_background": "light"
     },
     "output_type": "display_data"
    }
   ],
   "source": [
    "# coding: utf-8\n",
    "import matplotlib.pyplot as plt\n",
    "import numpy as np\n",
    "import pandas as pd\n",
    "from sklearn.linear_model import LinearRegression\n",
    "from sklearn.preprocessing import PolynomialFeatures\n",
    "\n",
    "def poly(file):\n",
    "    #data = pd.read_csv('lousai-22-01.csv')\n",
    "    data = pd.read_csv(file)\n",
    "    datasets_X = data.iloc[:,0].values.reshape(-1,1)\n",
    "    datasets_Y = data.iloc[:,1].values.reshape(-1,1)\n",
    "     \n",
    "     \n",
    "    x_poly = PolynomialFeatures(degree=3,include_bias=False).fit_transform(datasets_X)\n",
    "    linreg = LinearRegression()\n",
    "    linreg.fit(x_poly,datasets_Y)\n",
    "    plt.plot(datasets_X, datasets_Y, 'o')\n",
    "    W_0,W_1,W_2,W_3 =  linreg.intercept_[0] ,linreg.coef_[0][0],linreg.coef_[0][1],linreg.coef_[0][2]\n",
    "    \n",
    "    plt.plot(datasets_X,  np.power(datasets_X,3)*W_3 + np.power(datasets_X,2)*W_2 + datasets_X*W_1 + W_0, color='green',label=\"拟合直线\" )\n",
    "    return linreg.intercept_[0] ,linreg.coef_[0][0],linreg.coef_[0][1],linreg.coef_[0][2]\n",
    "\n",
    "print(poly(\"data/lousai-22-01.csv\"))"
   ]
  }
 ],
 "metadata": {
  "kernelspec": {
   "display_name": "Python 3",
   "language": "python",
   "name": "python3"
  },
  "language_info": {
   "codemirror_mode": {
    "name": "ipython",
    "version": 3
   },
   "file_extension": ".py",
   "mimetype": "text/x-python",
   "name": "python",
   "nbconvert_exporter": "python",
   "pygments_lexer": "ipython3",
   "version": "3.7.0"
  }
 },
 "nbformat": 4,
 "nbformat_minor": 2
}
