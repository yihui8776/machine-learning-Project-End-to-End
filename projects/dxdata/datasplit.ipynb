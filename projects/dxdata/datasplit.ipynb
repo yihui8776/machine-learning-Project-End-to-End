{
 "cells": [
  {
   "cell_type": "code",
   "execution_count": 1,
   "metadata": {},
   "outputs": [
    {
     "name": "stdout",
     "output_type": "stream",
     "text": [
      "322757\n",
      "64549\n",
      "258208\n"
     ]
    }
   ],
   "source": [
    "# -*- coding: UTF-8 -*-\n",
    "#按比例抽样\n",
    "# 保证脚本与Python3兼容\n",
    "from __future__ import print_function\n",
    "\n",
    "import os   #读取数据文件\n",
    "import sys\n",
    " \n",
    "  \n",
    "import numpy as np\n",
    "import matplotlib.pyplot as plt\n",
    "import pandas as pd \n",
    "import warnings\n",
    "\n",
    "warnings.filterwarnings(\"ignore\")\n",
    "\n",
    "\n",
    "def readData(path):\n",
    "    \"\"\"\n",
    "    使用pandas读取数据\n",
    "    \"\"\"\n",
    "    data = pd.read_csv(path)\n",
    "    cols = list(data.columns.values)\n",
    "    return data[cols]\n",
    "\n",
    "def split_data(observed_data, split_ratio=(8, 2, 1)):\n",
    "    \"\"\"\n",
    "    划分数据集为训练、验证、测试三个部分\n",
    "    :param observed_data:\n",
    "    :param split_ratio: relative proportion among train,evaluation,test\n",
    "    :return: train, evaluation, test data\n",
    "    \"\"\"\n",
    "    total = split_ratio[0] + split_ratio[1] + split_ratio[2]\n",
    "    length = len(observed_data)\n",
    "    train_cnt = int((split_ratio[0] / total) * length)\n",
    "    test_cnt = int((split_ratio[2] / total) * length)\n",
    "    return observed_data[:train_cnt], observed_data[train_cnt:-test_cnt], observed_data[-test_cnt:]\n",
    "\n",
    "if __name__ == \"__main__\":\n",
    "    # 设置显示格式\n",
    "    pd.set_option('display.width', 1000)\n",
    "    homePath = os.path.dirname(os.path.abspath('__file__'))\n",
    "    # Windows下的存储路径与Linux并不相同\n",
    "    if os.name == \"nt\":\n",
    "        dataPath = \"%s\\\\train.csv\" % homePath\n",
    "    else:\n",
    "        dataPath = \"%s/train.csv\" % homePath\n",
    "    df = readData(dataPath)\n",
    "\n",
    "    val = pd.DataFrame()\n",
    "    train = pd.DataFrame()\n",
    "    \n",
    "    tags = df['label'].unique().tolist() #按照标签进行等比例抽取\n",
    "    \n",
    "    for tag in tags:\n",
    "        #抽取20%数据\n",
    "        data = df[df['label']==tag]\n",
    "        sample = data.sample(int(0.2*len(data)))\n",
    "        sample_index = sample.index\n",
    "        #剩余数据\n",
    "        all_index = data.index\n",
    "        residue_index = all_index.difference(sample_index)\n",
    "        residue = data.loc[residue_index]\n",
    "        \n",
    "        val = pd.concat([val,sample],ignore_index=True)\n",
    "        train = pd.concat([train,residue],ignore_index=True)\n",
    "        \n",
    "    val.to_csv('val1.csv',index=0)\n",
    "    train.to_csv('train1.csv',index=0)\n",
    "    \n",
    "    print(len(df))\n",
    "    print(len(val))\n",
    "    print(len(train))"
   ]
  },
  {
   "cell_type": "code",
   "execution_count": 2,
   "metadata": {},
   "outputs": [
    {
     "name": "stdout",
     "output_type": "stream",
     "text": [
      "7C26FADD409BD4B9    226325\n",
      "816A9BEBED2D7C99     14250\n",
      "0F2E4CC10EDBE80F      8634\n",
      "56AFA2A526F96CC9      7164\n",
      "C7E2941B65C6CCD6      1835\n",
      "Name: label, dtype: int64\n"
     ]
    }
   ],
   "source": [
    "print(train['label'].value_counts())"
   ]
  },
  {
   "cell_type": "code",
   "execution_count": 3,
   "metadata": {},
   "outputs": [
    {
     "name": "stdout",
     "output_type": "stream",
     "text": [
      "Counter({'7C26FADD409BD4B9': 226325, '816A9BEBED2D7C99': 14250, '0F2E4CC10EDBE80F': 8634, '56AFA2A526F96CC9': 7164, 'C7E2941B65C6CCD6': 1835})\n"
     ]
    }
   ],
   "source": [
    "from collections import Counter\n",
    "# 查看所生成的样本类别分布，0和1样本比例9比1，属于类别不平衡数据\n",
    "print(Counter(train['label']))\n",
    "# Counter({0: 900, 1: 100})"
   ]
  },
  {
   "cell_type": "code",
   "execution_count": null,
   "metadata": {},
   "outputs": [],
   "source": []
  }
 ],
 "metadata": {
  "kernelspec": {
   "display_name": "Python 3",
   "language": "python",
   "name": "python3"
  },
  "language_info": {
   "codemirror_mode": {
    "name": "ipython",
    "version": 3
   },
   "file_extension": ".py",
   "mimetype": "text/x-python",
   "name": "python",
   "nbconvert_exporter": "python",
   "pygments_lexer": "ipython3",
   "version": "3.7.7"
  }
 },
 "nbformat": 4,
 "nbformat_minor": 4
}
