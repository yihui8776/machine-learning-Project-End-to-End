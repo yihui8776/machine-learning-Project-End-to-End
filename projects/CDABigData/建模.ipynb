{
 "cells": [
  {
   "cell_type": "markdown",
   "metadata": {},
   "source": [
    "利用Spark进行机器学习建模，要求在train.csv数据上建模，并利用模型在test.csv数据上进行预测，并最终输出预测结果，将结果单独设置一列（取名为predict_result）补充在test.csv文件最后，最终将根据模型实际AUC值判定模型效果。"
   ]
  },
  {
   "cell_type": "code",
   "execution_count": 1,
   "metadata": {},
   "outputs": [
    {
     "name": "stdout",
     "output_type": "stream",
     "text": [
      "/spark/python/pyspark/context.py:123: UserWarning: You are passing in an insecure Py4j gateway.  This presents a security risk, and will be completely forbidden in Spark 3.0\n",
      "  \"You are passing in an insecure Py4j gateway.  This \"\n"
     ]
    }
   ],
   "source": [
    "#读取数据\n",
    "from pyspark.sql import SparkSession \n",
    "spark=SparkSession.builder.appName(\"dataframe\").getOrCreate()\n",
    "sc = SparkContext.getOrCreate()\n",
    "train = spark.read.csv(r\"data/train.csv\",header=True,inferSchema=True)\n",
    "test  = spark.read.csv(r\"data/test.csv\",header=True,inferSchema=True)\n"
   ]
  },
  {
   "cell_type": "code",
   "execution_count": 2,
   "metadata": {},
   "outputs": [
    {
     "name": "stdout",
     "output_type": "stream",
     "text": [
      "+-------+---------+------+-----------+-----+\n",
      "|user_id|age_range|gender|merchant_id|label|\n",
      "+-------+---------+------+-----------+-----+\n",
      "|  34176|        6|     0|        944|   -1|\n",
      "|  34176|        6|     0|        412|   -1|\n",
      "|  34176|        6|     0|       1945|   -1|\n",
      "|  34176|        6|     0|       4752|   -1|\n",
      "|  34176|        6|     0|        643|   -1|\n",
      "+-------+---------+------+-----------+-----+\n",
      "only showing top 5 rows\n",
      "\n"
     ]
    }
   ],
   "source": [
    "train.show(5)"
   ]
  },
  {
   "cell_type": "code",
   "execution_count": 14,
   "metadata": {},
   "outputs": [
    {
     "name": "stdout",
     "output_type": "stream",
     "text": [
      "root\n",
      " |-- user_id: integer (nullable = true)\n",
      " |-- age_range: integer (nullable = true)\n",
      " |-- gender: integer (nullable = true)\n",
      " |-- merchant_id: integer (nullable = true)\n",
      " |-- label: integer (nullable = true)\n",
      "\n"
     ]
    }
   ],
   "source": [
    "train.printSchema()"
   ]
  },
  {
   "cell_type": "code",
   "execution_count": 4,
   "metadata": {},
   "outputs": [
    {
     "name": "stdout",
     "output_type": "stream",
     "text": [
      "+---------+-------+\n",
      "|age_range|  count|\n",
      "+---------+-------+\n",
      "|     null|  19380|\n",
      "|        1|    286|\n",
      "|        6| 655922|\n",
      "|        3|1913722|\n",
      "|        5| 752927|\n",
      "|        4|1459923|\n",
      "|        8|  20290|\n",
      "|        7| 124493|\n",
      "|        2| 731938|\n",
      "|        0|1351842|\n",
      "+---------+-------+\n"
     ]
    }
   ],
   "source": [
    "train.groupBy('age_range').count().show()"
   ]
  },
  {
   "cell_type": "code",
   "execution_count": 3,
   "metadata": {},
   "outputs": [
    {
     "name": "stdout",
     "output_type": "stream",
     "text": [
      "+------+-------+\n",
      "|gender|  count|\n",
      "+------+-------+\n",
      "|  null|  61712|\n",
      "|     1|1618110|\n",
      "|     2| 249171|\n",
      "|     0|5101730|\n",
      "+------+-------+\n",
      "\n"
     ]
    }
   ],
   "source": [
    "train.groupBy('gender').count().show()"
   ]
  },
  {
   "cell_type": "code",
   "execution_count": 15,
   "metadata": {},
   "outputs": [
    {
     "name": "stdout",
     "output_type": "stream",
     "text": [
      "+-----------+-----+\n",
      "|merchant_id|count|\n",
      "+-----------+-----+\n",
      "|       4818| 3707|\n",
      "|        496| 1149|\n",
      "|       3749| 1157|\n",
      "|       1580| 3298|\n",
      "|       1645|  432|\n",
      "|        471| 3524|\n",
      "|       4519|  828|\n",
      "|       3918| 1894|\n",
      "|        148| 3058|\n",
      "|       1238|  967|\n",
      "|       3997| 3762|\n",
      "|       1342| 1262|\n",
      "|       3794|  553|\n",
      "|       1088| 1032|\n",
      "|       2122| 1162|\n",
      "|       1591|  724|\n",
      "|        833|  299|\n",
      "|       3175| 1312|\n",
      "|       2366| 1022|\n",
      "|        463|  851|\n",
      "+-----------+-----+\n",
      "only showing top 20 rows\n",
      "\n"
     ]
    }
   ],
   "source": [
    "train.groupBy('merchant_id').count().show()"
   ]
  },
  {
   "cell_type": "code",
   "execution_count": 16,
   "metadata": {},
   "outputs": [
    {
     "name": "stdout",
     "output_type": "stream",
     "text": [
      "+-----+-------+\n",
      "|label|  count|\n",
      "+-----+-------+\n",
      "|   -1|6769859|\n",
      "|    1|  15952|\n",
      "|    0| 244912|\n",
      "+-----+-------+\n",
      "\n"
     ]
    }
   ],
   "source": [
    "train.groupBy('label').count().show()"
   ]
  },
  {
   "cell_type": "code",
   "execution_count": 13,
   "metadata": {},
   "outputs": [
    {
     "name": "stdout",
     "output_type": "stream",
     "text": [
      "+-------+---------+------+-----------+-----+\n",
      "|user_id|age_range|gender|merchant_id|label|\n",
      "+-------+---------+------+-----------+-----+\n",
      "+-------+---------+------+-----------+-----+\n",
      "\n"
     ]
    }
   ],
   "source": [
    "train.filter(isnull('merchant_id')).show()"
   ]
  },
  {
   "cell_type": "markdown",
   "metadata": {},
   "source": [
    "这里看基本都是处理好的数据，为了简化age_range ，gender只用确定的，空值不用，merchant都是相当于分好类的特征，直接编码就好，而label我们看是  \n",
    "不平衡的数据，这里不做采样的了直接用逻辑回归跑个模型。\n"
   ]
  },
  {
   "cell_type": "code",
   "execution_count": 28,
   "metadata": {},
   "outputs": [
    {
     "data": {
      "text/plain": [
       "5659501"
      ]
     },
     "execution_count": 28,
     "metadata": {},
     "output_type": "execute_result"
    }
   ],
   "source": [
    "train.where(train['age_range']>0).count()  "
   ]
  },
  {
   "cell_type": "code",
   "execution_count": 29,
   "metadata": {},
   "outputs": [],
   "source": [
    "train1 = train.where(train['age_range']>0)"
   ]
  },
  {
   "cell_type": "code",
   "execution_count": 30,
   "metadata": {},
   "outputs": [],
   "source": [
    "train2 = train1.where(train1['gender']<2)"
   ]
  },
  {
   "cell_type": "code",
   "execution_count": 33,
   "metadata": {},
   "outputs": [],
   "source": [
    "train3 = train2.where(~(train2['label']==-1))"
   ]
  },
  {
   "cell_type": "code",
   "execution_count": 37,
   "metadata": {},
   "outputs": [
    {
     "data": {
      "text/plain": [
       "['gender', 'age_range', 'merchant_id']"
      ]
     },
     "execution_count": 37,
     "metadata": {},
     "output_type": "execute_result"
    }
   ],
   "source": [
    "#特征\n",
    "features = list(set(train.columns)-set(['label','user_id']))\n",
    "features\n"
   ]
  },
  {
   "cell_type": "code",
   "execution_count": 39,
   "metadata": {},
   "outputs": [],
   "source": [
    "from pyspark.ml.feature import OneHotEncoder \n",
    "from pyspark.ml import Pipeline\n",
    "##创建OneHotEncoder对象，设定输入输出参数\n",
    "categoryFeaturesIndex = ['age_range','merchant_id']\n",
    "pipeline = Pipeline(stages=[\n",
    "    OneHotEncoder(inputCol=c, outputCol='{}_vec'.format(c))\n",
    "    for c in categoryFeaturesIndex\n",
    "])\n",
    "\n",
    "onehot = pipeline.fit(train3)\n",
    "encodeData = onehot.transform(train3)"
   ]
  },
  {
   "cell_type": "code",
   "execution_count": 40,
   "metadata": {},
   "outputs": [
    {
     "name": "stdout",
     "output_type": "stream",
     "text": [
      "+-------+---------+------+-----------+-----+-------------+-------------------+\n",
      "|user_id|age_range|gender|merchant_id|label|age_range_vec|    merchant_id_vec|\n",
      "+-------+---------+------+-----------+-----+-------------+-------------------+\n",
      "|  34176|        6|     0|       3906|    0|(8,[6],[1.0])|(4993,[3906],[1.0])|\n",
      "|  34176|        6|     0|        121|    0|(8,[6],[1.0])| (4993,[121],[1.0])|\n",
      "|  34176|        6|     0|       4356|    1|(8,[6],[1.0])|(4993,[4356],[1.0])|\n",
      "|  34176|        6|     0|       2217|    0|(8,[6],[1.0])|(4993,[2217],[1.0])|\n",
      "| 362112|        4|     1|       2618|    0|(8,[4],[1.0])|(4993,[2618],[1.0])|\n",
      "|  34944|        5|     0|       2051|    0|(8,[5],[1.0])|(4993,[2051],[1.0])|\n",
      "| 231552|        5|     0|       3828|    1|(8,[5],[1.0])|(4993,[3828],[1.0])|\n",
      "| 231552|        5|     0|       2124|    0|(8,[5],[1.0])|(4993,[2124],[1.0])|\n",
      "| 232320|        4|     1|       1168|    0|(8,[4],[1.0])|(4993,[1168],[1.0])|\n",
      "| 232320|        4|     1|       4270|    0|(8,[4],[1.0])|(4993,[4270],[1.0])|\n",
      "| 167040|        5|     0|        671|    0|(8,[5],[1.0])| (4993,[671],[1.0])|\n",
      "| 298368|        4|     0|       2981|    0|(8,[4],[1.0])|(4993,[2981],[1.0])|\n",
      "|  36480|        6|     1|       4730|    0|(8,[6],[1.0])|(4993,[4730],[1.0])|\n",
      "|  37248|        3|     1|       2615|    0|(8,[3],[1.0])|(4993,[2615],[1.0])|\n",
      "| 103296|        6|     0|       2482|    0|(8,[6],[1.0])|(4993,[2482],[1.0])|\n",
      "| 299904|        6|     1|       1742|    0|(8,[6],[1.0])|(4993,[1742],[1.0])|\n",
      "|  38016|        3|     0|       1028|    0|(8,[3],[1.0])|(4993,[1028],[1.0])|\n",
      "| 104064|        6|     1|       3870|    0|(8,[6],[1.0])|(4993,[3870],[1.0])|\n",
      "| 104064|        6|     1|        669|    0|(8,[6],[1.0])| (4993,[669],[1.0])|\n",
      "| 300672|        6|     0|        649|    0|(8,[6],[1.0])| (4993,[649],[1.0])|\n",
      "+-------+---------+------+-----------+-----+-------------+-------------------+\n",
      "only showing top 20 rows\n",
      "\n"
     ]
    }
   ],
   "source": [
    "encodeData.show()\n"
   ]
  },
  {
   "cell_type": "code",
   "execution_count": 44,
   "metadata": {},
   "outputs": [
    {
     "name": "stdout",
     "output_type": "stream",
     "text": [
      "['user_id', 'age_range', 'gender', 'merchant_id', 'label', 'age_range_vec', 'merchant_id_vec']\n",
      "root\n",
      " |-- age_range_vec: vector (nullable = true)\n",
      " |-- merchant_id_vec: vector (nullable = true)\n",
      " |-- gender: integer (nullable = true)\n",
      " |-- label: integer (nullable = true)\n",
      "\n"
     ]
    }
   ],
   "source": [
    "#去除无用特征列\n",
    "print(encodeData.columns)\n",
    "use_data = encodeData.select([ 'age_range_vec',  'merchant_id_vec',  'gender','label'])\n",
    "use_data.printSchema()"
   ]
  },
  {
   "cell_type": "code",
   "execution_count": 46,
   "metadata": {},
   "outputs": [
    {
     "name": "stdout",
     "output_type": "stream",
     "text": [
      "root\n",
      " |-- age_range_vec: vector (nullable = true)\n",
      " |-- merchant_id_vec: vector (nullable = true)\n",
      " |-- gender: integer (nullable = true)\n",
      " |-- label: integer (nullable = true)\n",
      " |-- features: vector (nullable = true)\n",
      "\n",
      "+-------------+-------------------+------+-----+----------------------------------+\n",
      "|age_range_vec|merchant_id_vec    |gender|label|features                          |\n",
      "+-------------+-------------------+------+-----+----------------------------------+\n",
      "|(8,[6],[1.0])|(4993,[3906],[1.0])|0     |0    |(5002,[6,3914],[1.0,1.0])         |\n",
      "|(8,[6],[1.0])|(4993,[121],[1.0]) |0     |0    |(5002,[6,129],[1.0,1.0])          |\n",
      "|(8,[6],[1.0])|(4993,[4356],[1.0])|0     |1    |(5002,[6,4364],[1.0,1.0])         |\n",
      "|(8,[6],[1.0])|(4993,[2217],[1.0])|0     |0    |(5002,[6,2225],[1.0,1.0])         |\n",
      "|(8,[4],[1.0])|(4993,[2618],[1.0])|1     |0    |(5002,[4,2626,5001],[1.0,1.0,1.0])|\n",
      "|(8,[5],[1.0])|(4993,[2051],[1.0])|0     |0    |(5002,[5,2059],[1.0,1.0])         |\n",
      "|(8,[5],[1.0])|(4993,[3828],[1.0])|0     |1    |(5002,[5,3836],[1.0,1.0])         |\n",
      "|(8,[5],[1.0])|(4993,[2124],[1.0])|0     |0    |(5002,[5,2132],[1.0,1.0])         |\n",
      "|(8,[4],[1.0])|(4993,[1168],[1.0])|1     |0    |(5002,[4,1176,5001],[1.0,1.0,1.0])|\n",
      "|(8,[4],[1.0])|(4993,[4270],[1.0])|1     |0    |(5002,[4,4278,5001],[1.0,1.0,1.0])|\n",
      "+-------------+-------------------+------+-----+----------------------------------+\n",
      "only showing top 10 rows\n",
      "\n"
     ]
    }
   ],
   "source": [
    "#特征归并到一列\n",
    "from pyspark.ml.feature import VectorAssembler  #一个 导入VerctorAssembler 将多个列合并成向量列的特征转换器,即将表中各列用一个类似list表示，输出预测列为单独一列。\n",
    "\n",
    "assembler = VectorAssembler(inputCols=['age_range_vec',  'merchant_id_vec',  'gender'],outputCol=\"features\")\n",
    "trainset = assembler.transform(use_data)\n",
    "trainset.printSchema()\n",
    "\n",
    "trainset.show(10,False)"
   ]
  },
  {
   "cell_type": "markdown",
   "metadata": {},
   "source": [
    "## logistics回归建模"
   ]
  },
  {
   "cell_type": "code",
   "execution_count": 57,
   "metadata": {},
   "outputs": [
    {
     "name": "stdout",
     "output_type": "stream",
     "text": [
      "logistic: LogisticRegression_0bb482445d3e\n"
     ]
    }
   ],
   "source": [
    "# 创建评估器\n",
    "import pyspark.ml.classification as cl\n",
    "logistic = cl.LogisticRegression(\n",
    "    maxIter=10, \n",
    "    regParam=0.01, \n",
    "    labelCol='label')\n",
    "print ('logistic:', logistic) "
   ]
  },
  {
   "cell_type": "code",
   "execution_count": 56,
   "metadata": {},
   "outputs": [
    {
     "name": "stdout",
     "output_type": "stream",
     "text": [
      "test_model: DataFrame[age_range_vec: vector, merchant_id_vec: vector, gender: int, label: int, features: vector, rawPrediction: vector, probability: vector, prediction: double]\n",
      "test_model.take(1): [Row(age_range_vec=SparseVector(8, {}), merchant_id_vec=SparseVector(4993, {67: 1.0}), gender=0, label=0, features=SparseVector(5002, {75: 1.0}), rawPrediction=DenseVector([3.1645, -3.1645]), probability=DenseVector([0.9595, 0.0405]), prediction=0.0)]\n"
     ]
    }
   ],
   "source": [
    "# 创建一个管道\n",
    "from pyspark.ml import Pipeline\n",
    "\n",
    "# fit \n",
    "traindata, testdata = trainset.randomSplit([0.7, 0.3], seed=666)\n",
    " \n",
    "# 运行管道，评估模型。\n",
    "lr = logistic.fit(traindata.select(['features','label']))\n",
    "test_model = lr.transform(testdata)\n",
    " \n",
    "print ('test_model:', test_model)\n",
    " \n",
    " \n",
    "test_model.take(1)\n",
    " \n",
    "print ('test_model.take(1):', test_model.take(1))\n",
    " \n"
   ]
  },
  {
   "cell_type": "code",
   "execution_count": 62,
   "metadata": {},
   "outputs": [
    {
     "name": "stdout",
     "output_type": "stream",
     "text": [
      "0.6416230017778205\n",
      "0.109574965741648\n"
     ]
    }
   ],
   "source": [
    " \n",
    "# 评估模型性能,这里略过搜索和tune\n",
    "import pyspark.ml.evaluation as ev\n",
    " \n",
    "evaluator = ev.BinaryClassificationEvaluator(\n",
    "    rawPredictionCol='probability', \n",
    "    labelCol='label')\n",
    " \n",
    "print(evaluator.evaluate(test_model, \n",
    "     {evaluator.metricName: 'areaUnderROC'}))\n",
    "print(evaluator.evaluate(test_model, {evaluator.metricName: 'areaUnderPR'})) "
   ]
  },
  {
   "cell_type": "code",
   "execution_count": null,
   "metadata": {},
   "outputs": [],
   "source": []
  }
 ],
 "metadata": {
  "kernelspec": {
   "display_name": "apache_toree - PySpark",
   "language": "python",
   "name": "apache_toree_pyspark"
  },
  "language_info": {
   "codemirror_mode": "text/x-ipython",
   "file_extension": ".py",
   "mimetype": "text/x-ipython",
   "name": "python",
   "pygments_lexer": "python",
   "version": "3.7.7\n"
  }
 },
 "nbformat": 4,
 "nbformat_minor": 4
}
