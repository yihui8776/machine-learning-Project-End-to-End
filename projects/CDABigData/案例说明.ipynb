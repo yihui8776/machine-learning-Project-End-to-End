{
 "cells": [
  {
   "cell_type": "markdown",
   "metadata": {},
   "source": [
    "# 案例背景\n",
    "\n",
    "CDA二级大数据的实际案例题，应该是比较接近日常的项目了，第一个是问题分析，分析kafka到spark streaming过程的数据不一致问题，和架构优化的探讨，反正基本我是乱扯了一通，也不知道答案，但是从大数据来说这个是实时计算和数据采集的过程，是整个大数据端到端的最开始，也是相当重要的。\n",
    "这里主要做的是第二题数据分析和建模题，要求是用hive做数据分析清洗，用spark做数据挖掘，前后是相互关联的。  \n",
    "总体感觉就是比较接近实战的案例吧，要平时多练，因为只有两个小时，而且没有联网，稍微有个环节错误，就会很麻烦，但是相对来说主要是看大数据技术，所以数据相对二级建模考试的案例来说简单也不会太多和异常，预处理就不会太多，平时多操作和分析就还好，对系统学习和大数据工作流程有帮助。\n"
   ]
  },
  {
   "cell_type": "markdown",
   "metadata": {},
   "source": [
    "# 项目说明\n",
    "   根据给定数据，使用分布式集群进行建模分析，建模过程主要涉及组建为Hive和Spark，提交结果时要求同时提交模型运行结果以及相关代码。\n",
    "案例内容：  \n",
    "   案例是接近现有某大型电商平台用户购买数据，考虑存储在分布式系统里用大数据框架进行分析，要求从相关数据中分析并挖掘存在重复购买可能性的用户，即用户二次购买行为预测分析。同时，为了保证分析过程完整性，要求利用Hive进行一定程度的数据预处理和数据探索。\n",
    "   总共给定三份数据，数据名分别为users.csv，train.csv，test.csv，其中各字段解释如下：\n",
    "   \n",
    "- User_id:买家ID\n",
    "- Item_id：商品ID\n",
    "- Cat_id:商品类别\n",
    "- Merchant_id:卖家ID\n",
    "- Brand_id:品牌ID\n",
    "- Month_id:交易月份\n",
    "- Day:交易日期\n",
    "- Action:交易行为，0表示点击、1表示加入购物车、2表示购买、3表示关注商品\n",
    "- Age_range:卖家年龄分段，1表示年龄<18,2表示年龄在[18,24]，3表示年龄在[25,29]，4表示年龄在[30,34]，5表示年龄在[35,39]，6表示年龄在[40,49]，7和8表示年龄>=50,0和NULL则表示未知；\n",
    "- Gender：0表示女性、1表示男性，2和NULL表示未知\n",
    "- Province:收获地址省份\n",
    "\n",
    " train.csv文件和test.csv文件为实际进行模型训练和测试的训练集、测试集数据，大部分字段字段名和意思都是与users.csv一样，就是取出有用的进行建模，  建模数据删除了部分与是否复购无关的字段，等于是做了部分预处理，主要考察spark，同时增加了label列，即实际是否发生复购的标签列。其中，0表示没有复购、1表示复购、-1则表示无法分析（超出分析范围），\n",
    " "
   ]
  },
  {
   "cell_type": "markdown",
   "metadata": {},
   "source": [
    "# 集群数据准备\n",
    "\n",
    "## 集群搭建略\n",
    "\n",
    "这里因为是单机，使用docker最简部署 ：https://github.com/big-data-europe/docker-hive\n",
    "\n",
    "## 导入数据到docker\n",
    "\n",
    "将三个csv文件保存到虚机  \n",
    "复制到docker内：  \n",
    "docker cp /tmp/data docker-hive_hive-server_1:/opt/hive/\n",
    "\n",
    "## 登录hive查看\n",
    "\n",
    "docker-compose exec hive-server bash\n",
    "\n",
    "\n",
    "/opt/hive/bin/beeline -u jdbc:hive2://localhost:10000\n"
   ]
  }
 ],
 "metadata": {
  "kernelspec": {
   "display_name": "Python 3",
   "language": "python",
   "name": "python3"
  },
  "language_info": {
   "codemirror_mode": {
    "name": "ipython",
    "version": 3
   },
   "file_extension": ".py",
   "mimetype": "text/x-python",
   "name": "python",
   "nbconvert_exporter": "python",
   "pygments_lexer": "ipython3",
   "version": "3.7.7"
  }
 },
 "nbformat": 4,
 "nbformat_minor": 4
}
