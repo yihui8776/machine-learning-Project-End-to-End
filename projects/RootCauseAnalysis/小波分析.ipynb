{
 "cells": [
  {
   "cell_type": "markdown",
   "metadata": {},
   "source": [
    "## 傅里叶分析和变换\n",
    "说到这傅里叶分析傅里叶变化理工科学生应该多少都知道，这里简单复习下，严谨的概念公式可以看课本和相关文献。这里就简单过下。\n",
    "### 时频分析\n",
    "我们看到的世界可以分为频域和时域，从时间角度看很多事物是不断随时间变化的，比如股票的涨跌，人的身高的变化，我们可以看成无限变化的曲线。 就是时域。  \n",
    "而对于周期变化的曲线，或者说我们看所有的身高变化，其实都可以看作一定范围内的频率数据变化，身高符合正态分布，这就是频域。 \n",
    "### 傅里叶变换\n",
    "而数字信号领地最重要的基础就是傅里叶变换，它可分析信号的成分，也可用这些成分合成信号。许多波形可作为信号的成分，比如正弦波、方波、锯齿波等，傅里叶变换用正弦波作为信号的成分。除此之外，傅里叶变换在物理学、数论、组合数学、信号处理、概率、统计、密码学、声学、光学等领域都有着广泛的应用。  \n",
    "简单的讲我们在中学和大学很多见的就是搞一堆正弦余弦函数，那么这里就可以看出，如果工课相关比如物理信息的童鞋经过一些实验和应用，就会更多理解这些，而再回头看这些又会温故知新，对于其它人就相当就是背了一堆概念公式。  \n",
    "而傅里叶变化就是说各种连续的变化信号，比如声音、心电图就是可以分解为三角函数的叠加，比如正弦函数的线性组合。   \n",
    "那为何这是和改变世界的一大突破，首先从数学理论上，这些正弦都是无限可导可微的，可以很好的进行各种理论建模分析；另一方面，这些函数也可以很好地数值计算，并可以进行各种工程化算法实现，物理的模拟叠加等等。  \n",
    "傅里叶变换就是比时域分析转为了频域分析。\n",
    "![image.png](images/fly.jpeg)  \n",
    "\n",
    "当然具体的工程实现还有很多算法，比如快速傅里叶变换，离散傅里叶变换DFT等，真正能工程应用还是要踏踏实实弄清楚公式和概念，不断实践，学习没有捷径。  \n",
    "傅里叶变换可以将时域信号转化为频域信号。在频域里，可以对信号使用比时域更简单的运算，比如滤波，比如数字信号处理中常用的离散傅里叶变换DFT，将时域信号的频率信息提取出来再进行分析处理。但是对于在时域中有明显位置信息的信号波形（频域特征随时间有变化），采用傅里叶变换并不能识别时域的位置信息，造成提取后的特征信息丢失。所以主角出场了，就是小波分析。  \n",
    "### reference\n",
    "https://www.cnblogs.com/h2zZhou/p/8405717.html  \n",
    "https://baijiahao.baidu.com/s?id=1636833728798493906&wfr=spider&for=pc  "
   ]
  },
  {
   "cell_type": "markdown",
   "metadata": {},
   "source": [
    "## 小波变换（wavelet transform）\n",
    "小波分析就是另一种时域信号转换为频域信号提取特征的方法。顾名思义小波就是很小的波，它具体推导可以见相关参考书。  \n",
    "小波的积分近似为0，可以进行变换小尺度的频域分析，简单讲就是将已有的波分解为很多个可以小的波形，小波按照形状种类分为六种。  \n",
    "比如一阶导数是表示是在段阶段内是否增加或减少，而二阶导数就是更长的趋势分析，如股票分析更想看二阶导数，就是预期的差值，而不是短时间的增减，这就类似ARIMA里的平滑方式，在更低的频域或是更长时域内分析数据的变化，而小波也是类似的多尺度分析的方法。 \n",
    "和傅里叶变换这些重要的共同过程就是分解和重构，类似log平稳后再用指数函数exp回归原始值域。  \n",
    "但是小波的原理和傅里叶变换又不同，快速傅里叶变换是比较直观和naive的想法给信号加窗，分段做傅里叶；而小波直接改变了基函数——将无限长的三角函数基换成了有限长的会衰减的小波基。这样不仅能够获取频率，还可以定位到时间了。\n",
    "\n",
    "### 参考\n",
    "https://www.cnblogs.com/jfdwd/p/9249850.html  \n",
    "https://blog.csdn.net/jbb0523/article/details/42586749   \n",
    "https://blog.csdn.net/yuuyuhaksho/article/details/87537967  \n",
    "https://blog.csdn.net/nanbei2463776506/article/details/64124841\n",
    "\n"
   ]
  },
  {
   "cell_type": "code",
   "execution_count": 1,
   "metadata": {},
   "outputs": [
    {
     "name": "stdout",
     "output_type": "stream",
     "text": [
      "2020-04-11 00:00:28    1.0\n",
      "2020-04-11 00:01:28    2.0\n",
      "2020-04-11 00:02:28    2.0\n",
      "2020-04-11 00:03:02    1.0\n",
      "2020-04-11 00:04:02    2.0\n",
      "dtype: float64\n",
      "         timestamp  value\n",
      "20   1586534428000    1.0\n",
      "350  1586534727000   12.0\n",
      "351  1586534642000    2.0\n",
      "352  1586534582000    1.0\n",
      "353  1586534548000    2.0\n"
     ]
    },
    {
     "data": {
      "image/png": "[encoded data removed]",
      "text/plain": [
       "<Figure size 432x288 with 1 Axes>"
      ]
     },
     "metadata": {
      "needs_background": "light"
     },
     "output_type": "display_data"
    }
   ],
   "source": [
    "import numpy as np \n",
    "import pandas as pd \n",
    "import os\n",
    "import matplotlib.pyplot as plt\n",
    "import seaborn as sns\n",
    "from mlxtend.preprocessing import TransactionEncoder\n",
    "from mlxtend.frequent_patterns import apriori, association_rules,fpgrowth\n",
    "import networkx as nx\n",
    "import csv\n",
    "#from rootcause.association_analysis import alarm_association\n",
    "from preutils import  timeseries_processor\n",
    "import warnings\n",
    "warnings.filterwarnings('ignore')  #忽略警告\n",
    "\n",
    " \n",
    "if __name__=='__main__':\n",
    "    \n",
    "    pd.set_option('display.width', 1000)\n",
    "    homePath = os.path.dirname(os.path.abspath('__file__'))\n",
    "    # Windows下的存储路径与Linux并不相同\n",
    "#data//20200411/platform/db_oracle_11g.csv\n",
    "\n",
    "    if os.name == \"nt\":\n",
    "        dataPath = \"%s\\\\data\\20200411\\platform\\dcos_docker.csv\" % homePath\n",
    "    else:\n",
    "        dataPath = \"%s/data/20200411/platform/dcos_docker.csv\" % homePath\n",
    "     \n",
    "    itemid = 999999996381403\n",
    "    cmdbid = 'docker_003'\n",
    "    indexname = 'container_cpu_used'\n",
    "    bomcid = 'ZJ-004-059'\n",
    "    \n",
    "    docker=pd.read_csv(dataPath)\n",
    "    #docker.head()\n",
    "    dockergrouped = docker.groupby(['itemid','name','bomc_id'])\n",
    "    #for item in dockergrouped.itemid:\n",
    "    alarmtime = [1586534700000]\n",
    "    dtdata  = docker[  (docker['itemid']==itemid) & (docker['cmdb_id']==cmdbid) & (docker['name']==indexname)][['timestamp','value']]\n",
    "    #timeseries = dtdata['value'].values\n",
    "    #dockertime1 = docker.loc[(docker['timestamp'] <= alarmtime)&(docker['timestamp']>alarmtime- 300000)]\n",
    "    #timeseries_set =  dockertime1['value'].values\n",
    "    #print(dts.shape)\n",
    "            \n",
    "    dts = timeseries_processor.get_tsdata(dataPath,itemid,bomcid,indexname )\n",
    "    print(dts.head())\n",
    "    print(dtdata.head())\n",
    "    dts.plot()\n",
    "    "
   ]
  },
  {
   "cell_type": "code",
   "execution_count": 2,
   "metadata": {},
   "outputs": [],
   "source": [
    "import pywt\n",
    "\n",
    "# 小波滤噪\n",
    "def wavelet_denoising(data):\n",
    "    # 小波函数取db4\n",
    "    db4 = pywt.Wavelet('db4')\n",
    "    \n",
    "    # 分解\n",
    "    coeffs = pywt.wavedec(data, db4)\n",
    "    # 高频系数置零\n",
    "    coeffs[len(coeffs)-1] *= 0\n",
    "    coeffs[len(coeffs)-2] *= 0\n",
    "    # 重构\n",
    "    meta = pywt.waverec(coeffs, db4)\n",
    "    metas = pd.Series(meta)\n",
    "    return metas"
   ]
  },
  {
   "cell_type": "code",
   "execution_count": 3,
   "metadata": {},
   "outputs": [
    {
     "name": "stdout",
     "output_type": "stream",
     "text": [
      "['haar', 'db', 'sym', 'coif', 'bior', 'rbio', 'dmey', 'gaus', 'mexh', 'morl', 'cgau', 'shan', 'fbsp', 'cmor']\n",
      "haar family: haar\n",
      "db family: db1,db2,db3,db4,db5,db6,db7,db8,db9,db10,db11,db12,db13,db14,db15,db16,db17,db18,db19,db20,db21,db22,db23,db24,db25,db26,db27,db28,db29,db30,db31,db32,db33,db34,db35,db36,db37,db38\n",
      "sym family: sym2,sym3,sym4,sym5,sym6,sym7,sym8,sym9,sym10,sym11,sym12,sym13,sym14,sym15,sym16,sym17,sym18,sym19,sym20\n",
      "coif family: coif1,coif2,coif3,coif4,coif5,coif6,coif7,coif8,coif9,coif10,coif11,coif12,coif13,coif14,coif15,coif16,coif17\n",
      "bior family: bior1.1,bior1.3,bior1.5,bior2.2,bior2.4,bior2.6,bior2.8,bior3.1,bior3.3,bior3.5,bior3.7,bior3.9,bior4.4,bior5.5,bior6.8\n",
      "rbio family: rbio1.1,rbio1.3,rbio1.5,rbio2.2,rbio2.4,rbio2.6,rbio2.8,rbio3.1,rbio3.3,rbio3.5,rbio3.7,rbio3.9,rbio4.4,rbio5.5,rbio6.8\n",
      "dmey family: dmey\n",
      "gaus family: gaus1,gaus2,gaus3,gaus4,gaus5,gaus6,gaus7,gaus8\n",
      "mexh family: mexh\n",
      "morl family: morl\n",
      "cgau family: cgau1,cgau2,cgau3,cgau4,cgau5,cgau6,cgau7,cgau8\n",
      "shan family: shan\n",
      "fbsp family: fbsp\n",
      "cmor family: cmor\n"
     ]
    }
   ],
   "source": [
    "#小波族群和基函数\n",
    "import pywt  \n",
    "print(pywt.families())  #打印出小波族\n",
    "# ['haar', 'db', 'sym', 'coif', 'bior', 'rbio', 'dmey', 'gaus', 'mexh', 'morl', 'cgau', 'shan', 'fbsp', 'cmor']\n",
    " \n",
    "for family in pywt.families():  #打印出每个小波族的每个小波函数\n",
    "    print('%s family: '%(family) + ','.join(pywt.wavelist(family))) "
   ]
  },
  {
   "cell_type": "markdown",
   "metadata": {},
   "source": []
  }
 ],
 "metadata": {
  "kernelspec": {
   "display_name": "Python 3",
   "language": "python",
   "name": "python3"
  },
  "language_info": {
   "codemirror_mode": {
    "name": "ipython",
    "version": 3
   },
   "file_extension": ".py",
   "mimetype": "text/x-python",
   "name": "python",
   "nbconvert_exporter": "python",
   "pygments_lexer": "ipython3",
   "version": "3.7.7"
  }
 },
 "nbformat": 4,
 "nbformat_minor": 4
}
