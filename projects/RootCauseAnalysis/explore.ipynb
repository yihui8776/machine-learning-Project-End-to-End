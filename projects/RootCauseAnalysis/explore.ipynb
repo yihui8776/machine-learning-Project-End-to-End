{
 "cells": [
  {
   "cell_type": "code",
   "execution_count": 1,
   "metadata": {},
   "outputs": [
    {
     "name": "stdout",
     "output_type": "stream",
     "text": [
      "3-fold cross validation:\n",
      "\n",
      "Accuracy: 0.91 (+/- 0.01) [KNN]\n",
      "Accuracy: 0.95 (+/- 0.01) [Random Forest]\n",
      "Accuracy: 0.91 (+/- 0.02) [Naive Bayes]\n",
      "Accuracy: 0.95 (+/- 0.02) [StackingClassifier]\n"
     ]
    }
   ],
   "source": [
    "from sklearn import datasets  \n",
    "  \n",
    "iris = datasets.load_iris()  \n",
    "X, y = iris.data[:, 1:3], iris.target  \n",
    "  \n",
    "from sklearn import model_selection  \n",
    "from sklearn.linear_model import LogisticRegression  \n",
    "from sklearn.neighbors import KNeighborsClassifier  \n",
    "from sklearn.naive_bayes import GaussianNB   \n",
    "from sklearn.ensemble import RandomForestClassifier  \n",
    "from mlxtend.classifier import StackingClassifier  \n",
    "import numpy as np  \n",
    "  \n",
    "clf1 = KNeighborsClassifier(n_neighbors=1)  \n",
    "clf2 = RandomForestClassifier(random_state=1)  \n",
    "clf3 = GaussianNB()  \n",
    "lr = LogisticRegression()  \n",
    "sclf = StackingClassifier(classifiers=[clf1, clf2, clf3],   \n",
    "                          meta_classifier=lr)  \n",
    "  \n",
    "print('3-fold cross validation:\\n') \n",
    "for clf, label in zip([clf1, clf2, clf3, sclf],   \n",
    "                      ['KNN',   \n",
    "                       'Random Forest',   \n",
    "                       'Naive Bayes',  \n",
    "                       'StackingClassifier']):  \n",
    "  \n",
    "    scores = model_selection.cross_val_score(clf, X, y,   \n",
    "                                              cv=3, scoring='accuracy')  \n",
    "    print(\"Accuracy: %0.2f (+/- %0.2f) [%s]\" \n",
    "          % (scores.mean(), scores.std(), label))  "
   ]
  },
  {
   "cell_type": "code",
   "execution_count": 2,
   "metadata": {},
   "outputs": [],
   "source": [
    "import pandas as  pd\n",
    "from mlxtend.preprocessing import TransactionEncoder   #类似文本分析库，将数据库项转为数字编码\n",
    "\n",
    "#组合测试数据\n",
    "shopping_records =  [['linux操作系统实践', '线性代数', 'python基础', '机器学习实训', 'spark大数据分析'],\n",
    "           ['线性代数', 'python进阶', 'spark大数据分析', '机器学习实训', 'git教程'],\n",
    "           ['linux操作系统实践', 'git教程', 'python进阶', '机器学习实训'],\n",
    "           ['linux操作系统实践', 'scikit-learn 机器学习', '操作系统', 'python进阶', 'spark大数据分析'],\n",
    "           ['scikit-learn 机器学习', '线性代数', 'python进阶', '计算机网络', '机器学习实训']] \n",
    "#转为DataFrame，以便做清洗和处理\n",
    "shopping_df = pd.DataFrame(shopping_records)   \n",
    "#转为数组\n",
    "def deal(data):\n",
    "    return data.dropna().tolist()\n",
    "df_arr = shopping_df.apply(deal,axis=1).tolist()\n",
    "\n"
   ]
  },
  {
   "cell_type": "code",
   "execution_count": 3,
   "metadata": {},
   "outputs": [],
   "source": [
    "from mlxtend.preprocessing import TransactionEncoder    # 可以用这种方法来转换为bool值，也可以用函数转换为0、1\n",
    " \n",
    "te = TransactionEncoder()   # 定义模型\n",
    "df_data = te.fit_transform(df_arr)\n",
    "data = pd.DataFrame(df_data,columns=te.columns_) "
   ]
  },
  {
   "cell_type": "code",
   "execution_count": 4,
   "metadata": {},
   "outputs": [],
   "source": [
    "from mlxtend.frequent_patterns import apriori\n",
    " \n",
    "frequent_itemsets = apriori(data,min_support=0.3,use_colnames=True)    # use_colnames=True表示使用元素名字，默认的False使用列名代表元素\n",
    "#frequent_itemsets = apriori(df,min_support=0.05)\n",
    "frequent_itemsets.sort_values(by='support',ascending=False,inplace=True)# 频繁项集可以按支持度排序"
   ]
  },
  {
   "cell_type": "code",
   "execution_count": 5,
   "metadata": {},
   "outputs": [
    {
     "name": "stdout",
     "output_type": "stream",
     "text": [
      "            antecedents         consequents  antecedent support  \\\n",
      "4               (git教程)  (python进阶, 机器学习实训)                 0.4   \n",
      "9  (spark大数据分析, 机器学习实训)              (线性代数)                 0.4   \n",
      "0                (线性代数)            (机器学习实训)                 0.6   \n",
      "1      (python进阶, 线性代数)            (机器学习实训)                 0.4   \n",
      "2     (python进阶, git教程)            (机器学习实训)                 0.4   \n",
      "3       (机器学习实训, git教程)          (python进阶)                 0.4   \n",
      "5   (scikit-learn 机器学习)          (python进阶)                 0.4   \n",
      "6               (git教程)            (机器学习实训)                 0.4   \n",
      "7               (git教程)          (python进阶)                 0.4   \n",
      "8    (spark大数据分析, 线性代数)            (机器学习实训)                 0.4   \n",
      "\n",
      "   consequent support  support  confidence      lift  leverage  conviction  \n",
      "4                 0.6      0.4         1.0  1.666667      0.16         inf  \n",
      "9                 0.6      0.4         1.0  1.666667      0.16         inf  \n",
      "0                 0.8      0.6         1.0  1.250000      0.12         inf  \n",
      "1                 0.8      0.4         1.0  1.250000      0.08         inf  \n",
      "2                 0.8      0.4         1.0  1.250000      0.08         inf  \n",
      "3                 0.8      0.4         1.0  1.250000      0.08         inf  \n",
      "5                 0.8      0.4         1.0  1.250000      0.08         inf  \n",
      "6                 0.8      0.4         1.0  1.250000      0.08         inf  \n",
      "7                 0.8      0.4         1.0  1.250000      0.08         inf  \n",
      "8                 0.8      0.4         1.0  1.250000      0.08         inf  \n"
     ]
    }
   ],
   "source": [
    "from mlxtend.frequent_patterns import association_rules\n",
    " \n",
    "association_rule = association_rules(frequent_itemsets,metric='confidence',min_threshold=0.9)   # metric可以有很多的度量选项，返回的表列名都可以作为参数\n",
    "association_rule.sort_values(by='leverage',ascending=False,inplace=True)    #关联规则可以按leverage排序\n",
    "print(association_rule)"
   ]
  },
  {
   "cell_type": "code",
   "execution_count": 6,
   "metadata": {},
   "outputs": [
    {
     "name": "stdout",
     "output_type": "stream",
     "text": [
      "2020-04-13 18:28:40\n",
      "2020-04-13 18:28:40.177321\n",
      "            antecedents         consequents  antecedent support  \\\n",
      "4               (git教程)  (python进阶, 机器学习实训)                 0.4   \n",
      "9  (spark大数据分析, 机器学习实训)              (线性代数)                 0.4   \n",
      "0                (线性代数)            (机器学习实训)                 0.6   \n",
      "1      (python进阶, 线性代数)            (机器学习实训)                 0.4   \n",
      "2     (python进阶, git教程)            (机器学习实训)                 0.4   \n",
      "3       (机器学习实训, git教程)          (python进阶)                 0.4   \n",
      "5   (scikit-learn 机器学习)          (python进阶)                 0.4   \n",
      "6               (git教程)            (机器学习实训)                 0.4   \n",
      "7               (git教程)          (python进阶)                 0.4   \n",
      "8    (spark大数据分析, 线性代数)            (机器学习实训)                 0.4   \n",
      "\n",
      "   consequent support  support  confidence      lift  leverage  conviction  \n",
      "4                 0.6      0.4         1.0  1.666667      0.16         inf  \n",
      "9                 0.6      0.4         1.0  1.666667      0.16         inf  \n",
      "0                 0.8      0.6         1.0  1.250000      0.12         inf  \n",
      "1                 0.8      0.4         1.0  1.250000      0.08         inf  \n",
      "2                 0.8      0.4         1.0  1.250000      0.08         inf  \n",
      "3                 0.8      0.4         1.0  1.250000      0.08         inf  \n",
      "5                 0.8      0.4         1.0  1.250000      0.08         inf  \n",
      "6                 0.8      0.4         1.0  1.250000      0.08         inf  \n",
      "7                 0.8      0.4         1.0  1.250000      0.08         inf  \n",
      "8                 0.8      0.4         1.0  1.250000      0.08         inf  \n",
      "程序运行时间：0秒\n",
      "2020-04-13 18:28:40\n",
      "2020-04-13 18:28:40.210595\n",
      "            antecedents         consequents  antecedent support  \\\n",
      "3               (git教程)  (python进阶, 机器学习实训)                 0.4   \n",
      "7  (spark大数据分析, 机器学习实训)              (线性代数)                 0.4   \n",
      "0                (线性代数)            (机器学习实训)                 0.6   \n",
      "1     (python进阶, git教程)            (机器学习实训)                 0.4   \n",
      "2       (机器学习实训, git教程)          (python进阶)                 0.4   \n",
      "4               (git教程)            (机器学习实训)                 0.4   \n",
      "5               (git教程)          (python进阶)                 0.4   \n",
      "6    (spark大数据分析, 线性代数)            (机器学习实训)                 0.4   \n",
      "8      (python进阶, 线性代数)            (机器学习实训)                 0.4   \n",
      "9   (scikit-learn 机器学习)          (python进阶)                 0.4   \n",
      "\n",
      "   consequent support  support  confidence      lift  leverage  conviction  \n",
      "3                 0.6      0.4         1.0  1.666667      0.16         inf  \n",
      "7                 0.6      0.4         1.0  1.666667      0.16         inf  \n",
      "0                 0.8      0.6         1.0  1.250000      0.12         inf  \n",
      "1                 0.8      0.4         1.0  1.250000      0.08         inf  \n",
      "2                 0.8      0.4         1.0  1.250000      0.08         inf  \n",
      "4                 0.8      0.4         1.0  1.250000      0.08         inf  \n",
      "5                 0.8      0.4         1.0  1.250000      0.08         inf  \n",
      "6                 0.8      0.4         1.0  1.250000      0.08         inf  \n",
      "8                 0.8      0.4         1.0  1.250000      0.08         inf  \n",
      "9                 0.8      0.4         1.0  1.250000      0.08         inf  \n",
      "程序运行时间：0秒\n"
     ]
    }
   ],
   "source": [
    "from mlxtend.frequent_patterns import apriori, fpgrowth\n",
    "import datetime \n",
    "\n",
    "print(datetime.datetime.now().strftime('%Y-%m-%d %H:%M:%S'))\n",
    "print(datetime.datetime.today())\n",
    "start = datetime.datetime.now()\n",
    "frequent_itemsets1 = apriori(data,min_support=0.4,use_colnames=True) \n",
    "frequent_itemsets1.sort_values(by='support',ascending=False,inplace=True)# 频繁项集可以按支持度排序\n",
    "association_rule1 = association_rules(frequent_itemsets1,metric='confidence',min_threshold=0.9)   # metric可以有很多的度量选项，返回的表列名都可以作为参数\n",
    "association_rule1.sort_values(by='leverage',ascending=False,inplace=True)    #关联规则可以按leverage排序\n",
    "print(association_rule1)\n",
    "end = datetime.datetime.now()\n",
    "print(\"程序运行时间：\"+str((end-start).seconds)+\"秒\")\n",
    "\n",
    "print(datetime.datetime.now().strftime('%Y-%m-%d %H:%M:%S'))\n",
    "print(datetime.datetime.today())\n",
    "start = datetime.datetime.now()\n",
    "frequent_itemsets2 = fpgrowth(data,min_support=0.4 ,use_colnames=True) \n",
    "frequent_itemsets2.sort_values(by='support',ascending=False,inplace=True)# 频繁项集可以按支持度排序\n",
    "association_rule2 = association_rules(frequent_itemsets2,metric='confidence',min_threshold=0.9)   # metric可以有很多的度量选项，返回的表列名都可以作为参数\n",
    "association_rule2.sort_values(by='leverage',ascending=False,inplace=True)    #关联规则可以按leverage排序\n",
    "print(association_rule2)\n",
    "end = datetime.datetime.now()\n",
    "print(\"程序运行时间：\"+str((end-start).seconds)+\"秒\")"
   ]
  },
  {
   "cell_type": "code",
   "execution_count": null,
   "metadata": {},
   "outputs": [],
   "source": []
  },
  {
   "cell_type": "code",
   "execution_count": null,
   "metadata": {},
   "outputs": [],
   "source": []
  }
 ],
 "metadata": {
  "kernelspec": {
   "display_name": "Python 3",
   "language": "python",
   "name": "python3"
  },
  "language_info": {
   "codemirror_mode": {
    "name": "ipython",
    "version": 3
   },
   "file_extension": ".py",
   "mimetype": "text/x-python",
   "name": "python",
   "nbconvert_exporter": "python",
   "pygments_lexer": "ipython3",
   "version": "3.7.7"
  },
  "toc": {
   "base_numbering": 1,
   "nav_menu": {},
   "number_sections": true,
   "sideBar": true,
   "skip_h1_title": false,
   "title_cell": "Table of Contents",
   "title_sidebar": "Contents",
   "toc_cell": false,
   "toc_position": {
    "height": "calc(100% - 180px)",
    "left": "10px",
    "top": "150px",
    "width": "384px"
   },
   "toc_section_display": true,
   "toc_window_display": true
  }
 },
 "nbformat": 4,
 "nbformat_minor": 2
}
