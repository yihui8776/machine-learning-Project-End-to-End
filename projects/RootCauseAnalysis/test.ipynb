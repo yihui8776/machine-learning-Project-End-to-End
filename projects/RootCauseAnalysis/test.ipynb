{
 "cells": [
  {
   "cell_type": "code",
   "execution_count": 1,
   "metadata": {
    "ExecuteTime": {
     "end_time": "2020-04-13T14:28:59.444422Z",
     "start_time": "2020-04-13T14:28:09.991Z"
    }
   },
   "outputs": [],
   "source": [
    "import org.apache.spark._\n",
    "import org.apache.spark.graphx._\n",
    "// 有的时候需要用到RDD来让一些例子正常运行\n",
    "import org.apache.spark.rdd.RDD"
   ]
  },
  {
   "cell_type": "code",
   "execution_count": 5,
   "metadata": {
    "ExecuteTime": {
     "end_time": "2020-04-13T14:30:46.207631Z",
     "start_time": "2020-04-13T14:30:41.986Z"
    }
   },
   "outputs": [
    {
     "data": {
      "text/plain": [
       "Name: Compile Error\n",
       "Message: <console>:17: error: not found: type VertexRDD\n",
       "         val vertices: VertexRDD[VD]\n",
       "                       ^\n",
       "<console>:18: error: not found: type EdgeRDD\n",
       "         val edges: EdgeRDD[ED]\n",
       "                    ^\n",
       "\n",
       "StackTrace: "
      ]
     },
     "execution_count": 5,
     "metadata": {},
     "output_type": "execute_result"
    }
   ],
   "source": [
    "class VertexProperty()\n",
    "case class UserProperty(val name: String) extends VertexProperty\n",
    "case class ProductProperty(val name: String, val price: Double) extends VertexProperty\n",
    "class Graph[VD, ED] {\n",
    "  val vertices: VertexRDD[VD]\n",
    "  val edges: EdgeRDD[ED]\n",
    "}\n",
    "// 图可能会有这个类型\n",
    "var graph: Graph[VertexProperty, String] = null"
   ]
  },
  {
   "cell_type": "code",
   "execution_count": 1,
   "metadata": {
    "ExecuteTime": {
     "end_time": "2020-04-14T01:19:33.092273Z",
     "start_time": "2020-04-14T01:19:32.862Z"
    }
   },
   "outputs": [],
   "source": [
    " import org.apache.spark.sql.hive.HiveContext"
   ]
  }
 ],
 "metadata": {
  "kernelspec": {
   "display_name": "apache_toree - Scala",
   "language": "scala",
   "name": "apache_toree_scala"
  },
  "language_info": {
   "codemirror_mode": "text/x-scala",
   "file_extension": ".scala",
   "mimetype": "text/x-scala",
   "name": "scala",
   "pygments_lexer": "scala",
   "version": "2.11.8"
  },
  "toc": {
   "base_numbering": 1,
   "nav_menu": {},
   "number_sections": true,
   "sideBar": true,
   "skip_h1_title": false,
   "title_cell": "Table of Contents",
   "title_sidebar": "Contents",
   "toc_cell": false,
   "toc_position": {},
   "toc_section_display": true,
   "toc_window_display": false
  }
 },
 "nbformat": 4,
 "nbformat_minor": 4
}
