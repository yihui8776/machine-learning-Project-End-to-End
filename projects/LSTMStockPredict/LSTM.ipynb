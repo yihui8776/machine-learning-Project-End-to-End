{
 "cells": [
  {
   "cell_type": "code",
   "execution_count": 2,
   "metadata": {},
   "outputs": [],
   "source": [
    "# -*- coding: UTF-8 -*-\n",
    "\"\"\"\n",
    "数据描述统计\n",
    "预测股票的长短期记忆神经网络\n",
    "评价统计性质\n",
    "\"\"\"\n",
    "\n",
    "# 保证脚本与Python3兼容\n",
    "from __future__ import print_function\n",
    "\n",
    "import numpy as np\n",
    "import pandas as pd\n",
    "import os\n",
    "from subprocess import check_output\n",
    "from keras.layers.core import Dense, Activation, Dropout\n",
    "from keras.layers.recurrent import LSTM\n",
    "from keras.models import Sequential\n",
    "from sklearn.model_selection import  train_test_split\n",
    "import time #helper libraries\n",
    "from sklearn.preprocessing import MinMaxScaler\n",
    "import matplotlib.pyplot as plt\n",
    "from numpy import newaxis\n",
    "\n",
    "import warnings\n",
    "\n",
    "warnings.filterwarnings(\"ignore\")\n",
    "\n",
    "def readData(path):\n",
    "    \"\"\"\n",
    "    使用pandas读取数据\n",
    "    \"\"\"\n",
    "    data = pd.read_csv(path)\n",
    "    cols = list(data.columns.values)\n",
    "    return data[cols]\n",
    "\n",
    "if __name__ == \"__main__\":\n",
    "    # 设置显示格式\n",
    "    pd.set_option('display.width', 1000)\n",
    "    homePath = os.path.dirname(os.path.abspath('__file__'))\n",
    "    # Windows下的存储路径与Linux并不相同\n",
    "    if os.name == \"nt\":\n",
    "        dataPath = \"%s\\\\prices.csv\" % homePath\n",
    "    else:\n",
    "        dataPath = \"%s/prices.csv\" % homePath\n",
    "    prices = readData(dataPath)\n",
    "    \n",
    "    \n",
    "    "
   ]
  },
  {
   "cell_type": "code",
   "execution_count": 4,
   "metadata": {},
   "outputs": [
    {
     "data": {
      "text/html": [
       "<div>\n",
       "<style scoped>\n",
       "    .dataframe tbody tr th:only-of-type {\n",
       "        vertical-align: middle;\n",
       "    }\n",
       "\n",
       "    .dataframe tbody tr th {\n",
       "        vertical-align: top;\n",
       "    }\n",
       "\n",
       "    .dataframe thead th {\n",
       "        text-align: right;\n",
       "    }\n",
       "</style>\n",
       "<table border=\"1\" class=\"dataframe\">\n",
       "  <thead>\n",
       "    <tr style=\"text-align: right;\">\n",
       "      <th></th>\n",
       "      <th>date</th>\n",
       "      <th>symbol</th>\n",
       "      <th>open</th>\n",
       "      <th>close</th>\n",
       "      <th>low</th>\n",
       "      <th>high</th>\n",
       "      <th>volume</th>\n",
       "    </tr>\n",
       "  </thead>\n",
       "  <tbody>\n",
       "    <tr>\n",
       "      <th>0</th>\n",
       "      <td>2016-01-05 00:00:00</td>\n",
       "      <td>WLTW</td>\n",
       "      <td>123.430000</td>\n",
       "      <td>125.839996</td>\n",
       "      <td>122.309998</td>\n",
       "      <td>126.250000</td>\n",
       "      <td>2163600.0</td>\n",
       "    </tr>\n",
       "    <tr>\n",
       "      <th>1</th>\n",
       "      <td>2016-01-06 00:00:00</td>\n",
       "      <td>WLTW</td>\n",
       "      <td>125.239998</td>\n",
       "      <td>119.980003</td>\n",
       "      <td>119.940002</td>\n",
       "      <td>125.540001</td>\n",
       "      <td>2386400.0</td>\n",
       "    </tr>\n",
       "    <tr>\n",
       "      <th>2</th>\n",
       "      <td>2016-01-07 00:00:00</td>\n",
       "      <td>WLTW</td>\n",
       "      <td>116.379997</td>\n",
       "      <td>114.949997</td>\n",
       "      <td>114.930000</td>\n",
       "      <td>119.739998</td>\n",
       "      <td>2489500.0</td>\n",
       "    </tr>\n",
       "    <tr>\n",
       "      <th>3</th>\n",
       "      <td>2016-01-08 00:00:00</td>\n",
       "      <td>WLTW</td>\n",
       "      <td>115.480003</td>\n",
       "      <td>116.620003</td>\n",
       "      <td>113.500000</td>\n",
       "      <td>117.440002</td>\n",
       "      <td>2006300.0</td>\n",
       "    </tr>\n",
       "    <tr>\n",
       "      <th>4</th>\n",
       "      <td>2016-01-11 00:00:00</td>\n",
       "      <td>WLTW</td>\n",
       "      <td>117.010002</td>\n",
       "      <td>114.970001</td>\n",
       "      <td>114.089996</td>\n",
       "      <td>117.330002</td>\n",
       "      <td>1408600.0</td>\n",
       "    </tr>\n",
       "  </tbody>\n",
       "</table>\n",
       "</div>"
      ],
      "text/plain": [
       "                  date symbol        open       close         low        high     volume\n",
       "0  2016-01-05 00:00:00   WLTW  123.430000  125.839996  122.309998  126.250000  2163600.0\n",
       "1  2016-01-06 00:00:00   WLTW  125.239998  119.980003  119.940002  125.540001  2386400.0\n",
       "2  2016-01-07 00:00:00   WLTW  116.379997  114.949997  114.930000  119.739998  2489500.0\n",
       "3  2016-01-08 00:00:00   WLTW  115.480003  116.620003  113.500000  117.440002  2006300.0\n",
       "4  2016-01-11 00:00:00   WLTW  117.010002  114.970001  114.089996  117.330002  1408600.0"
      ]
     },
     "execution_count": 4,
     "metadata": {},
     "output_type": "execute_result"
    }
   ],
   "source": [
    "#查看数据\n",
    "prices.head()"
   ]
  },
  {
   "cell_type": "code",
   "execution_count": 6,
   "metadata": {},
   "outputs": [
    {
     "data": {
      "text/plain": [
       "(1762, 1)"
      ]
     },
     "execution_count": 6,
     "metadata": {},
     "output_type": "execute_result"
    }
   ],
   "source": [
    "yahoo = prices[prices['symbol']=='YHOO']\n",
    "yahoo_stock_prices = yahoo.close.values.astype('float32')  #取收盘价\n",
    "yahoo_stock_prices = yahoo_stock_prices.reshape(1762, 1)   #转为数组\n",
    "yahoo_stock_prices.shape"
   ]
  },
  {
   "cell_type": "code",
   "execution_count": 12,
   "metadata": {},
   "outputs": [
    {
     "name": "stdout",
     "output_type": "stream",
     "text": [
      "            date symbol       open      close        low       high      volume\n",
      "713   2010-01-04   YHOO  16.940001  17.100000  16.879999  17.200001  16587400.0\n",
      "1181  2010-01-05   YHOO  17.219999  17.230000  17.000000  17.230000  11718100.0\n",
      "1649  2010-01-06   YHOO  17.170000  17.170000  17.070000  17.299999  16422000.0\n",
      "2117  2010-01-07   YHOO  16.809999  16.700001  16.570000  16.900000  31816300.0\n",
      "2585  2010-01-08   YHOO  16.680000  16.700001  16.620001  16.760000  15470000.0\n"
     ]
    },
    {
     "data": {
      "image/png": "[encoded data removed]",
      "text/plain": [
       "<Figure size 432x288 with 1 Axes>"
      ]
     },
     "metadata": {
      "needs_background": "light"
     },
     "output_type": "display_data"
    }
   ],
   "source": [
    "#查看价格趋势\n",
    "print(yahoo.head())\n",
    "plt.plot(yahoo_stock_prices)\n",
    "plt.show()\n"
   ]
  },
  {
   "cell_type": "code",
   "execution_count": 10,
   "metadata": {},
   "outputs": [],
   "source": [
    "# 标准化\n",
    "\n",
    "scaler = MinMaxScaler(feature_range=(0, 1))\n",
    "yahoo_stock_prices = scaler.fit_transform(yahoo_stock_prices)"
   ]
  },
  {
   "cell_type": "markdown",
   "metadata": {},
   "source": [
    "## 划分训练集测试集\n",
    "一般时间序列是按顺序排列，取前面一段时间数据，预测后面一个时间窗的数值。\n"
   ]
  },
  {
   "cell_type": "code",
   "execution_count": 14,
   "metadata": {},
   "outputs": [
    {
     "name": "stdout",
     "output_type": "stream",
     "text": [
      "1409 353\n"
     ]
    }
   ],
   "source": [
    "train_size = int(len(yahoo_stock_prices) * 0.80)    #前80%数据作为训练\n",
    "test_size = len(yahoo_stock_prices) - train_size\n",
    "train, test = yahoo_stock_prices[0:train_size,:], yahoo_stock_prices[train_size:len(yahoo_stock_prices),:]\n",
    "print(len(train), len(test))"
   ]
  },
  {
   "cell_type": "code",
   "execution_count": 15,
   "metadata": {},
   "outputs": [],
   "source": [
    "# 将数组转换为数据的矩阵\n",
    "def create_dataset(dataset, look_back=1):   #look_back默认为1表示预测一天后的\n",
    "\tdataX, dataY = [], []    #dataX为原始数据列，y就是它下一天的值，转为自回归问题。\n",
    "\tfor i in range(len(dataset)-look_back-1):\n",
    "\t\ta = dataset[i:(i+look_back), 0]  #t+look_bak时刻之前的数据\n",
    "\t\tdataX.append(a)   \n",
    "\t\tdataY.append(dataset[i + look_back, 0])  #t+look_back的数据\n",
    "\treturn np.array(dataX), np.array(dataY)"
   ]
  },
  {
   "cell_type": "code",
   "execution_count": 16,
   "metadata": {},
   "outputs": [],
   "source": [
    "# reshape into X=t and Y=t+1\n",
    "#t时刻以及t前的数据预测t+1时刻的值\n",
    "look_back = 1\n",
    "trainX, trainY = create_dataset(train, look_back)\n",
    "testX, testY = create_dataset(test, look_back)"
   ]
  },
  {
   "cell_type": "code",
   "execution_count": 19,
   "metadata": {},
   "outputs": [
    {
     "data": {
      "text/plain": [
       "(1407, 1)"
      ]
     },
     "execution_count": 19,
     "metadata": {},
     "output_type": "execute_result"
    }
   ],
   "source": [
    "trainX.shape "
   ]
  },
  {
   "cell_type": "code",
   "execution_count": 22,
   "metadata": {},
   "outputs": [
    {
     "data": {
      "text/plain": [
       "(1407, 1, 1)"
      ]
     },
     "execution_count": 22,
     "metadata": {},
     "output_type": "execute_result"
    }
   ],
   "source": [
    "#转为矩阵格式\n",
    "trainX =  trainX.reshape(trainX.shape[0], 1, trainX.shape[1])  \n",
    "testX = testX.reshape(testX.shape[0], 1, testX.shape[1])\n",
    "trainX.shape"
   ]
  },
  {
   "cell_type": "markdown",
   "metadata": {},
   "source": [
    "## 构建模型"
   ]
  },
  {
   "cell_type": "code",
   "execution_count": 23,
   "metadata": {},
   "outputs": [
    {
     "name": "stdout",
     "output_type": "stream",
     "text": [
      "WARNING:tensorflow:From /usr/local/python37/lib/python3.7/site-packages/tensorflow/python/framework/op_def_library.py:263: colocate_with (from tensorflow.python.framework.ops) is deprecated and will be removed in a future version.\n",
      "Instructions for updating:\n",
      "Colocations handled automatically by placer.\n",
      "WARNING:tensorflow:From /usr/local/python37/lib/python3.7/site-packages/keras/backend/tensorflow_backend.py:3445: calling dropout (from tensorflow.python.ops.nn_ops) with keep_prob is deprecated and will be removed in a future version.\n",
      "Instructions for updating:\n",
      "Please use `rate` instead of `keep_prob`. Rate should be set to `rate = 1 - keep_prob`.\n",
      "compilation time :  0.023905038833618164\n"
     ]
    }
   ],
   "source": [
    "\n",
    "model = Sequential()  #初始化序列模型\n",
    "\n",
    "model.add(LSTM(  \n",
    "    input_dim=1,\n",
    "    output_dim=50,\n",
    "    return_sequences=True))\n",
    "model.add(Dropout(0.2))\n",
    "\n",
    "model.add(LSTM(\n",
    "    100,\n",
    "    return_sequences=False))\n",
    "model.add(Dropout(0.2))\n",
    "\n",
    "model.add(Dense(\n",
    "    output_dim=1))\n",
    "model.add(Activation('linear'))\n",
    "\n",
    "start = time.time()\n",
    "model.compile(loss='mse', optimizer='rmsprop')\n",
    "print ('compilation time : ', time.time() - start)"
   ]
  },
  {
   "cell_type": "markdown",
   "metadata": {},
   "source": [
    "## 训练模型\n"
   ]
  },
  {
   "cell_type": "code",
   "execution_count": 25,
   "metadata": {},
   "outputs": [
    {
     "name": "stdout",
     "output_type": "stream",
     "text": [
      "Train on 1336 samples, validate on 71 samples\n",
      "Epoch 1/10\n",
      "1336/1336 [==============================] - 0s 70us/step - loss: 0.0019 - val_loss: 0.0019\n",
      "Epoch 2/10\n",
      "1336/1336 [==============================] - 0s 73us/step - loss: 0.0018 - val_loss: 3.5760e-04\n",
      "Epoch 3/10\n",
      "1336/1336 [==============================] - 0s 65us/step - loss: 0.0017 - val_loss: 4.5455e-04\n",
      "Epoch 4/10\n",
      "1336/1336 [==============================] - 0s 67us/step - loss: 0.0016 - val_loss: 0.0017\n",
      "Epoch 5/10\n",
      "1336/1336 [==============================] - 0s 63us/step - loss: 0.0017 - val_loss: 6.6882e-04\n",
      "Epoch 6/10\n",
      "1336/1336 [==============================] - 0s 70us/step - loss: 0.0017 - val_loss: 3.4790e-04\n",
      "Epoch 7/10\n",
      "1336/1336 [==============================] - 0s 66us/step - loss: 0.0016 - val_loss: 3.5506e-04\n",
      "Epoch 8/10\n",
      "1336/1336 [==============================] - 0s 72us/step - loss: 0.0016 - val_loss: 5.0360e-04\n",
      "Epoch 9/10\n",
      "1336/1336 [==============================] - 0s 67us/step - loss: 0.0015 - val_loss: 6.3813e-04\n",
      "Epoch 10/10\n",
      "1336/1336 [==============================] - 0s 64us/step - loss: 0.0013 - val_loss: 0.0017\n"
     ]
    },
    {
     "data": {
      "text/plain": [
       "<keras.callbacks.History at 0x7f4bdb7fd828>"
      ]
     },
     "execution_count": 25,
     "metadata": {},
     "output_type": "execute_result"
    }
   ],
   "source": [
    "model.fit(\n",
    "    trainX,\n",
    "    trainY,\n",
    "    batch_size=128,\n",
    "    nb_epoch=10,\n",
    "    validation_split=0.05)"
   ]
  },
  {
   "cell_type": "markdown",
   "metadata": {},
   "source": [
    "## 预测\n"
   ]
  },
  {
   "cell_type": "code",
   "execution_count": 26,
   "metadata": {},
   "outputs": [
    {
     "name": "stdout",
     "output_type": "stream",
     "text": [
      "[[0.59106416]]\n",
      "[[1.3321656]]\n",
      "[[2.901965]]\n",
      "[[6.2016664]]\n",
      "[[10.801828]]\n",
      "[[ 0.5910641]\n",
      " [ 1.3321655]\n",
      " [ 2.9019647]\n",
      " [ 6.2016654]\n",
      " [10.801827 ]]\n"
     ]
    },
    {
     "data": {
      "image/png": "[encoded data removed]",
      "text/plain": [
       "<Figure size 432x288 with 1 Axes>"
      ]
     },
     "metadata": {
      "needs_background": "light"
     },
     "output_type": "display_data"
    }
   ],
   "source": [
    "def plot_results_multiple(predicted_data, true_data,length):\n",
    "    plt.plot(scaler.inverse_transform(true_data.reshape(-1, 1))[length:])\n",
    "    plt.plot(scaler.inverse_transform(np.array(predicted_data).reshape(-1, 1))[length:])\n",
    "    plt.show()\n",
    "    \n",
    "#predict lenght consecutive values from a real one\n",
    "def predict_sequences_multiple(model, firstValue,length):\n",
    "    prediction_seqs = []\n",
    "    curr_frame = firstValue\n",
    "    \n",
    "    for i in range(length): \n",
    "        predicted = []        \n",
    "        \n",
    "        print(model.predict(curr_frame[newaxis,:,:]))\n",
    "        predicted.append(model.predict(curr_frame[newaxis,:,:])[0,0])\n",
    "        \n",
    "        curr_frame = curr_frame[0:]\n",
    "        curr_frame = np.insert(curr_frame[0:], i+1, predicted[-1], axis=0)\n",
    "        \n",
    "        prediction_seqs.append(predicted[-1])\n",
    "        \n",
    "    return prediction_seqs\n",
    "\n",
    "predict_length=5\n",
    "predictions = predict_sequences_multiple(model, testX[0], predict_length)\n",
    "print(scaler.inverse_transform(np.array(predictions).reshape(-1, 1)))\n",
    "plot_results_multiple(predictions, testY, predict_length)"
   ]
  }
 ],
 "metadata": {
  "kernelspec": {
   "display_name": "Python 3",
   "language": "python",
   "name": "python3"
  },
  "language_info": {
   "codemirror_mode": {
    "name": "ipython",
    "version": 3
   },
   "file_extension": ".py",
   "mimetype": "text/x-python",
   "name": "python",
   "nbconvert_exporter": "python",
   "pygments_lexer": "ipython3",
   "version": "3.7.0"
  }
 },
 "nbformat": 4,
 "nbformat_minor": 2
}
