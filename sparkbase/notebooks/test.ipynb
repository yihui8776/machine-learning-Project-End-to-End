{
 "cells": [
  {
   "cell_type": "code",
   "execution_count": 1,
   "metadata": {
    "ExecuteTime": {
     "end_time": "2020-04-03T01:38:40.621841Z",
     "start_time": "2020-04-03T01:37:39.082Z"
    }
   },
   "outputs": [
    {
     "name": "stdout",
     "output_type": "stream",
     "text": [
      "+---------+----+\n",
      "|    items|freq|\n",
      "+---------+----+\n",
      "|      [t]|   3|\n",
      "|   [t, x]|   3|\n",
      "|[t, x, z]|   3|\n",
      "|   [t, z]|   3|\n",
      "|      [s]|   3|\n",
      "+---------+----+\n",
      "only showing top 5 rows\n",
      "\n",
      "强关联规则：\n",
      "    antecedent consequent  confidence  lift\n",
      "0      [y, t]        [x]         1.0   1.5\n",
      "1      [y, t]        [z]         1.0   1.2\n",
      "2      [y, x]        [t]         1.0   2.0\n",
      "3      [y, x]        [z]         1.0   1.2\n",
      "4   [y, x, z]        [t]         1.0   2.0\n",
      "5   [y, t, z]        [x]         1.0   1.5\n",
      "6         [s]        [x]         1.0   1.5\n",
      "7         [y]        [t]         1.0   2.0\n",
      "8         [y]        [x]         1.0   1.5\n",
      "9         [y]        [z]         1.0   1.2\n",
      "10  [t, x, z]        [y]         1.0   2.0\n",
      "11     [x, z]        [t]         1.0   2.0\n",
      "12     [x, z]        [y]         1.0   2.0\n",
      "13     [t, z]        [x]         1.0   1.5\n",
      "14     [t, z]        [y]         1.0   2.0\n",
      "15        [t]        [x]         1.0   1.5\n",
      "16        [t]        [z]         1.0   1.2\n",
      "17        [t]        [y]         1.0   2.0\n",
      "18  [y, t, x]        [z]         1.0   1.2\n",
      "19     [y, z]        [t]         1.0   2.0\n",
      "20     [y, z]        [x]         1.0   1.5\n",
      "21     [t, x]        [z]         1.0   1.2\n",
      "22     [t, x]        [y]         1.0   2.0\n",
      "后项预测：\n",
      " ['x', 'z', 'y']\n",
      "spent ts: 0:00:57.622412\n"
     ]
    }
   ],
   "source": [
    "from pyspark import SparkConf\n",
    "from pyspark.sql import SparkSession\n",
    "from pyspark.ml.fpm import FPGrowth\n",
    "import datetime\n",
    "if __name__ == \"__main__\":\n",
    "    t1=datetime.datetime.now()\n",
    "    appname = \"FPgrowth\"\n",
    "    master =\"local[4]\" \n",
    "    \n",
    "    data_list=[[['r', 'z', 'h', 'k', 'p']]\\\n",
    "               ,[['z', 'y', 'x', 'w', 'v', 'u', 't', 's']]\\\n",
    "               ,[['s', 'x', 'o', 'n', 'r']]\\\n",
    "               ,[['x', 'z', 'y', 'm', 't', 's', 'q', 'e']]\\\n",
    "               ,[['z']]\\\n",
    "               ,[['x', 'z', 'y', 'r', 'q', 't', 'p']]]#数据集\n",
    "    conf = SparkConf().setAppName(appname).setMaster(master)  #spark配置                \n",
    "    spark=SparkSession.builder.config(conf=conf).getOrCreate()\n",
    "    data=spark.createDataFrame(data_list,[\"items\"])#将数据转为spark中的dataframe\n",
    "    fp = FPGrowth(minSupport=0.5, minConfidence=0.8)#模型建立\n",
    "    fpm  = fp.fit(data)#模型拟合\n",
    "    fpm .freqItemsets.show(5)#在控制台显示前五条频繁项集\n",
    "    assRule=fpm.associationRules#强关联规则\n",
    "    assRuleDf=assRule.toPandas()#转为python中的dataframe  \n",
    "    print('强关联规则：\\n',assRuleDf)\n",
    "    new_data = spark.createDataFrame([([\"s\", \"t\"], )], [\"items\"])#新的前项数据\n",
    "    print('后项预测：\\n',fpm.transform(new_data).first().prediction) #预测后项               \n",
    "    spark.stop()#关闭spark\n",
    "    t2=datetime.datetime.now()\n",
    "    print('spent ts:',t2-t1)"
   ]
  },
  {
   "cell_type": "code",
   "execution_count": null,
   "metadata": {},
   "outputs": [],
   "source": []
  }
 ],
 "metadata": {
  "kernelspec": {
   "display_name": "apache_toree - PySpark",
   "language": "python",
   "name": "apache_toree_pyspark"
  },
  "language_info": {
   "codemirror_mode": "text/x-ipython",
   "file_extension": ".py",
   "mimetype": "text/x-ipython",
   "name": "python",
   "pygments_lexer": "python",
   "version": "3.7.7\n"
  },
  "toc": {
   "base_numbering": 1,
   "nav_menu": {},
   "number_sections": true,
   "sideBar": true,
   "skip_h1_title": false,
   "title_cell": "Table of Contents",
   "title_sidebar": "Contents",
   "toc_cell": false,
   "toc_position": {},
   "toc_section_display": true,
   "toc_window_display": false
  }
 },
 "nbformat": 4,
 "nbformat_minor": 4
}
