{
 "cells": [
  {
   "cell_type": "code",
   "execution_count": 8,
   "metadata": {
    "tags": [
     "导入包"
    ]
   },
   "outputs": [
    {
     "name": "stdout",
     "output_type": "stream",
     "text": [
      "Index(['PassengerId', 'Survived', 'Pclass', 'Name', 'Sex', 'Age', 'SibSp', 'Parch', 'Ticket', 'Fare', 'Cabin', 'Embarked'], dtype='object')\n"
     ]
    }
   ],
   "source": [
    "# -*- coding: UTF-8 -*-\n",
    "\"\"\"\n",
    "此脚本用于展示数据初探\n",
    "\"\"\"\n",
    "\n",
    "# 保证脚本与Python3兼容\n",
    "from __future__ import print_function\n",
    "\n",
    "import os   #读取数据文件\n",
    "import sys\n",
    "import datetime\n",
    "import numpy as np  #科学计算\n",
    "import matplotlib.pyplot as plt  #画图包\n",
    "import pandas as pd   #做初步统计分析\n",
    "from collections import Counter #统计包\n",
    "\n",
    "import warnings\n",
    "warnings.filterwarnings(\"ignore\")  #忽略警告\n",
    " \n",
    "%matplotlib inline   \n",
    "\n",
    "def readData(path):\n",
    "    \"\"\"\n",
    "    使用pandas读取数据\n",
    "    \"\"\"\n",
    "    data = pd.read_csv(path)\n",
    "    cols = list(data.columns.values)\n",
    "    return data[cols]\n",
    "     \n",
    " \n",
    "def visualData(data):\n",
    "    \"\"\"\n",
    "    画直方图，直观了解数据\n",
    "    \"\"\"\n",
    "    data.hist(\n",
    "        rwidth=0.9, grid=True, figsize=(8, 8), alpha=0.6,bins=10, color=\"blue\")\n",
    "    plt.show()\n",
    " \n",
    "def sample_class_show(y,savepath='res.png'):\n",
    "    '''\n",
    "    绘制饼图，y是标签列表,多分类时候常用\n",
    "    '''\n",
    "    target_stats=Counter(y)\n",
    "    labels=list(target_stats.keys())\n",
    "    sizes = list(target_stats.values())\n",
    "    explode=tuple([0.1]*len(target_stats))\n",
    "    fig,ax  = plt.subplots()\n",
    "    ax.pie(sizes,explode=explode,labels=labels,shadow=True,autopct='%1.1f%%')\n",
    "    ax.axis('equal')\n",
    "    plt.savefig(savepath)\n",
    "    \n",
    "if __name__ == \"__main__\":\n",
    "    # 设置显示格式\n",
    "    pd.set_option('display.width', 1000)\n",
    "    homePath = os.path.dirname(os.path.abspath('__file__'))\n",
    "    # Windows下的存储路径与Linux并不相同\n",
    "    if os.name == \"nt\":\n",
    "        dataPath = \"%s\\\\input\\train.csv\" % homePath\n",
    "    else:\n",
    "        dataPath = \"%s//input/train.csv\" % homePath\n",
    "    train = readData(dataPath)\n",
    "    #train = train.drop_duplicates()\n",
    "\n",
    "    if os.name == \"nt\":\n",
    "        dataPath = \"%s\\\\input\\test.csv\" % homePath\n",
    "    else:\n",
    "        dataPath = \"%s/input/test.csv\" % homePath\n",
    "    test = readData(dataPath)\n",
    "    \n",
    "    print(train.columns) #显示各个字段"
   ]
  },
  {
   "cell_type": "code",
   "execution_count": 9,
   "metadata": {},
   "outputs": [
    {
     "name": "stdout",
     "output_type": "stream",
     "text": [
      "(891, 10)\n",
      "   Parch  SibSp Cabin            Ticket Embarked  Pclass   Age     Fare                                               Name     Sex\n",
      "0      0      1   NaN         A/5 21171        S       3  22.0   7.2500                            Braund, Mr. Owen Harris    male\n",
      "1      0      1   C85          PC 17599        C       1  38.0  71.2833  Cumings, Mrs. John Bradley (Florence Briggs Th...  female\n",
      "2      0      0   NaN  STON/O2. 3101282        S       3  26.0   7.9250                             Heikkinen, Miss. Laina  female\n",
      "3      0      1  C123            113803        S       1  35.0  53.1000       Futrelle, Mrs. Jacques Heath (Lily May Peel)  female\n",
      "4      0      0   NaN            373450        S       3  35.0   8.0500                           Allen, Mr. William Henry    male\n"
     ]
    }
   ],
   "source": [
    "#看特征数\n",
    "features = list(set(train.columns) - set(['PassengerId','Survived']))\n",
    "\n",
    "target = 'Survived' \n",
    "\n",
    "Id = 'PassengerId'\n",
    "\n",
    "#查看样本数和特征数\n",
    "print(train[features].shape)\n",
    "    \n",
    "# 查看数据的前5行\n",
    "#这个只能大概看下数据长什么样\n",
    "print(train[features].head())\n",
    "    # 查看每一列的计数及数据类型等信息\n"
   ]
  },
  {
   "cell_type": "code",
   "execution_count": 1,
   "metadata": {},
   "outputs": [],
   "source": [
    "import itertools"
   ]
  }
 ],
 "metadata": {
  "celltoolbar": "Tags",
  "kernelspec": {
   "display_name": "Python 3",
   "language": "python",
   "name": "python3"
  },
  "language_info": {
   "codemirror_mode": {
    "name": "ipython",
    "version": 3
   },
   "file_extension": ".py",
   "mimetype": "text/x-python",
   "name": "python",
   "nbconvert_exporter": "python",
   "pygments_lexer": "ipython3",
   "version": "3.7.7"
  }
 },
 "nbformat": 4,
 "nbformat_minor": 4
}
